{
  "nbformat": 4,
  "nbformat_minor": 0,
  "metadata": {
    "colab": {
      "provenance": []
    },
    "kernelspec": {
      "name": "python3",
      "display_name": "Python 3"
    },
    "language_info": {
      "name": "python"
    }
  },
  "cells": [
    {
      "cell_type": "code",
      "execution_count": null,
      "metadata": {
        "colab": {
          "base_uri": "https://localhost:8080/"
        },
        "id": "6flEYfwXCOWe",
        "outputId": "fec22d24-6402-497b-9321-294bb3931fde"
      },
      "outputs": [
        {
          "output_type": "stream",
          "name": "stdout",
          "text": [
            "Mounted at /content/drive\n"
          ]
        }
      ],
      "source": [
        "from google.colab import drive\n",
        "drive.mount ('/content/drive')"
      ]
    },
    {
      "cell_type": "code",
      "source": [
        "import numpy as np \n",
        "import pandas as pd\n",
        "from matplotlib import pyplot as ols\n",
        "import seaborn as sns\n",
        "path = \"/content/drive/MyDrive/messidata.csv\"\n",
        "df = pd.read_csv(path,encoding='latin1')\n",
        "\n",
        "df.head\n",
        "\n"
      ],
      "metadata": {
        "colab": {
          "base_uri": "https://localhost:8080/"
        },
        "id": "wScKEbPbCRWL",
        "outputId": "5d0c32c2-04a3-441a-aa04-276661241afe"
      },
      "execution_count": null,
      "outputs": [
        {
          "output_type": "execute_result",
          "data": {
            "text/plain": [
              "<bound method NDFrame.head of     Season            Competition     Matchday      Date Venue  \\\n",
              "0    04/05                 LaLiga           34  05-01/05     H   \n",
              "1    05/06  UEFA Champions League  Group Stage  11-02/05     H   \n",
              "2    05/06                 LaLiga           13  11/27/05     H   \n",
              "3    05/06                 LaLiga           19   1/15/06     H   \n",
              "4    05/06                 LaLiga           20   1/22/06     H   \n",
              "..     ...                    ...          ...       ...   ...   \n",
              "692  22/23                Ligue 1            9   10/1/22     H   \n",
              "693  22/23  UEFA Champions League  Group Stage   10/5/22     A   \n",
              "694  22/23                Ligue 1           12  10/21/22     A   \n",
              "695  22/23  UEFA Champions League  Group Stage  10/25/22     H   \n",
              "696  22/23  UEFA Champions League  Group Stage  10/25/22     H   \n",
              "\n",
              "                    Club              Opponent Result Playing_Position Minute  \\\n",
              "0           FC Barcelona     Albacete Balompie   2:00               CF   90+1   \n",
              "1           FC Barcelona  Panathinaikos Athens   5:00               RW     34   \n",
              "2           FC Barcelona      Racing Santander   4:01               RW     51   \n",
              "3           FC Barcelona       Athletic Bilbao   2:01               RW     50   \n",
              "4           FC Barcelona      Deportivo Alaves   2:00               CF     82   \n",
              "..                   ...                   ...    ...              ...    ...   \n",
              "692  Paris Saint-Germain              OGC Nice    2:1               AM    28'   \n",
              "693  Paris Saint-Germain            SL Benfica    1:1               AM    22'   \n",
              "694  Paris Saint-Germain            AC Ajaccio    0:3               CF    78'   \n",
              "695  Paris Saint-Germain         Maccabi Haifa    7:2               SS    19'   \n",
              "696  Paris Saint-Germain         Maccabi Haifa    7:2               SS    44'   \n",
              "\n",
              "    At_score              Type        Goal_assist  \n",
              "0       2:00  Left-footed shot  Ronaldinho Gaacho  \n",
              "1       3:00  Left-footed shot                NaN  \n",
              "2       2:00  Left-footed shot        Samuel Etoo  \n",
              "3       2:01  Left-footed shot    Mark van Bommel  \n",
              "4       2:00  Left-footed shot  Ronaldinho Gaacho  \n",
              "..       ...               ...                ...  \n",
              "692      1:0  Direct free kick                NaN  \n",
              "693      0:1  Left-footed shot             Neymar  \n",
              "694      0:2  Left-footed shot      Kylian Mbappé  \n",
              "695      1:0  Left-footed shot      Kylian Mbappé  \n",
              "696      4:1  Left-footed shot      Kylian Mbappé  \n",
              "\n",
              "[697 rows x 13 columns]>"
            ]
          },
          "metadata": {},
          "execution_count": 10
        }
      ]
    },
    {
      "cell_type": "code",
      "source": [
        "print(df.isnull().sum())\n",
        "sns.heatmap(df.isnull(),cbar=False, cmap='viridis')"
      ],
      "metadata": {
        "colab": {
          "base_uri": "https://localhost:8080/",
          "height": 601
        },
        "id": "M804H12OEJ4Y",
        "outputId": "e2b15667-a1e6-4188-a281-ed4e262d5665"
      },
      "execution_count": null,
      "outputs": [
        {
          "output_type": "stream",
          "name": "stdout",
          "text": [
            "Season                0\n",
            "Competition           0\n",
            "Matchday              0\n",
            "Date                  0\n",
            "Venue                 0\n",
            "Club                  0\n",
            "Opponent              0\n",
            "Result                0\n",
            "Playing_Position      0\n",
            "Minute                0\n",
            "At_score              0\n",
            "Type                  1\n",
            "Goal_assist         213\n",
            "dtype: int64\n"
          ]
        },
        {
          "output_type": "execute_result",
          "data": {
            "text/plain": [
              "<matplotlib.axes._subplots.AxesSubplot at 0x7f2d6ec2d4f0>"
            ]
          },
          "metadata": {},
          "execution_count": 11
        },
        {
          "output_type": "display_data",
          "data": {
            "text/plain": [
              "<Figure size 432x288 with 1 Axes>"
            ],
            "image/png": "[encoded data removed]"
          },
          "metadata": {
            "needs_background": "light"
          }
        }
      ]
    },
    {
      "cell_type": "code",
      "source": [
        "df.fillna('place kick',inplace=True)\n",
        "print(df.isnull().sum())\n",
        "sns.heatmap(df.isnull(),cbar=False, cmap='viridis')"
      ],
      "metadata": {
        "colab": {
          "base_uri": "https://localhost:8080/",
          "height": 601
        },
        "id": "xdbXDj7VET_w",
        "outputId": "5d4fb4b4-e44f-48b6-e46f-8f1e5124f5ca"
      },
      "execution_count": null,
      "outputs": [
        {
          "output_type": "stream",
          "name": "stdout",
          "text": [
            "Season              0\n",
            "Competition         0\n",
            "Matchday            0\n",
            "Date                0\n",
            "Venue               0\n",
            "Club                0\n",
            "Opponent            0\n",
            "Result              0\n",
            "Playing_Position    0\n",
            "Minute              0\n",
            "At_score            0\n",
            "Type                0\n",
            "Goal_assist         0\n",
            "dtype: int64\n"
          ]
        },
        {
          "output_type": "execute_result",
          "data": {
            "text/plain": [
              "<matplotlib.axes._subplots.AxesSubplot at 0x7f2d6c0ee220>"
            ]
          },
          "metadata": {},
          "execution_count": 12
        },
        {
          "output_type": "display_data",
          "data": {
            "text/plain": [
              "<Figure size 432x288 with 1 Axes>"
            ],
            "image/png": "[encoded data removed]"
          },
          "metadata": {
            "needs_background": "light"
          }
        }
      ]
    },
    {
      "cell_type": "code",
      "source": [
        "print(df.Date[0:5])\n",
        "df.Date = pd.to_datetime(df.Date)\n",
        "df.Date[0:5]"
      ],
      "metadata": {
        "colab": {
          "base_uri": "https://localhost:8080/"
        },
        "id": "JPpbHKnrEYAG",
        "outputId": "f20d96d0-93bf-421e-b9c7-b42688c4cb10"
      },
      "execution_count": null,
      "outputs": [
        {
          "output_type": "stream",
          "name": "stdout",
          "text": [
            "0    05-01/05\n",
            "1    11-02/05\n",
            "2    11/27/05\n",
            "3     1/15/06\n",
            "4     1/22/06\n",
            "Name: Date, dtype: object\n"
          ]
        },
        {
          "output_type": "execute_result",
          "data": {
            "text/plain": [
              "0   2005-05-01\n",
              "1   2005-11-02\n",
              "2   2005-11-27\n",
              "3   2006-01-15\n",
              "4   2006-01-22\n",
              "Name: Date, dtype: datetime64[ns]"
            ]
          },
          "metadata": {},
          "execution_count": 13
        }
      ]
    },
    {
      "cell_type": "code",
      "source": [
        "df.insert(12, \"goals\", 1, True)\n",
        "df.head()"
      ],
      "metadata": {
        "colab": {
          "base_uri": "https://localhost:8080/",
          "height": 424
        },
        "id": "zOZRkHx3EbUQ",
        "outputId": "99d8d0b1-8d7d-4682-a4fb-3a84e049b08c"
      },
      "execution_count": null,
      "outputs": [
        {
          "output_type": "execute_result",
          "data": {
            "text/plain": [
              "  Season            Competition     Matchday       Date Venue          Club  \\\n",
              "0  04/05                 LaLiga           34 2005-05-01     H  FC Barcelona   \n",
              "1  05/06  UEFA Champions League  Group Stage 2005-11-02     H  FC Barcelona   \n",
              "2  05/06                 LaLiga           13 2005-11-27     H  FC Barcelona   \n",
              "3  05/06                 LaLiga           19 2006-01-15     H  FC Barcelona   \n",
              "4  05/06                 LaLiga           20 2006-01-22     H  FC Barcelona   \n",
              "\n",
              "               Opponent Result Playing_Position Minute At_score  \\\n",
              "0     Albacete Balompie   2:00               CF   90+1     2:00   \n",
              "1  Panathinaikos Athens   5:00               RW     34     3:00   \n",
              "2      Racing Santander   4:01               RW     51     2:00   \n",
              "3       Athletic Bilbao   2:01               RW     50     2:01   \n",
              "4      Deportivo Alaves   2:00               CF     82     2:00   \n",
              "\n",
              "               Type  goals        Goal_assist  \n",
              "0  Left-footed shot      1  Ronaldinho Gaacho  \n",
              "1  Left-footed shot      1         place kick  \n",
              "2  Left-footed shot      1        Samuel Etoo  \n",
              "3  Left-footed shot      1    Mark van Bommel  \n",
              "4  Left-footed shot      1  Ronaldinho Gaacho  "
            ],
            "text/html": [
              "\n",
              "  <div id=\"df-08e39482-29fc-4b7b-9e1b-ad7e7647a93b\">\n",
              "    <div class=\"colab-df-container\">\n",
              "      <div>\n",
              "<style scoped>\n",
              "    .dataframe tbody tr th:only-of-type {\n",
              "        vertical-align: middle;\n",
              "    }\n",
              "\n",
              "    .dataframe tbody tr th {\n",
              "        vertical-align: top;\n",
              "    }\n",
              "\n",
              "    .dataframe thead th {\n",
              "        text-align: right;\n",
              "    }\n",
              "</style>\n",
              "<table border=\"1\" class=\"dataframe\">\n",
              "  <thead>\n",
              "    <tr style=\"text-align: right;\">\n",
              "      <th></th>\n",
              "      <th>Season</th>\n",
              "      <th>Competition</th>\n",
              "      <th>Matchday</th>\n",
              "      <th>Date</th>\n",
              "      <th>Venue</th>\n",
              "      <th>Club</th>\n",
              "      <th>Opponent</th>\n",
              "      <th>Result</th>\n",
              "      <th>Playing_Position</th>\n",
              "      <th>Minute</th>\n",
              "      <th>At_score</th>\n",
              "      <th>Type</th>\n",
              "      <th>goals</th>\n",
              "      <th>Goal_assist</th>\n",
              "    </tr>\n",
              "  </thead>\n",
              "  <tbody>\n",
              "    <tr>\n",
              "      <th>0</th>\n",
              "      <td>04/05</td>\n",
              "      <td>LaLiga</td>\n",
              "      <td>34</td>\n",
              "      <td>2005-05-01</td>\n",
              "      <td>H</td>\n",
              "      <td>FC Barcelona</td>\n",
              "      <td>Albacete Balompie</td>\n",
              "      <td>2:00</td>\n",
              "      <td>CF</td>\n",
              "      <td>90+1</td>\n",
              "      <td>2:00</td>\n",
              "      <td>Left-footed shot</td>\n",
              "      <td>1</td>\n",
              "      <td>Ronaldinho Gaacho</td>\n",
              "    </tr>\n",
              "    <tr>\n",
              "      <th>1</th>\n",
              "      <td>05/06</td>\n",
              "      <td>UEFA Champions League</td>\n",
              "      <td>Group Stage</td>\n",
              "      <td>2005-11-02</td>\n",
              "      <td>H</td>\n",
              "      <td>FC Barcelona</td>\n",
              "      <td>Panathinaikos Athens</td>\n",
              "      <td>5:00</td>\n",
              "      <td>RW</td>\n",
              "      <td>34</td>\n",
              "      <td>3:00</td>\n",
              "      <td>Left-footed shot</td>\n",
              "      <td>1</td>\n",
              "      <td>place kick</td>\n",
              "    </tr>\n",
              "    <tr>\n",
              "      <th>2</th>\n",
              "      <td>05/06</td>\n",
              "      <td>LaLiga</td>\n",
              "      <td>13</td>\n",
              "      <td>2005-11-27</td>\n",
              "      <td>H</td>\n",
              "      <td>FC Barcelona</td>\n",
              "      <td>Racing Santander</td>\n",
              "      <td>4:01</td>\n",
              "      <td>RW</td>\n",
              "      <td>51</td>\n",
              "      <td>2:00</td>\n",
              "      <td>Left-footed shot</td>\n",
              "      <td>1</td>\n",
              "      <td>Samuel Etoo</td>\n",
              "    </tr>\n",
              "    <tr>\n",
              "      <th>3</th>\n",
              "      <td>05/06</td>\n",
              "      <td>LaLiga</td>\n",
              "      <td>19</td>\n",
              "      <td>2006-01-15</td>\n",
              "      <td>H</td>\n",
              "      <td>FC Barcelona</td>\n",
              "      <td>Athletic Bilbao</td>\n",
              "      <td>2:01</td>\n",
              "      <td>RW</td>\n",
              "      <td>50</td>\n",
              "      <td>2:01</td>\n",
              "      <td>Left-footed shot</td>\n",
              "      <td>1</td>\n",
              "      <td>Mark van Bommel</td>\n",
              "    </tr>\n",
              "    <tr>\n",
              "      <th>4</th>\n",
              "      <td>05/06</td>\n",
              "      <td>LaLiga</td>\n",
              "      <td>20</td>\n",
              "      <td>2006-01-22</td>\n",
              "      <td>H</td>\n",
              "      <td>FC Barcelona</td>\n",
              "      <td>Deportivo Alaves</td>\n",
              "      <td>2:00</td>\n",
              "      <td>CF</td>\n",
              "      <td>82</td>\n",
              "      <td>2:00</td>\n",
              "      <td>Left-footed shot</td>\n",
              "      <td>1</td>\n",
              "      <td>Ronaldinho Gaacho</td>\n",
              "    </tr>\n",
              "  </tbody>\n",
              "</table>\n",
              "</div>\n",
              "      <button class=\"colab-df-convert\" onclick=\"convertToInteractive('df-08e39482-29fc-4b7b-9e1b-ad7e7647a93b')\"\n",
              "              title=\"Convert this dataframe to an interactive table.\"\n",
              "              style=\"display:none;\">\n",
              "        \n",
              "  <svg xmlns=\"http://www.w3.org/2000/svg\" height=\"24px\"viewBox=\"0 0 24 24\"\n",
              "       width=\"24px\">\n",
              "    <path d=\"M0 0h24v24H0V0z\" fill=\"none\"/>\n",
              "    <path d=\"M18.56 5.44l.94 2.06.94-2.06 2.06-.94-2.06-.94-.94-2.06-.94 2.06-2.06.94zm-11 1L8.5 8.5l.94-2.06 2.06-.94-2.06-.94L8.5 2.5l-.94 2.06-2.06.94zm10 10l.94 2.06.94-2.06 2.06-.94-2.06-.94-.94-2.06-.94 2.06-2.06.94z\"/><path d=\"M17.41 7.96l-1.37-1.37c-.4-.4-.92-.59-1.43-.59-.52 0-1.04.2-1.43.59L10.3 9.45l-7.72 7.72c-.78.78-.78 2.05 0 2.83L4 21.41c.39.39.9.59 1.41.59.51 0 1.02-.2 1.41-.59l7.78-7.78 2.81-2.81c.8-.78.8-2.07 0-2.86zM5.41 20L4 18.59l7.72-7.72 1.47 1.35L5.41 20z\"/>\n",
              "  </svg>\n",
              "      </button>\n",
              "      \n",
              "  <style>\n",
              "    .colab-df-container {\n",
              "      display:flex;\n",
              "      flex-wrap:wrap;\n",
              "      gap: 12px;\n",
              "    }\n",
              "\n",
              "    .colab-df-convert {\n",
              "      background-color: #E8F0FE;\n",
              "      border: none;\n",
              "      border-radius: 50%;\n",
              "      cursor: pointer;\n",
              "      display: none;\n",
              "      fill: #1967D2;\n",
              "      height: 32px;\n",
              "      padding: 0 0 0 0;\n",
              "      width: 32px;\n",
              "    }\n",
              "\n",
              "    .colab-df-convert:hover {\n",
              "      background-color: #E2EBFA;\n",
              "      box-shadow: 0px 1px 2px rgba(60, 64, 67, 0.3), 0px 1px 3px 1px rgba(60, 64, 67, 0.15);\n",
              "      fill: #174EA6;\n",
              "    }\n",
              "\n",
              "    [theme=dark] .colab-df-convert {\n",
              "      background-color: #3B4455;\n",
              "      fill: #D2E3FC;\n",
              "    }\n",
              "\n",
              "    [theme=dark] .colab-df-convert:hover {\n",
              "      background-color: #434B5C;\n",
              "      box-shadow: 0px 1px 3px 1px rgba(0, 0, 0, 0.15);\n",
              "      filter: drop-shadow(0px 1px 2px rgba(0, 0, 0, 0.3));\n",
              "      fill: #FFFFFF;\n",
              "    }\n",
              "  </style>\n",
              "\n",
              "      <script>\n",
              "        const buttonEl =\n",
              "          document.querySelector('#df-08e39482-29fc-4b7b-9e1b-ad7e7647a93b button.colab-df-convert');\n",
              "        buttonEl.style.display =\n",
              "          google.colab.kernel.accessAllowed ? 'block' : 'none';\n",
              "\n",
              "        async function convertToInteractive(key) {\n",
              "          const element = document.querySelector('#df-08e39482-29fc-4b7b-9e1b-ad7e7647a93b');\n",
              "          const dataTable =\n",
              "            await google.colab.kernel.invokeFunction('convertToInteractive',\n",
              "                                                     [key], {});\n",
              "          if (!dataTable) return;\n",
              "\n",
              "          const docLinkHtml = 'Like what you see? Visit the ' +\n",
              "            '<a target=\"_blank\" href=https://colab.research.google.com/notebooks/data_table.ipynb>data table notebook</a>'\n",
              "            + ' to learn more about interactive tables.';\n",
              "          element.innerHTML = '';\n",
              "          dataTable['output_type'] = 'display_data';\n",
              "          await google.colab.output.renderOutput(dataTable, element);\n",
              "          const docLink = document.createElement('div');\n",
              "          docLink.innerHTML = docLinkHtml;\n",
              "          element.appendChild(docLink);\n",
              "        }\n",
              "      </script>\n",
              "    </div>\n",
              "  </div>\n",
              "  "
            ]
          },
          "metadata": {},
          "execution_count": 14
        }
      ]
    },
    {
      "cell_type": "code",
      "source": [
        "goal_seasons= pd.DataFrame(df.groupby(df['Season'].tolist()).size(),columns=['goals'])\n",
        "goal_seasons[0:5]"
      ],
      "metadata": {
        "colab": {
          "base_uri": "https://localhost:8080/",
          "height": 206
        },
        "id": "1AF7LhKsEfk5",
        "outputId": "81f7540a-cef7-4953-964e-3f927cb75a63"
      },
      "execution_count": null,
      "outputs": [
        {
          "output_type": "execute_result",
          "data": {
            "text/plain": [
              "       goals\n",
              "04/05      1\n",
              "05/06      8\n",
              "06/07     17\n",
              "07/08     16\n",
              "08/09     38"
            ],
            "text/html": [
              "\n",
              "  <div id=\"df-909dbfc7-27ad-4146-8843-8839ae2fef34\">\n",
              "    <div class=\"colab-df-container\">\n",
              "      <div>\n",
              "<style scoped>\n",
              "    .dataframe tbody tr th:only-of-type {\n",
              "        vertical-align: middle;\n",
              "    }\n",
              "\n",
              "    .dataframe tbody tr th {\n",
              "        vertical-align: top;\n",
              "    }\n",
              "\n",
              "    .dataframe thead th {\n",
              "        text-align: right;\n",
              "    }\n",
              "</style>\n",
              "<table border=\"1\" class=\"dataframe\">\n",
              "  <thead>\n",
              "    <tr style=\"text-align: right;\">\n",
              "      <th></th>\n",
              "      <th>goals</th>\n",
              "    </tr>\n",
              "  </thead>\n",
              "  <tbody>\n",
              "    <tr>\n",
              "      <th>04/05</th>\n",
              "      <td>1</td>\n",
              "    </tr>\n",
              "    <tr>\n",
              "      <th>05/06</th>\n",
              "      <td>8</td>\n",
              "    </tr>\n",
              "    <tr>\n",
              "      <th>06/07</th>\n",
              "      <td>17</td>\n",
              "    </tr>\n",
              "    <tr>\n",
              "      <th>07/08</th>\n",
              "      <td>16</td>\n",
              "    </tr>\n",
              "    <tr>\n",
              "      <th>08/09</th>\n",
              "      <td>38</td>\n",
              "    </tr>\n",
              "  </tbody>\n",
              "</table>\n",
              "</div>\n",
              "      <button class=\"colab-df-convert\" onclick=\"convertToInteractive('df-909dbfc7-27ad-4146-8843-8839ae2fef34')\"\n",
              "              title=\"Convert this dataframe to an interactive table.\"\n",
              "              style=\"display:none;\">\n",
              "        \n",
              "  <svg xmlns=\"http://www.w3.org/2000/svg\" height=\"24px\"viewBox=\"0 0 24 24\"\n",
              "       width=\"24px\">\n",
              "    <path d=\"M0 0h24v24H0V0z\" fill=\"none\"/>\n",
              "    <path d=\"M18.56 5.44l.94 2.06.94-2.06 2.06-.94-2.06-.94-.94-2.06-.94 2.06-2.06.94zm-11 1L8.5 8.5l.94-2.06 2.06-.94-2.06-.94L8.5 2.5l-.94 2.06-2.06.94zm10 10l.94 2.06.94-2.06 2.06-.94-2.06-.94-.94-2.06-.94 2.06-2.06.94z\"/><path d=\"M17.41 7.96l-1.37-1.37c-.4-.4-.92-.59-1.43-.59-.52 0-1.04.2-1.43.59L10.3 9.45l-7.72 7.72c-.78.78-.78 2.05 0 2.83L4 21.41c.39.39.9.59 1.41.59.51 0 1.02-.2 1.41-.59l7.78-7.78 2.81-2.81c.8-.78.8-2.07 0-2.86zM5.41 20L4 18.59l7.72-7.72 1.47 1.35L5.41 20z\"/>\n",
              "  </svg>\n",
              "      </button>\n",
              "      \n",
              "  <style>\n",
              "    .colab-df-container {\n",
              "      display:flex;\n",
              "      flex-wrap:wrap;\n",
              "      gap: 12px;\n",
              "    }\n",
              "\n",
              "    .colab-df-convert {\n",
              "      background-color: #E8F0FE;\n",
              "      border: none;\n",
              "      border-radius: 50%;\n",
              "      cursor: pointer;\n",
              "      display: none;\n",
              "      fill: #1967D2;\n",
              "      height: 32px;\n",
              "      padding: 0 0 0 0;\n",
              "      width: 32px;\n",
              "    }\n",
              "\n",
              "    .colab-df-convert:hover {\n",
              "      background-color: #E2EBFA;\n",
              "      box-shadow: 0px 1px 2px rgba(60, 64, 67, 0.3), 0px 1px 3px 1px rgba(60, 64, 67, 0.15);\n",
              "      fill: #174EA6;\n",
              "    }\n",
              "\n",
              "    [theme=dark] .colab-df-convert {\n",
              "      background-color: #3B4455;\n",
              "      fill: #D2E3FC;\n",
              "    }\n",
              "\n",
              "    [theme=dark] .colab-df-convert:hover {\n",
              "      background-color: #434B5C;\n",
              "      box-shadow: 0px 1px 3px 1px rgba(0, 0, 0, 0.15);\n",
              "      filter: drop-shadow(0px 1px 2px rgba(0, 0, 0, 0.3));\n",
              "      fill: #FFFFFF;\n",
              "    }\n",
              "  </style>\n",
              "\n",
              "      <script>\n",
              "        const buttonEl =\n",
              "          document.querySelector('#df-909dbfc7-27ad-4146-8843-8839ae2fef34 button.colab-df-convert');\n",
              "        buttonEl.style.display =\n",
              "          google.colab.kernel.accessAllowed ? 'block' : 'none';\n",
              "\n",
              "        async function convertToInteractive(key) {\n",
              "          const element = document.querySelector('#df-909dbfc7-27ad-4146-8843-8839ae2fef34');\n",
              "          const dataTable =\n",
              "            await google.colab.kernel.invokeFunction('convertToInteractive',\n",
              "                                                     [key], {});\n",
              "          if (!dataTable) return;\n",
              "\n",
              "          const docLinkHtml = 'Like what you see? Visit the ' +\n",
              "            '<a target=\"_blank\" href=https://colab.research.google.com/notebooks/data_table.ipynb>data table notebook</a>'\n",
              "            + ' to learn more about interactive tables.';\n",
              "          element.innerHTML = '';\n",
              "          dataTable['output_type'] = 'display_data';\n",
              "          await google.colab.output.renderOutput(dataTable, element);\n",
              "          const docLink = document.createElement('div');\n",
              "          docLink.innerHTML = docLinkHtml;\n",
              "          element.appendChild(docLink);\n",
              "        }\n",
              "      </script>\n",
              "    </div>\n",
              "  </div>\n",
              "  "
            ]
          },
          "metadata": {},
          "execution_count": 15
        }
      ]
    },
    {
      "cell_type": "code",
      "source": [
        "goal_competition= pd.DataFrame(df.groupby(df.Competition.tolist()).size(),columns=['goals'])\n",
        "goal_competition"
      ],
      "metadata": {
        "colab": {
          "base_uri": "https://localhost:8080/",
          "height": 363
        },
        "id": "XoXnDf5NEizq",
        "outputId": "4ba0d99c-3916-402a-95ad-e1556bf84aca"
      },
      "execution_count": null,
      "outputs": [
        {
          "output_type": "execute_result",
          "data": {
            "text/plain": [
              "                        goals\n",
              "Champions League            1\n",
              "Copa del Rey               56\n",
              "FIFA Club World Cup         5\n",
              "LaLiga                    474\n",
              "Ligue 1                    14\n",
              "Supercopa                  14\n",
              "TrophÃ©e des Champions      1\n",
              "Trophée des Champions       1\n",
              "UEFA Champions League     128\n",
              "UEFA Super Cup              3"
            ],
            "text/html": [
              "\n",
              "  <div id=\"df-40035bc3-c547-440e-a361-0c0fb378a175\">\n",
              "    <div class=\"colab-df-container\">\n",
              "      <div>\n",
              "<style scoped>\n",
              "    .dataframe tbody tr th:only-of-type {\n",
              "        vertical-align: middle;\n",
              "    }\n",
              "\n",
              "    .dataframe tbody tr th {\n",
              "        vertical-align: top;\n",
              "    }\n",
              "\n",
              "    .dataframe thead th {\n",
              "        text-align: right;\n",
              "    }\n",
              "</style>\n",
              "<table border=\"1\" class=\"dataframe\">\n",
              "  <thead>\n",
              "    <tr style=\"text-align: right;\">\n",
              "      <th></th>\n",
              "      <th>goals</th>\n",
              "    </tr>\n",
              "  </thead>\n",
              "  <tbody>\n",
              "    <tr>\n",
              "      <th>Champions League</th>\n",
              "      <td>1</td>\n",
              "    </tr>\n",
              "    <tr>\n",
              "      <th>Copa del Rey</th>\n",
              "      <td>56</td>\n",
              "    </tr>\n",
              "    <tr>\n",
              "      <th>FIFA Club World Cup</th>\n",
              "      <td>5</td>\n",
              "    </tr>\n",
              "    <tr>\n",
              "      <th>LaLiga</th>\n",
              "      <td>474</td>\n",
              "    </tr>\n",
              "    <tr>\n",
              "      <th>Ligue 1</th>\n",
              "      <td>14</td>\n",
              "    </tr>\n",
              "    <tr>\n",
              "      <th>Supercopa</th>\n",
              "      <td>14</td>\n",
              "    </tr>\n",
              "    <tr>\n",
              "      <th>TrophÃ©e des Champions</th>\n",
              "      <td>1</td>\n",
              "    </tr>\n",
              "    <tr>\n",
              "      <th>Trophée des Champions</th>\n",
              "      <td>1</td>\n",
              "    </tr>\n",
              "    <tr>\n",
              "      <th>UEFA Champions League</th>\n",
              "      <td>128</td>\n",
              "    </tr>\n",
              "    <tr>\n",
              "      <th>UEFA Super Cup</th>\n",
              "      <td>3</td>\n",
              "    </tr>\n",
              "  </tbody>\n",
              "</table>\n",
              "</div>\n",
              "      <button class=\"colab-df-convert\" onclick=\"convertToInteractive('df-40035bc3-c547-440e-a361-0c0fb378a175')\"\n",
              "              title=\"Convert this dataframe to an interactive table.\"\n",
              "              style=\"display:none;\">\n",
              "        \n",
              "  <svg xmlns=\"http://www.w3.org/2000/svg\" height=\"24px\"viewBox=\"0 0 24 24\"\n",
              "       width=\"24px\">\n",
              "    <path d=\"M0 0h24v24H0V0z\" fill=\"none\"/>\n",
              "    <path d=\"M18.56 5.44l.94 2.06.94-2.06 2.06-.94-2.06-.94-.94-2.06-.94 2.06-2.06.94zm-11 1L8.5 8.5l.94-2.06 2.06-.94-2.06-.94L8.5 2.5l-.94 2.06-2.06.94zm10 10l.94 2.06.94-2.06 2.06-.94-2.06-.94-.94-2.06-.94 2.06-2.06.94z\"/><path d=\"M17.41 7.96l-1.37-1.37c-.4-.4-.92-.59-1.43-.59-.52 0-1.04.2-1.43.59L10.3 9.45l-7.72 7.72c-.78.78-.78 2.05 0 2.83L4 21.41c.39.39.9.59 1.41.59.51 0 1.02-.2 1.41-.59l7.78-7.78 2.81-2.81c.8-.78.8-2.07 0-2.86zM5.41 20L4 18.59l7.72-7.72 1.47 1.35L5.41 20z\"/>\n",
              "  </svg>\n",
              "      </button>\n",
              "      \n",
              "  <style>\n",
              "    .colab-df-container {\n",
              "      display:flex;\n",
              "      flex-wrap:wrap;\n",
              "      gap: 12px;\n",
              "    }\n",
              "\n",
              "    .colab-df-convert {\n",
              "      background-color: #E8F0FE;\n",
              "      border: none;\n",
              "      border-radius: 50%;\n",
              "      cursor: pointer;\n",
              "      display: none;\n",
              "      fill: #1967D2;\n",
              "      height: 32px;\n",
              "      padding: 0 0 0 0;\n",
              "      width: 32px;\n",
              "    }\n",
              "\n",
              "    .colab-df-convert:hover {\n",
              "      background-color: #E2EBFA;\n",
              "      box-shadow: 0px 1px 2px rgba(60, 64, 67, 0.3), 0px 1px 3px 1px rgba(60, 64, 67, 0.15);\n",
              "      fill: #174EA6;\n",
              "    }\n",
              "\n",
              "    [theme=dark] .colab-df-convert {\n",
              "      background-color: #3B4455;\n",
              "      fill: #D2E3FC;\n",
              "    }\n",
              "\n",
              "    [theme=dark] .colab-df-convert:hover {\n",
              "      background-color: #434B5C;\n",
              "      box-shadow: 0px 1px 3px 1px rgba(0, 0, 0, 0.15);\n",
              "      filter: drop-shadow(0px 1px 2px rgba(0, 0, 0, 0.3));\n",
              "      fill: #FFFFFF;\n",
              "    }\n",
              "  </style>\n",
              "\n",
              "      <script>\n",
              "        const buttonEl =\n",
              "          document.querySelector('#df-40035bc3-c547-440e-a361-0c0fb378a175 button.colab-df-convert');\n",
              "        buttonEl.style.display =\n",
              "          google.colab.kernel.accessAllowed ? 'block' : 'none';\n",
              "\n",
              "        async function convertToInteractive(key) {\n",
              "          const element = document.querySelector('#df-40035bc3-c547-440e-a361-0c0fb378a175');\n",
              "          const dataTable =\n",
              "            await google.colab.kernel.invokeFunction('convertToInteractive',\n",
              "                                                     [key], {});\n",
              "          if (!dataTable) return;\n",
              "\n",
              "          const docLinkHtml = 'Like what you see? Visit the ' +\n",
              "            '<a target=\"_blank\" href=https://colab.research.google.com/notebooks/data_table.ipynb>data table notebook</a>'\n",
              "            + ' to learn more about interactive tables.';\n",
              "          element.innerHTML = '';\n",
              "          dataTable['output_type'] = 'display_data';\n",
              "          await google.colab.output.renderOutput(dataTable, element);\n",
              "          const docLink = document.createElement('div');\n",
              "          docLink.innerHTML = docLinkHtml;\n",
              "          element.appendChild(docLink);\n",
              "        }\n",
              "      </script>\n",
              "    </div>\n",
              "  </div>\n",
              "  "
            ]
          },
          "metadata": {},
          "execution_count": 16
        }
      ]
    },
    {
      "cell_type": "code",
      "source": [
        "import plotly.graph_objects as go\n",
        "np.random.seed(42)\n",
        "\n",
        "# Generate graph using Figure Constructor\n",
        "layout = go.Layout(\n",
        "    title=\"Scoring over the seasons\",\n",
        "    xaxis_title=\"Seasons\",\n",
        "    yaxis_title=\"Goals\"\n",
        ")\n",
        "\n",
        "fig = go.Figure(\n",
        "    data=go.Scatter(x= goal_seasons.index, y=goal_seasons.goals),\n",
        "    layout=layout\n",
        ")\n",
        "fig.show()"
      ],
      "metadata": {
        "colab": {
          "base_uri": "https://localhost:8080/",
          "height": 542
        },
        "id": "AOeVkBYKEnQM",
        "outputId": "a67c1fc9-48d2-457f-d5b3-451276dd9a33"
      },
      "execution_count": null,
      "outputs": [
        {
          "output_type": "display_data",
          "data": {
            "text/html": [
              "<html>\n",
              "<head><meta charset=\"utf-8\" /></head>\n",
              "<body>\n",
              "    <div>            <script src=\"https://cdnjs.cloudflare.com/ajax/libs/mathjax/2.7.5/MathJax.js?config=TeX-AMS-MML_SVG\"></script><script type=\"text/javascript\">if (window.MathJax) {MathJax.Hub.Config({SVG: {font: \"STIX-Web\"}});}</script>                <script type=\"text/javascript\">window.PlotlyConfig = {MathJaxConfig: 'local'};</script>\n",
              "        <script src=\"https://cdn.plot.ly/plotly-2.8.3.min.js\"></script>                <div id=\"bd96565b-b86a-49b2-8ade-e921e6a4bf62\" class=\"plotly-graph-div\" style=\"height:525px; width:100%;\"></div>            <script type=\"text/javascript\">                                    window.PLOTLYENV=window.PLOTLYENV || {};                                    if (document.getElementById(\"bd96565b-b86a-49b2-8ade-e921e6a4bf62\")) {                    Plotly.newPlot(                        \"bd96565b-b86a-49b2-8ade-e921e6a4bf62\",                        [{\"x\":[\"04/05\",\"05/06\",\"06/07\",\"07/08\",\"08/09\",\"09/10\",\"10/11\",\"11-Dec\",\"13/14\",\"14/15\",\"15/16\",\"16/17\",\"17/18\",\"18/19\",\"19/20\",\"20/21\",\"21/22\",\"22/23\",\"Dec-13\"],\"y\":[1,8,17,16,38,47,53,73,41,58,41,54,45,51,31,38,14,11,60],\"type\":\"scatter\"}],                        {\"title\":{\"text\":\"Scoring over the seasons\"},\"xaxis\":{\"title\":{\"text\":\"Seasons\"}},\"yaxis\":{\"title\":{\"text\":\"Goals\"}},\"template\":{\"data\":{\"bar\":[{\"error_x\":{\"color\":\"#2a3f5f\"},\"error_y\":{\"color\":\"#2a3f5f\"},\"marker\":{\"line\":{\"color\":\"#E5ECF6\",\"width\":0.5},\"pattern\":{\"fillmode\":\"overlay\",\"size\":10,\"solidity\":0.2}},\"type\":\"bar\"}],\"barpolar\":[{\"marker\":{\"line\":{\"color\":\"#E5ECF6\",\"width\":0.5},\"pattern\":{\"fillmode\":\"overlay\",\"size\":10,\"solidity\":0.2}},\"type\":\"barpolar\"}],\"carpet\":[{\"aaxis\":{\"endlinecolor\":\"#2a3f5f\",\"gridcolor\":\"white\",\"linecolor\":\"white\",\"minorgridcolor\":\"white\",\"startlinecolor\":\"#2a3f5f\"},\"baxis\":{\"endlinecolor\":\"#2a3f5f\",\"gridcolor\":\"white\",\"linecolor\":\"white\",\"minorgridcolor\":\"white\",\"startlinecolor\":\"#2a3f5f\"},\"type\":\"carpet\"}],\"choropleth\":[{\"colorbar\":{\"outlinewidth\":0,\"ticks\":\"\"},\"type\":\"choropleth\"}],\"contour\":[{\"colorbar\":{\"outlinewidth\":0,\"ticks\":\"\"},\"colorscale\":[[0.0,\"#0d0887\"],[0.1111111111111111,\"#46039f\"],[0.2222222222222222,\"#7201a8\"],[0.3333333333333333,\"#9c179e\"],[0.4444444444444444,\"#bd3786\"],[0.5555555555555556,\"#d8576b\"],[0.6666666666666666,\"#ed7953\"],[0.7777777777777778,\"#fb9f3a\"],[0.8888888888888888,\"#fdca26\"],[1.0,\"#f0f921\"]],\"type\":\"contour\"}],\"contourcarpet\":[{\"colorbar\":{\"outlinewidth\":0,\"ticks\":\"\"},\"type\":\"contourcarpet\"}],\"heatmap\":[{\"colorbar\":{\"outlinewidth\":0,\"ticks\":\"\"},\"colorscale\":[[0.0,\"#0d0887\"],[0.1111111111111111,\"#46039f\"],[0.2222222222222222,\"#7201a8\"],[0.3333333333333333,\"#9c179e\"],[0.4444444444444444,\"#bd3786\"],[0.5555555555555556,\"#d8576b\"],[0.6666666666666666,\"#ed7953\"],[0.7777777777777778,\"#fb9f3a\"],[0.8888888888888888,\"#fdca26\"],[1.0,\"#f0f921\"]],\"type\":\"heatmap\"}],\"heatmapgl\":[{\"colorbar\":{\"outlinewidth\":0,\"ticks\":\"\"},\"colorscale\":[[0.0,\"#0d0887\"],[0.1111111111111111,\"#46039f\"],[0.2222222222222222,\"#7201a8\"],[0.3333333333333333,\"#9c179e\"],[0.4444444444444444,\"#bd3786\"],[0.5555555555555556,\"#d8576b\"],[0.6666666666666666,\"#ed7953\"],[0.7777777777777778,\"#fb9f3a\"],[0.8888888888888888,\"#fdca26\"],[1.0,\"#f0f921\"]],\"type\":\"heatmapgl\"}],\"histogram\":[{\"marker\":{\"pattern\":{\"fillmode\":\"overlay\",\"size\":10,\"solidity\":0.2}},\"type\":\"histogram\"}],\"histogram2d\":[{\"colorbar\":{\"outlinewidth\":0,\"ticks\":\"\"},\"colorscale\":[[0.0,\"#0d0887\"],[0.1111111111111111,\"#46039f\"],[0.2222222222222222,\"#7201a8\"],[0.3333333333333333,\"#9c179e\"],[0.4444444444444444,\"#bd3786\"],[0.5555555555555556,\"#d8576b\"],[0.6666666666666666,\"#ed7953\"],[0.7777777777777778,\"#fb9f3a\"],[0.8888888888888888,\"#fdca26\"],[1.0,\"#f0f921\"]],\"type\":\"histogram2d\"}],\"histogram2dcontour\":[{\"colorbar\":{\"outlinewidth\":0,\"ticks\":\"\"},\"colorscale\":[[0.0,\"#0d0887\"],[0.1111111111111111,\"#46039f\"],[0.2222222222222222,\"#7201a8\"],[0.3333333333333333,\"#9c179e\"],[0.4444444444444444,\"#bd3786\"],[0.5555555555555556,\"#d8576b\"],[0.6666666666666666,\"#ed7953\"],[0.7777777777777778,\"#fb9f3a\"],[0.8888888888888888,\"#fdca26\"],[1.0,\"#f0f921\"]],\"type\":\"histogram2dcontour\"}],\"mesh3d\":[{\"colorbar\":{\"outlinewidth\":0,\"ticks\":\"\"},\"type\":\"mesh3d\"}],\"parcoords\":[{\"line\":{\"colorbar\":{\"outlinewidth\":0,\"ticks\":\"\"}},\"type\":\"parcoords\"}],\"pie\":[{\"automargin\":true,\"type\":\"pie\"}],\"scatter\":[{\"marker\":{\"colorbar\":{\"outlinewidth\":0,\"ticks\":\"\"}},\"type\":\"scatter\"}],\"scatter3d\":[{\"line\":{\"colorbar\":{\"outlinewidth\":0,\"ticks\":\"\"}},\"marker\":{\"colorbar\":{\"outlinewidth\":0,\"ticks\":\"\"}},\"type\":\"scatter3d\"}],\"scattercarpet\":[{\"marker\":{\"colorbar\":{\"outlinewidth\":0,\"ticks\":\"\"}},\"type\":\"scattercarpet\"}],\"scattergeo\":[{\"marker\":{\"colorbar\":{\"outlinewidth\":0,\"ticks\":\"\"}},\"type\":\"scattergeo\"}],\"scattergl\":[{\"marker\":{\"colorbar\":{\"outlinewidth\":0,\"ticks\":\"\"}},\"type\":\"scattergl\"}],\"scattermapbox\":[{\"marker\":{\"colorbar\":{\"outlinewidth\":0,\"ticks\":\"\"}},\"type\":\"scattermapbox\"}],\"scatterpolar\":[{\"marker\":{\"colorbar\":{\"outlinewidth\":0,\"ticks\":\"\"}},\"type\":\"scatterpolar\"}],\"scatterpolargl\":[{\"marker\":{\"colorbar\":{\"outlinewidth\":0,\"ticks\":\"\"}},\"type\":\"scatterpolargl\"}],\"scatterternary\":[{\"marker\":{\"colorbar\":{\"outlinewidth\":0,\"ticks\":\"\"}},\"type\":\"scatterternary\"}],\"surface\":[{\"colorbar\":{\"outlinewidth\":0,\"ticks\":\"\"},\"colorscale\":[[0.0,\"#0d0887\"],[0.1111111111111111,\"#46039f\"],[0.2222222222222222,\"#7201a8\"],[0.3333333333333333,\"#9c179e\"],[0.4444444444444444,\"#bd3786\"],[0.5555555555555556,\"#d8576b\"],[0.6666666666666666,\"#ed7953\"],[0.7777777777777778,\"#fb9f3a\"],[0.8888888888888888,\"#fdca26\"],[1.0,\"#f0f921\"]],\"type\":\"surface\"}],\"table\":[{\"cells\":{\"fill\":{\"color\":\"#EBF0F8\"},\"line\":{\"color\":\"white\"}},\"header\":{\"fill\":{\"color\":\"#C8D4E3\"},\"line\":{\"color\":\"white\"}},\"type\":\"table\"}]},\"layout\":{\"annotationdefaults\":{\"arrowcolor\":\"#2a3f5f\",\"arrowhead\":0,\"arrowwidth\":1},\"autotypenumbers\":\"strict\",\"coloraxis\":{\"colorbar\":{\"outlinewidth\":0,\"ticks\":\"\"}},\"colorscale\":{\"diverging\":[[0,\"#8e0152\"],[0.1,\"#c51b7d\"],[0.2,\"#de77ae\"],[0.3,\"#f1b6da\"],[0.4,\"#fde0ef\"],[0.5,\"#f7f7f7\"],[0.6,\"#e6f5d0\"],[0.7,\"#b8e186\"],[0.8,\"#7fbc41\"],[0.9,\"#4d9221\"],[1,\"#276419\"]],\"sequential\":[[0.0,\"#0d0887\"],[0.1111111111111111,\"#46039f\"],[0.2222222222222222,\"#7201a8\"],[0.3333333333333333,\"#9c179e\"],[0.4444444444444444,\"#bd3786\"],[0.5555555555555556,\"#d8576b\"],[0.6666666666666666,\"#ed7953\"],[0.7777777777777778,\"#fb9f3a\"],[0.8888888888888888,\"#fdca26\"],[1.0,\"#f0f921\"]],\"sequentialminus\":[[0.0,\"#0d0887\"],[0.1111111111111111,\"#46039f\"],[0.2222222222222222,\"#7201a8\"],[0.3333333333333333,\"#9c179e\"],[0.4444444444444444,\"#bd3786\"],[0.5555555555555556,\"#d8576b\"],[0.6666666666666666,\"#ed7953\"],[0.7777777777777778,\"#fb9f3a\"],[0.8888888888888888,\"#fdca26\"],[1.0,\"#f0f921\"]]},\"colorway\":[\"#636efa\",\"#EF553B\",\"#00cc96\",\"#ab63fa\",\"#FFA15A\",\"#19d3f3\",\"#FF6692\",\"#B6E880\",\"#FF97FF\",\"#FECB52\"],\"font\":{\"color\":\"#2a3f5f\"},\"geo\":{\"bgcolor\":\"white\",\"lakecolor\":\"white\",\"landcolor\":\"#E5ECF6\",\"showlakes\":true,\"showland\":true,\"subunitcolor\":\"white\"},\"hoverlabel\":{\"align\":\"left\"},\"hovermode\":\"closest\",\"mapbox\":{\"style\":\"light\"},\"paper_bgcolor\":\"white\",\"plot_bgcolor\":\"#E5ECF6\",\"polar\":{\"angularaxis\":{\"gridcolor\":\"white\",\"linecolor\":\"white\",\"ticks\":\"\"},\"bgcolor\":\"#E5ECF6\",\"radialaxis\":{\"gridcolor\":\"white\",\"linecolor\":\"white\",\"ticks\":\"\"}},\"scene\":{\"xaxis\":{\"backgroundcolor\":\"#E5ECF6\",\"gridcolor\":\"white\",\"gridwidth\":2,\"linecolor\":\"white\",\"showbackground\":true,\"ticks\":\"\",\"zerolinecolor\":\"white\"},\"yaxis\":{\"backgroundcolor\":\"#E5ECF6\",\"gridcolor\":\"white\",\"gridwidth\":2,\"linecolor\":\"white\",\"showbackground\":true,\"ticks\":\"\",\"zerolinecolor\":\"white\"},\"zaxis\":{\"backgroundcolor\":\"#E5ECF6\",\"gridcolor\":\"white\",\"gridwidth\":2,\"linecolor\":\"white\",\"showbackground\":true,\"ticks\":\"\",\"zerolinecolor\":\"white\"}},\"shapedefaults\":{\"line\":{\"color\":\"#2a3f5f\"}},\"ternary\":{\"aaxis\":{\"gridcolor\":\"white\",\"linecolor\":\"white\",\"ticks\":\"\"},\"baxis\":{\"gridcolor\":\"white\",\"linecolor\":\"white\",\"ticks\":\"\"},\"bgcolor\":\"#E5ECF6\",\"caxis\":{\"gridcolor\":\"white\",\"linecolor\":\"white\",\"ticks\":\"\"}},\"title\":{\"x\":0.05},\"xaxis\":{\"automargin\":true,\"gridcolor\":\"white\",\"linecolor\":\"white\",\"ticks\":\"\",\"title\":{\"standoff\":15},\"zerolinecolor\":\"white\",\"zerolinewidth\":2},\"yaxis\":{\"automargin\":true,\"gridcolor\":\"white\",\"linecolor\":\"white\",\"ticks\":\"\",\"title\":{\"standoff\":15},\"zerolinecolor\":\"white\",\"zerolinewidth\":2}}}},                        {\"responsive\": true}                    ).then(function(){\n",
              "                            \n",
              "var gd = document.getElementById('bd96565b-b86a-49b2-8ade-e921e6a4bf62');\n",
              "var x = new MutationObserver(function (mutations, observer) {{\n",
              "        var display = window.getComputedStyle(gd).display;\n",
              "        if (!display || display === 'none') {{\n",
              "            console.log([gd, 'removed!']);\n",
              "            Plotly.purge(gd);\n",
              "            observer.disconnect();\n",
              "        }}\n",
              "}});\n",
              "\n",
              "// Listen for the removal of the full notebook cells\n",
              "var notebookContainer = gd.closest('#notebook-container');\n",
              "if (notebookContainer) {{\n",
              "    x.observe(notebookContainer, {childList: true});\n",
              "}}\n",
              "\n",
              "// Listen for the clearing of the current output cell\n",
              "var outputEl = gd.closest('.output');\n",
              "if (outputEl) {{\n",
              "    x.observe(outputEl, {childList: true});\n",
              "}}\n",
              "\n",
              "                        })                };                            </script>        </div>\n",
              "</body>\n",
              "</html>"
            ]
          },
          "metadata": {}
        }
      ]
    },
    {
      "cell_type": "code",
      "source": [
        "layout = go.Layout(\n",
        "    title=\"Scoring over the competitions\",\n",
        "    xaxis_title=\"competitions\",\n",
        "    yaxis_title=\"Goals\"\n",
        ")\n",
        "\n",
        "fig = go.Figure(\n",
        "    data=go.Bar(x= goal_competition.index,y= goal_competition.goals),\n",
        "    layout=layout\n",
        ")\n",
        "fig.show()"
      ],
      "metadata": {
        "colab": {
          "base_uri": "https://localhost:8080/",
          "height": 542
        },
        "id": "VnDs3hslEuBk",
        "outputId": "c6aeee2a-395f-4e8f-ba1f-4f3fb391861d"
      },
      "execution_count": null,
      "outputs": [
        {
          "output_type": "display_data",
          "data": {
            "text/html": [
              "<html>\n",
              "<head><meta charset=\"utf-8\" /></head>\n",
              "<body>\n",
              "    <div>            <script src=\"https://cdnjs.cloudflare.com/ajax/libs/mathjax/2.7.5/MathJax.js?config=TeX-AMS-MML_SVG\"></script><script type=\"text/javascript\">if (window.MathJax) {MathJax.Hub.Config({SVG: {font: \"STIX-Web\"}});}</script>                <script type=\"text/javascript\">window.PlotlyConfig = {MathJaxConfig: 'local'};</script>\n",
              "        <script src=\"https://cdn.plot.ly/plotly-2.8.3.min.js\"></script>                <div id=\"3c222e30-f2ed-4620-ada0-776faf044c8c\" class=\"plotly-graph-div\" style=\"height:525px; width:100%;\"></div>            <script type=\"text/javascript\">                                    window.PLOTLYENV=window.PLOTLYENV || {};                                    if (document.getElementById(\"3c222e30-f2ed-4620-ada0-776faf044c8c\")) {                    Plotly.newPlot(                        \"3c222e30-f2ed-4620-ada0-776faf044c8c\",                        [{\"x\":[\"Champions League\",\"Copa del Rey\",\"FIFA Club World Cup\",\"LaLiga\",\"Ligue 1\",\"Supercopa\",\"Troph\\u00c3\\u00a9e des Champions\",\"Troph\\u00e9e des Champions\",\"UEFA Champions League\",\"UEFA Super Cup\"],\"y\":[1,56,5,474,14,14,1,1,128,3],\"type\":\"bar\"}],                        {\"title\":{\"text\":\"Scoring over the competitions\"},\"xaxis\":{\"title\":{\"text\":\"competitions\"}},\"yaxis\":{\"title\":{\"text\":\"Goals\"}},\"template\":{\"data\":{\"bar\":[{\"error_x\":{\"color\":\"#2a3f5f\"},\"error_y\":{\"color\":\"#2a3f5f\"},\"marker\":{\"line\":{\"color\":\"#E5ECF6\",\"width\":0.5},\"pattern\":{\"fillmode\":\"overlay\",\"size\":10,\"solidity\":0.2}},\"type\":\"bar\"}],\"barpolar\":[{\"marker\":{\"line\":{\"color\":\"#E5ECF6\",\"width\":0.5},\"pattern\":{\"fillmode\":\"overlay\",\"size\":10,\"solidity\":0.2}},\"type\":\"barpolar\"}],\"carpet\":[{\"aaxis\":{\"endlinecolor\":\"#2a3f5f\",\"gridcolor\":\"white\",\"linecolor\":\"white\",\"minorgridcolor\":\"white\",\"startlinecolor\":\"#2a3f5f\"},\"baxis\":{\"endlinecolor\":\"#2a3f5f\",\"gridcolor\":\"white\",\"linecolor\":\"white\",\"minorgridcolor\":\"white\",\"startlinecolor\":\"#2a3f5f\"},\"type\":\"carpet\"}],\"choropleth\":[{\"colorbar\":{\"outlinewidth\":0,\"ticks\":\"\"},\"type\":\"choropleth\"}],\"contour\":[{\"colorbar\":{\"outlinewidth\":0,\"ticks\":\"\"},\"colorscale\":[[0.0,\"#0d0887\"],[0.1111111111111111,\"#46039f\"],[0.2222222222222222,\"#7201a8\"],[0.3333333333333333,\"#9c179e\"],[0.4444444444444444,\"#bd3786\"],[0.5555555555555556,\"#d8576b\"],[0.6666666666666666,\"#ed7953\"],[0.7777777777777778,\"#fb9f3a\"],[0.8888888888888888,\"#fdca26\"],[1.0,\"#f0f921\"]],\"type\":\"contour\"}],\"contourcarpet\":[{\"colorbar\":{\"outlinewidth\":0,\"ticks\":\"\"},\"type\":\"contourcarpet\"}],\"heatmap\":[{\"colorbar\":{\"outlinewidth\":0,\"ticks\":\"\"},\"colorscale\":[[0.0,\"#0d0887\"],[0.1111111111111111,\"#46039f\"],[0.2222222222222222,\"#7201a8\"],[0.3333333333333333,\"#9c179e\"],[0.4444444444444444,\"#bd3786\"],[0.5555555555555556,\"#d8576b\"],[0.6666666666666666,\"#ed7953\"],[0.7777777777777778,\"#fb9f3a\"],[0.8888888888888888,\"#fdca26\"],[1.0,\"#f0f921\"]],\"type\":\"heatmap\"}],\"heatmapgl\":[{\"colorbar\":{\"outlinewidth\":0,\"ticks\":\"\"},\"colorscale\":[[0.0,\"#0d0887\"],[0.1111111111111111,\"#46039f\"],[0.2222222222222222,\"#7201a8\"],[0.3333333333333333,\"#9c179e\"],[0.4444444444444444,\"#bd3786\"],[0.5555555555555556,\"#d8576b\"],[0.6666666666666666,\"#ed7953\"],[0.7777777777777778,\"#fb9f3a\"],[0.8888888888888888,\"#fdca26\"],[1.0,\"#f0f921\"]],\"type\":\"heatmapgl\"}],\"histogram\":[{\"marker\":{\"pattern\":{\"fillmode\":\"overlay\",\"size\":10,\"solidity\":0.2}},\"type\":\"histogram\"}],\"histogram2d\":[{\"colorbar\":{\"outlinewidth\":0,\"ticks\":\"\"},\"colorscale\":[[0.0,\"#0d0887\"],[0.1111111111111111,\"#46039f\"],[0.2222222222222222,\"#7201a8\"],[0.3333333333333333,\"#9c179e\"],[0.4444444444444444,\"#bd3786\"],[0.5555555555555556,\"#d8576b\"],[0.6666666666666666,\"#ed7953\"],[0.7777777777777778,\"#fb9f3a\"],[0.8888888888888888,\"#fdca26\"],[1.0,\"#f0f921\"]],\"type\":\"histogram2d\"}],\"histogram2dcontour\":[{\"colorbar\":{\"outlinewidth\":0,\"ticks\":\"\"},\"colorscale\":[[0.0,\"#0d0887\"],[0.1111111111111111,\"#46039f\"],[0.2222222222222222,\"#7201a8\"],[0.3333333333333333,\"#9c179e\"],[0.4444444444444444,\"#bd3786\"],[0.5555555555555556,\"#d8576b\"],[0.6666666666666666,\"#ed7953\"],[0.7777777777777778,\"#fb9f3a\"],[0.8888888888888888,\"#fdca26\"],[1.0,\"#f0f921\"]],\"type\":\"histogram2dcontour\"}],\"mesh3d\":[{\"colorbar\":{\"outlinewidth\":0,\"ticks\":\"\"},\"type\":\"mesh3d\"}],\"parcoords\":[{\"line\":{\"colorbar\":{\"outlinewidth\":0,\"ticks\":\"\"}},\"type\":\"parcoords\"}],\"pie\":[{\"automargin\":true,\"type\":\"pie\"}],\"scatter\":[{\"marker\":{\"colorbar\":{\"outlinewidth\":0,\"ticks\":\"\"}},\"type\":\"scatter\"}],\"scatter3d\":[{\"line\":{\"colorbar\":{\"outlinewidth\":0,\"ticks\":\"\"}},\"marker\":{\"colorbar\":{\"outlinewidth\":0,\"ticks\":\"\"}},\"type\":\"scatter3d\"}],\"scattercarpet\":[{\"marker\":{\"colorbar\":{\"outlinewidth\":0,\"ticks\":\"\"}},\"type\":\"scattercarpet\"}],\"scattergeo\":[{\"marker\":{\"colorbar\":{\"outlinewidth\":0,\"ticks\":\"\"}},\"type\":\"scattergeo\"}],\"scattergl\":[{\"marker\":{\"colorbar\":{\"outlinewidth\":0,\"ticks\":\"\"}},\"type\":\"scattergl\"}],\"scattermapbox\":[{\"marker\":{\"colorbar\":{\"outlinewidth\":0,\"ticks\":\"\"}},\"type\":\"scattermapbox\"}],\"scatterpolar\":[{\"marker\":{\"colorbar\":{\"outlinewidth\":0,\"ticks\":\"\"}},\"type\":\"scatterpolar\"}],\"scatterpolargl\":[{\"marker\":{\"colorbar\":{\"outlinewidth\":0,\"ticks\":\"\"}},\"type\":\"scatterpolargl\"}],\"scatterternary\":[{\"marker\":{\"colorbar\":{\"outlinewidth\":0,\"ticks\":\"\"}},\"type\":\"scatterternary\"}],\"surface\":[{\"colorbar\":{\"outlinewidth\":0,\"ticks\":\"\"},\"colorscale\":[[0.0,\"#0d0887\"],[0.1111111111111111,\"#46039f\"],[0.2222222222222222,\"#7201a8\"],[0.3333333333333333,\"#9c179e\"],[0.4444444444444444,\"#bd3786\"],[0.5555555555555556,\"#d8576b\"],[0.6666666666666666,\"#ed7953\"],[0.7777777777777778,\"#fb9f3a\"],[0.8888888888888888,\"#fdca26\"],[1.0,\"#f0f921\"]],\"type\":\"surface\"}],\"table\":[{\"cells\":{\"fill\":{\"color\":\"#EBF0F8\"},\"line\":{\"color\":\"white\"}},\"header\":{\"fill\":{\"color\":\"#C8D4E3\"},\"line\":{\"color\":\"white\"}},\"type\":\"table\"}]},\"layout\":{\"annotationdefaults\":{\"arrowcolor\":\"#2a3f5f\",\"arrowhead\":0,\"arrowwidth\":1},\"autotypenumbers\":\"strict\",\"coloraxis\":{\"colorbar\":{\"outlinewidth\":0,\"ticks\":\"\"}},\"colorscale\":{\"diverging\":[[0,\"#8e0152\"],[0.1,\"#c51b7d\"],[0.2,\"#de77ae\"],[0.3,\"#f1b6da\"],[0.4,\"#fde0ef\"],[0.5,\"#f7f7f7\"],[0.6,\"#e6f5d0\"],[0.7,\"#b8e186\"],[0.8,\"#7fbc41\"],[0.9,\"#4d9221\"],[1,\"#276419\"]],\"sequential\":[[0.0,\"#0d0887\"],[0.1111111111111111,\"#46039f\"],[0.2222222222222222,\"#7201a8\"],[0.3333333333333333,\"#9c179e\"],[0.4444444444444444,\"#bd3786\"],[0.5555555555555556,\"#d8576b\"],[0.6666666666666666,\"#ed7953\"],[0.7777777777777778,\"#fb9f3a\"],[0.8888888888888888,\"#fdca26\"],[1.0,\"#f0f921\"]],\"sequentialminus\":[[0.0,\"#0d0887\"],[0.1111111111111111,\"#46039f\"],[0.2222222222222222,\"#7201a8\"],[0.3333333333333333,\"#9c179e\"],[0.4444444444444444,\"#bd3786\"],[0.5555555555555556,\"#d8576b\"],[0.6666666666666666,\"#ed7953\"],[0.7777777777777778,\"#fb9f3a\"],[0.8888888888888888,\"#fdca26\"],[1.0,\"#f0f921\"]]},\"colorway\":[\"#636efa\",\"#EF553B\",\"#00cc96\",\"#ab63fa\",\"#FFA15A\",\"#19d3f3\",\"#FF6692\",\"#B6E880\",\"#FF97FF\",\"#FECB52\"],\"font\":{\"color\":\"#2a3f5f\"},\"geo\":{\"bgcolor\":\"white\",\"lakecolor\":\"white\",\"landcolor\":\"#E5ECF6\",\"showlakes\":true,\"showland\":true,\"subunitcolor\":\"white\"},\"hoverlabel\":{\"align\":\"left\"},\"hovermode\":\"closest\",\"mapbox\":{\"style\":\"light\"},\"paper_bgcolor\":\"white\",\"plot_bgcolor\":\"#E5ECF6\",\"polar\":{\"angularaxis\":{\"gridcolor\":\"white\",\"linecolor\":\"white\",\"ticks\":\"\"},\"bgcolor\":\"#E5ECF6\",\"radialaxis\":{\"gridcolor\":\"white\",\"linecolor\":\"white\",\"ticks\":\"\"}},\"scene\":{\"xaxis\":{\"backgroundcolor\":\"#E5ECF6\",\"gridcolor\":\"white\",\"gridwidth\":2,\"linecolor\":\"white\",\"showbackground\":true,\"ticks\":\"\",\"zerolinecolor\":\"white\"},\"yaxis\":{\"backgroundcolor\":\"#E5ECF6\",\"gridcolor\":\"white\",\"gridwidth\":2,\"linecolor\":\"white\",\"showbackground\":true,\"ticks\":\"\",\"zerolinecolor\":\"white\"},\"zaxis\":{\"backgroundcolor\":\"#E5ECF6\",\"gridcolor\":\"white\",\"gridwidth\":2,\"linecolor\":\"white\",\"showbackground\":true,\"ticks\":\"\",\"zerolinecolor\":\"white\"}},\"shapedefaults\":{\"line\":{\"color\":\"#2a3f5f\"}},\"ternary\":{\"aaxis\":{\"gridcolor\":\"white\",\"linecolor\":\"white\",\"ticks\":\"\"},\"baxis\":{\"gridcolor\":\"white\",\"linecolor\":\"white\",\"ticks\":\"\"},\"bgcolor\":\"#E5ECF6\",\"caxis\":{\"gridcolor\":\"white\",\"linecolor\":\"white\",\"ticks\":\"\"}},\"title\":{\"x\":0.05},\"xaxis\":{\"automargin\":true,\"gridcolor\":\"white\",\"linecolor\":\"white\",\"ticks\":\"\",\"title\":{\"standoff\":15},\"zerolinecolor\":\"white\",\"zerolinewidth\":2},\"yaxis\":{\"automargin\":true,\"gridcolor\":\"white\",\"linecolor\":\"white\",\"ticks\":\"\",\"title\":{\"standoff\":15},\"zerolinecolor\":\"white\",\"zerolinewidth\":2}}}},                        {\"responsive\": true}                    ).then(function(){\n",
              "                            \n",
              "var gd = document.getElementById('3c222e30-f2ed-4620-ada0-776faf044c8c');\n",
              "var x = new MutationObserver(function (mutations, observer) {{\n",
              "        var display = window.getComputedStyle(gd).display;\n",
              "        if (!display || display === 'none') {{\n",
              "            console.log([gd, 'removed!']);\n",
              "            Plotly.purge(gd);\n",
              "            observer.disconnect();\n",
              "        }}\n",
              "}});\n",
              "\n",
              "// Listen for the removal of the full notebook cells\n",
              "var notebookContainer = gd.closest('#notebook-container');\n",
              "if (notebookContainer) {{\n",
              "    x.observe(notebookContainer, {childList: true});\n",
              "}}\n",
              "\n",
              "// Listen for the clearing of the current output cell\n",
              "var outputEl = gd.closest('.output');\n",
              "if (outputEl) {{\n",
              "    x.observe(outputEl, {childList: true});\n",
              "}}\n",
              "\n",
              "                        })                };                            </script>        </div>\n",
              "</body>\n",
              "</html>"
            ]
          },
          "metadata": {}
        }
      ]
    },
    {
      "cell_type": "code",
      "source": [
        "select_indices = list(np.where(df[\"Competition\"] == 'LaLiga')[0])\n",
        "LaLiga = df.iloc[select_indices]"
      ],
      "metadata": {
        "id": "pnR2vYCrE0BF"
      },
      "execution_count": null,
      "outputs": []
    },
    {
      "cell_type": "code",
      "source": [
        "LaLiga_seasons= pd.DataFrame(LaLiga.groupby(LaLiga['Season'].tolist()).size(),columns=['goals'])\n",
        "layout1 = go.Layout(\n",
        "    title=\"Scoring over LaLiga seasons\",\n",
        "    xaxis_title=\"LaLiga seasons\",\n",
        "    yaxis_title=\"Goals\"\n",
        ")\n",
        "\n",
        "fig1 = go.Figure(\n",
        "    data=go.Bar(x= sorted(LaLiga_seasons.index),y= LaLiga_seasons.goals),\n",
        "    layout=layout1\n",
        ")\n",
        "fig1.show()"
      ],
      "metadata": {
        "colab": {
          "base_uri": "https://localhost:8080/",
          "height": 542
        },
        "id": "2nI_Y0VZE26q",
        "outputId": "a169c664-6597-4770-a1dc-9a6c1e8d0a14"
      },
      "execution_count": null,
      "outputs": [
        {
          "output_type": "display_data",
          "data": {
            "text/html": [
              "<html>\n",
              "<head><meta charset=\"utf-8\" /></head>\n",
              "<body>\n",
              "    <div>            <script src=\"https://cdnjs.cloudflare.com/ajax/libs/mathjax/2.7.5/MathJax.js?config=TeX-AMS-MML_SVG\"></script><script type=\"text/javascript\">if (window.MathJax) {MathJax.Hub.Config({SVG: {font: \"STIX-Web\"}});}</script>                <script type=\"text/javascript\">window.PlotlyConfig = {MathJaxConfig: 'local'};</script>\n",
              "        <script src=\"https://cdn.plot.ly/plotly-2.8.3.min.js\"></script>                <div id=\"a1fe9648-3638-4c5a-90bd-51d3e64fb535\" class=\"plotly-graph-div\" style=\"height:525px; width:100%;\"></div>            <script type=\"text/javascript\">                                    window.PLOTLYENV=window.PLOTLYENV || {};                                    if (document.getElementById(\"a1fe9648-3638-4c5a-90bd-51d3e64fb535\")) {                    Plotly.newPlot(                        \"a1fe9648-3638-4c5a-90bd-51d3e64fb535\",                        [{\"x\":[\"04/05\",\"05/06\",\"06/07\",\"07/08\",\"08/09\",\"09/10\",\"10/11\",\"11-Dec\",\"13/14\",\"14/15\",\"15/16\",\"16/17\",\"17/18\",\"18/19\",\"19/20\",\"20/21\",\"Dec-13\"],\"y\":[1,6,14,10,23,34,31,50,28,43,26,37,34,36,25,30,46],\"type\":\"bar\"}],                        {\"title\":{\"text\":\"Scoring over LaLiga seasons\"},\"xaxis\":{\"title\":{\"text\":\"LaLiga seasons\"}},\"yaxis\":{\"title\":{\"text\":\"Goals\"}},\"template\":{\"data\":{\"bar\":[{\"error_x\":{\"color\":\"#2a3f5f\"},\"error_y\":{\"color\":\"#2a3f5f\"},\"marker\":{\"line\":{\"color\":\"#E5ECF6\",\"width\":0.5},\"pattern\":{\"fillmode\":\"overlay\",\"size\":10,\"solidity\":0.2}},\"type\":\"bar\"}],\"barpolar\":[{\"marker\":{\"line\":{\"color\":\"#E5ECF6\",\"width\":0.5},\"pattern\":{\"fillmode\":\"overlay\",\"size\":10,\"solidity\":0.2}},\"type\":\"barpolar\"}],\"carpet\":[{\"aaxis\":{\"endlinecolor\":\"#2a3f5f\",\"gridcolor\":\"white\",\"linecolor\":\"white\",\"minorgridcolor\":\"white\",\"startlinecolor\":\"#2a3f5f\"},\"baxis\":{\"endlinecolor\":\"#2a3f5f\",\"gridcolor\":\"white\",\"linecolor\":\"white\",\"minorgridcolor\":\"white\",\"startlinecolor\":\"#2a3f5f\"},\"type\":\"carpet\"}],\"choropleth\":[{\"colorbar\":{\"outlinewidth\":0,\"ticks\":\"\"},\"type\":\"choropleth\"}],\"contour\":[{\"colorbar\":{\"outlinewidth\":0,\"ticks\":\"\"},\"colorscale\":[[0.0,\"#0d0887\"],[0.1111111111111111,\"#46039f\"],[0.2222222222222222,\"#7201a8\"],[0.3333333333333333,\"#9c179e\"],[0.4444444444444444,\"#bd3786\"],[0.5555555555555556,\"#d8576b\"],[0.6666666666666666,\"#ed7953\"],[0.7777777777777778,\"#fb9f3a\"],[0.8888888888888888,\"#fdca26\"],[1.0,\"#f0f921\"]],\"type\":\"contour\"}],\"contourcarpet\":[{\"colorbar\":{\"outlinewidth\":0,\"ticks\":\"\"},\"type\":\"contourcarpet\"}],\"heatmap\":[{\"colorbar\":{\"outlinewidth\":0,\"ticks\":\"\"},\"colorscale\":[[0.0,\"#0d0887\"],[0.1111111111111111,\"#46039f\"],[0.2222222222222222,\"#7201a8\"],[0.3333333333333333,\"#9c179e\"],[0.4444444444444444,\"#bd3786\"],[0.5555555555555556,\"#d8576b\"],[0.6666666666666666,\"#ed7953\"],[0.7777777777777778,\"#fb9f3a\"],[0.8888888888888888,\"#fdca26\"],[1.0,\"#f0f921\"]],\"type\":\"heatmap\"}],\"heatmapgl\":[{\"colorbar\":{\"outlinewidth\":0,\"ticks\":\"\"},\"colorscale\":[[0.0,\"#0d0887\"],[0.1111111111111111,\"#46039f\"],[0.2222222222222222,\"#7201a8\"],[0.3333333333333333,\"#9c179e\"],[0.4444444444444444,\"#bd3786\"],[0.5555555555555556,\"#d8576b\"],[0.6666666666666666,\"#ed7953\"],[0.7777777777777778,\"#fb9f3a\"],[0.8888888888888888,\"#fdca26\"],[1.0,\"#f0f921\"]],\"type\":\"heatmapgl\"}],\"histogram\":[{\"marker\":{\"pattern\":{\"fillmode\":\"overlay\",\"size\":10,\"solidity\":0.2}},\"type\":\"histogram\"}],\"histogram2d\":[{\"colorbar\":{\"outlinewidth\":0,\"ticks\":\"\"},\"colorscale\":[[0.0,\"#0d0887\"],[0.1111111111111111,\"#46039f\"],[0.2222222222222222,\"#7201a8\"],[0.3333333333333333,\"#9c179e\"],[0.4444444444444444,\"#bd3786\"],[0.5555555555555556,\"#d8576b\"],[0.6666666666666666,\"#ed7953\"],[0.7777777777777778,\"#fb9f3a\"],[0.8888888888888888,\"#fdca26\"],[1.0,\"#f0f921\"]],\"type\":\"histogram2d\"}],\"histogram2dcontour\":[{\"colorbar\":{\"outlinewidth\":0,\"ticks\":\"\"},\"colorscale\":[[0.0,\"#0d0887\"],[0.1111111111111111,\"#46039f\"],[0.2222222222222222,\"#7201a8\"],[0.3333333333333333,\"#9c179e\"],[0.4444444444444444,\"#bd3786\"],[0.5555555555555556,\"#d8576b\"],[0.6666666666666666,\"#ed7953\"],[0.7777777777777778,\"#fb9f3a\"],[0.8888888888888888,\"#fdca26\"],[1.0,\"#f0f921\"]],\"type\":\"histogram2dcontour\"}],\"mesh3d\":[{\"colorbar\":{\"outlinewidth\":0,\"ticks\":\"\"},\"type\":\"mesh3d\"}],\"parcoords\":[{\"line\":{\"colorbar\":{\"outlinewidth\":0,\"ticks\":\"\"}},\"type\":\"parcoords\"}],\"pie\":[{\"automargin\":true,\"type\":\"pie\"}],\"scatter\":[{\"marker\":{\"colorbar\":{\"outlinewidth\":0,\"ticks\":\"\"}},\"type\":\"scatter\"}],\"scatter3d\":[{\"line\":{\"colorbar\":{\"outlinewidth\":0,\"ticks\":\"\"}},\"marker\":{\"colorbar\":{\"outlinewidth\":0,\"ticks\":\"\"}},\"type\":\"scatter3d\"}],\"scattercarpet\":[{\"marker\":{\"colorbar\":{\"outlinewidth\":0,\"ticks\":\"\"}},\"type\":\"scattercarpet\"}],\"scattergeo\":[{\"marker\":{\"colorbar\":{\"outlinewidth\":0,\"ticks\":\"\"}},\"type\":\"scattergeo\"}],\"scattergl\":[{\"marker\":{\"colorbar\":{\"outlinewidth\":0,\"ticks\":\"\"}},\"type\":\"scattergl\"}],\"scattermapbox\":[{\"marker\":{\"colorbar\":{\"outlinewidth\":0,\"ticks\":\"\"}},\"type\":\"scattermapbox\"}],\"scatterpolar\":[{\"marker\":{\"colorbar\":{\"outlinewidth\":0,\"ticks\":\"\"}},\"type\":\"scatterpolar\"}],\"scatterpolargl\":[{\"marker\":{\"colorbar\":{\"outlinewidth\":0,\"ticks\":\"\"}},\"type\":\"scatterpolargl\"}],\"scatterternary\":[{\"marker\":{\"colorbar\":{\"outlinewidth\":0,\"ticks\":\"\"}},\"type\":\"scatterternary\"}],\"surface\":[{\"colorbar\":{\"outlinewidth\":0,\"ticks\":\"\"},\"colorscale\":[[0.0,\"#0d0887\"],[0.1111111111111111,\"#46039f\"],[0.2222222222222222,\"#7201a8\"],[0.3333333333333333,\"#9c179e\"],[0.4444444444444444,\"#bd3786\"],[0.5555555555555556,\"#d8576b\"],[0.6666666666666666,\"#ed7953\"],[0.7777777777777778,\"#fb9f3a\"],[0.8888888888888888,\"#fdca26\"],[1.0,\"#f0f921\"]],\"type\":\"surface\"}],\"table\":[{\"cells\":{\"fill\":{\"color\":\"#EBF0F8\"},\"line\":{\"color\":\"white\"}},\"header\":{\"fill\":{\"color\":\"#C8D4E3\"},\"line\":{\"color\":\"white\"}},\"type\":\"table\"}]},\"layout\":{\"annotationdefaults\":{\"arrowcolor\":\"#2a3f5f\",\"arrowhead\":0,\"arrowwidth\":1},\"autotypenumbers\":\"strict\",\"coloraxis\":{\"colorbar\":{\"outlinewidth\":0,\"ticks\":\"\"}},\"colorscale\":{\"diverging\":[[0,\"#8e0152\"],[0.1,\"#c51b7d\"],[0.2,\"#de77ae\"],[0.3,\"#f1b6da\"],[0.4,\"#fde0ef\"],[0.5,\"#f7f7f7\"],[0.6,\"#e6f5d0\"],[0.7,\"#b8e186\"],[0.8,\"#7fbc41\"],[0.9,\"#4d9221\"],[1,\"#276419\"]],\"sequential\":[[0.0,\"#0d0887\"],[0.1111111111111111,\"#46039f\"],[0.2222222222222222,\"#7201a8\"],[0.3333333333333333,\"#9c179e\"],[0.4444444444444444,\"#bd3786\"],[0.5555555555555556,\"#d8576b\"],[0.6666666666666666,\"#ed7953\"],[0.7777777777777778,\"#fb9f3a\"],[0.8888888888888888,\"#fdca26\"],[1.0,\"#f0f921\"]],\"sequentialminus\":[[0.0,\"#0d0887\"],[0.1111111111111111,\"#46039f\"],[0.2222222222222222,\"#7201a8\"],[0.3333333333333333,\"#9c179e\"],[0.4444444444444444,\"#bd3786\"],[0.5555555555555556,\"#d8576b\"],[0.6666666666666666,\"#ed7953\"],[0.7777777777777778,\"#fb9f3a\"],[0.8888888888888888,\"#fdca26\"],[1.0,\"#f0f921\"]]},\"colorway\":[\"#636efa\",\"#EF553B\",\"#00cc96\",\"#ab63fa\",\"#FFA15A\",\"#19d3f3\",\"#FF6692\",\"#B6E880\",\"#FF97FF\",\"#FECB52\"],\"font\":{\"color\":\"#2a3f5f\"},\"geo\":{\"bgcolor\":\"white\",\"lakecolor\":\"white\",\"landcolor\":\"#E5ECF6\",\"showlakes\":true,\"showland\":true,\"subunitcolor\":\"white\"},\"hoverlabel\":{\"align\":\"left\"},\"hovermode\":\"closest\",\"mapbox\":{\"style\":\"light\"},\"paper_bgcolor\":\"white\",\"plot_bgcolor\":\"#E5ECF6\",\"polar\":{\"angularaxis\":{\"gridcolor\":\"white\",\"linecolor\":\"white\",\"ticks\":\"\"},\"bgcolor\":\"#E5ECF6\",\"radialaxis\":{\"gridcolor\":\"white\",\"linecolor\":\"white\",\"ticks\":\"\"}},\"scene\":{\"xaxis\":{\"backgroundcolor\":\"#E5ECF6\",\"gridcolor\":\"white\",\"gridwidth\":2,\"linecolor\":\"white\",\"showbackground\":true,\"ticks\":\"\",\"zerolinecolor\":\"white\"},\"yaxis\":{\"backgroundcolor\":\"#E5ECF6\",\"gridcolor\":\"white\",\"gridwidth\":2,\"linecolor\":\"white\",\"showbackground\":true,\"ticks\":\"\",\"zerolinecolor\":\"white\"},\"zaxis\":{\"backgroundcolor\":\"#E5ECF6\",\"gridcolor\":\"white\",\"gridwidth\":2,\"linecolor\":\"white\",\"showbackground\":true,\"ticks\":\"\",\"zerolinecolor\":\"white\"}},\"shapedefaults\":{\"line\":{\"color\":\"#2a3f5f\"}},\"ternary\":{\"aaxis\":{\"gridcolor\":\"white\",\"linecolor\":\"white\",\"ticks\":\"\"},\"baxis\":{\"gridcolor\":\"white\",\"linecolor\":\"white\",\"ticks\":\"\"},\"bgcolor\":\"#E5ECF6\",\"caxis\":{\"gridcolor\":\"white\",\"linecolor\":\"white\",\"ticks\":\"\"}},\"title\":{\"x\":0.05},\"xaxis\":{\"automargin\":true,\"gridcolor\":\"white\",\"linecolor\":\"white\",\"ticks\":\"\",\"title\":{\"standoff\":15},\"zerolinecolor\":\"white\",\"zerolinewidth\":2},\"yaxis\":{\"automargin\":true,\"gridcolor\":\"white\",\"linecolor\":\"white\",\"ticks\":\"\",\"title\":{\"standoff\":15},\"zerolinecolor\":\"white\",\"zerolinewidth\":2}}}},                        {\"responsive\": true}                    ).then(function(){\n",
              "                            \n",
              "var gd = document.getElementById('a1fe9648-3638-4c5a-90bd-51d3e64fb535');\n",
              "var x = new MutationObserver(function (mutations, observer) {{\n",
              "        var display = window.getComputedStyle(gd).display;\n",
              "        if (!display || display === 'none') {{\n",
              "            console.log([gd, 'removed!']);\n",
              "            Plotly.purge(gd);\n",
              "            observer.disconnect();\n",
              "        }}\n",
              "}});\n",
              "\n",
              "// Listen for the removal of the full notebook cells\n",
              "var notebookContainer = gd.closest('#notebook-container');\n",
              "if (notebookContainer) {{\n",
              "    x.observe(notebookContainer, {childList: true});\n",
              "}}\n",
              "\n",
              "// Listen for the clearing of the current output cell\n",
              "var outputEl = gd.closest('.output');\n",
              "if (outputEl) {{\n",
              "    x.observe(outputEl, {childList: true});\n",
              "}}\n",
              "\n",
              "                        })                };                            </script>        </div>\n",
              "</body>\n",
              "</html>"
            ]
          },
          "metadata": {}
        }
      ]
    },
    {
      "cell_type": "code",
      "source": [
        "select_indices = list(np.where(df[\"Competition\"] == 'UEFA Champions League')[0])\n",
        "Champions_League = df.iloc[select_indices]\n",
        "Champions_League = pd.DataFrame(Champions_League.groupby(Champions_League['Season'].tolist()).size(),columns=['goals'])\n",
        "layout2 = go.Layout(\n",
        "    title=\"Scoring over the UEFA Champions League\",\n",
        "    xaxis_title=\"Champions League Seasons\",\n",
        "    yaxis_title=\"Goals\"\n",
        ")\n",
        "\n",
        "fig2 = go.Figure(\n",
        "    data=go.Bar(x= Champions_League.index,y= Champions_League.goals),\n",
        "    layout=layout2\n",
        ")\n",
        "fig2.show()"
      ],
      "metadata": {
        "colab": {
          "base_uri": "https://localhost:8080/",
          "height": 542
        },
        "id": "x4WCbsDcE9wD",
        "outputId": "15cc6f0a-dc7b-42f0-db20-6c67553ae45d"
      },
      "execution_count": null,
      "outputs": [
        {
          "output_type": "display_data",
          "data": {
            "text/html": [
              "<html>\n",
              "<head><meta charset=\"utf-8\" /></head>\n",
              "<body>\n",
              "    <div>            <script src=\"https://cdnjs.cloudflare.com/ajax/libs/mathjax/2.7.5/MathJax.js?config=TeX-AMS-MML_SVG\"></script><script type=\"text/javascript\">if (window.MathJax) {MathJax.Hub.Config({SVG: {font: \"STIX-Web\"}});}</script>                <script type=\"text/javascript\">window.PlotlyConfig = {MathJaxConfig: 'local'};</script>\n",
              "        <script src=\"https://cdn.plot.ly/plotly-2.8.3.min.js\"></script>                <div id=\"6df51272-4482-4344-83a2-23ffdb1b1e4b\" class=\"plotly-graph-div\" style=\"height:525px; width:100%;\"></div>            <script type=\"text/javascript\">                                    window.PLOTLYENV=window.PLOTLYENV || {};                                    if (document.getElementById(\"6df51272-4482-4344-83a2-23ffdb1b1e4b\")) {                    Plotly.newPlot(                        \"6df51272-4482-4344-83a2-23ffdb1b1e4b\",                        [{\"x\":[\"05/06\",\"06/07\",\"07/08\",\"08/09\",\"09/10\",\"10/11\",\"11-Dec\",\"13/14\",\"14/15\",\"15/16\",\"16/17\",\"17/18\",\"18/19\",\"19/20\",\"20/21\",\"21/22\",\"22/23\",\"Dec-13\"],\"y\":[1,1,6,9,8,12,14,8,10,6,11,6,12,3,5,5,3,8],\"type\":\"bar\"}],                        {\"title\":{\"text\":\"Scoring over the UEFA Champions League\"},\"xaxis\":{\"title\":{\"text\":\"Champions League Seasons\"}},\"yaxis\":{\"title\":{\"text\":\"Goals\"}},\"template\":{\"data\":{\"bar\":[{\"error_x\":{\"color\":\"#2a3f5f\"},\"error_y\":{\"color\":\"#2a3f5f\"},\"marker\":{\"line\":{\"color\":\"#E5ECF6\",\"width\":0.5},\"pattern\":{\"fillmode\":\"overlay\",\"size\":10,\"solidity\":0.2}},\"type\":\"bar\"}],\"barpolar\":[{\"marker\":{\"line\":{\"color\":\"#E5ECF6\",\"width\":0.5},\"pattern\":{\"fillmode\":\"overlay\",\"size\":10,\"solidity\":0.2}},\"type\":\"barpolar\"}],\"carpet\":[{\"aaxis\":{\"endlinecolor\":\"#2a3f5f\",\"gridcolor\":\"white\",\"linecolor\":\"white\",\"minorgridcolor\":\"white\",\"startlinecolor\":\"#2a3f5f\"},\"baxis\":{\"endlinecolor\":\"#2a3f5f\",\"gridcolor\":\"white\",\"linecolor\":\"white\",\"minorgridcolor\":\"white\",\"startlinecolor\":\"#2a3f5f\"},\"type\":\"carpet\"}],\"choropleth\":[{\"colorbar\":{\"outlinewidth\":0,\"ticks\":\"\"},\"type\":\"choropleth\"}],\"contour\":[{\"colorbar\":{\"outlinewidth\":0,\"ticks\":\"\"},\"colorscale\":[[0.0,\"#0d0887\"],[0.1111111111111111,\"#46039f\"],[0.2222222222222222,\"#7201a8\"],[0.3333333333333333,\"#9c179e\"],[0.4444444444444444,\"#bd3786\"],[0.5555555555555556,\"#d8576b\"],[0.6666666666666666,\"#ed7953\"],[0.7777777777777778,\"#fb9f3a\"],[0.8888888888888888,\"#fdca26\"],[1.0,\"#f0f921\"]],\"type\":\"contour\"}],\"contourcarpet\":[{\"colorbar\":{\"outlinewidth\":0,\"ticks\":\"\"},\"type\":\"contourcarpet\"}],\"heatmap\":[{\"colorbar\":{\"outlinewidth\":0,\"ticks\":\"\"},\"colorscale\":[[0.0,\"#0d0887\"],[0.1111111111111111,\"#46039f\"],[0.2222222222222222,\"#7201a8\"],[0.3333333333333333,\"#9c179e\"],[0.4444444444444444,\"#bd3786\"],[0.5555555555555556,\"#d8576b\"],[0.6666666666666666,\"#ed7953\"],[0.7777777777777778,\"#fb9f3a\"],[0.8888888888888888,\"#fdca26\"],[1.0,\"#f0f921\"]],\"type\":\"heatmap\"}],\"heatmapgl\":[{\"colorbar\":{\"outlinewidth\":0,\"ticks\":\"\"},\"colorscale\":[[0.0,\"#0d0887\"],[0.1111111111111111,\"#46039f\"],[0.2222222222222222,\"#7201a8\"],[0.3333333333333333,\"#9c179e\"],[0.4444444444444444,\"#bd3786\"],[0.5555555555555556,\"#d8576b\"],[0.6666666666666666,\"#ed7953\"],[0.7777777777777778,\"#fb9f3a\"],[0.8888888888888888,\"#fdca26\"],[1.0,\"#f0f921\"]],\"type\":\"heatmapgl\"}],\"histogram\":[{\"marker\":{\"pattern\":{\"fillmode\":\"overlay\",\"size\":10,\"solidity\":0.2}},\"type\":\"histogram\"}],\"histogram2d\":[{\"colorbar\":{\"outlinewidth\":0,\"ticks\":\"\"},\"colorscale\":[[0.0,\"#0d0887\"],[0.1111111111111111,\"#46039f\"],[0.2222222222222222,\"#7201a8\"],[0.3333333333333333,\"#9c179e\"],[0.4444444444444444,\"#bd3786\"],[0.5555555555555556,\"#d8576b\"],[0.6666666666666666,\"#ed7953\"],[0.7777777777777778,\"#fb9f3a\"],[0.8888888888888888,\"#fdca26\"],[1.0,\"#f0f921\"]],\"type\":\"histogram2d\"}],\"histogram2dcontour\":[{\"colorbar\":{\"outlinewidth\":0,\"ticks\":\"\"},\"colorscale\":[[0.0,\"#0d0887\"],[0.1111111111111111,\"#46039f\"],[0.2222222222222222,\"#7201a8\"],[0.3333333333333333,\"#9c179e\"],[0.4444444444444444,\"#bd3786\"],[0.5555555555555556,\"#d8576b\"],[0.6666666666666666,\"#ed7953\"],[0.7777777777777778,\"#fb9f3a\"],[0.8888888888888888,\"#fdca26\"],[1.0,\"#f0f921\"]],\"type\":\"histogram2dcontour\"}],\"mesh3d\":[{\"colorbar\":{\"outlinewidth\":0,\"ticks\":\"\"},\"type\":\"mesh3d\"}],\"parcoords\":[{\"line\":{\"colorbar\":{\"outlinewidth\":0,\"ticks\":\"\"}},\"type\":\"parcoords\"}],\"pie\":[{\"automargin\":true,\"type\":\"pie\"}],\"scatter\":[{\"marker\":{\"colorbar\":{\"outlinewidth\":0,\"ticks\":\"\"}},\"type\":\"scatter\"}],\"scatter3d\":[{\"line\":{\"colorbar\":{\"outlinewidth\":0,\"ticks\":\"\"}},\"marker\":{\"colorbar\":{\"outlinewidth\":0,\"ticks\":\"\"}},\"type\":\"scatter3d\"}],\"scattercarpet\":[{\"marker\":{\"colorbar\":{\"outlinewidth\":0,\"ticks\":\"\"}},\"type\":\"scattercarpet\"}],\"scattergeo\":[{\"marker\":{\"colorbar\":{\"outlinewidth\":0,\"ticks\":\"\"}},\"type\":\"scattergeo\"}],\"scattergl\":[{\"marker\":{\"colorbar\":{\"outlinewidth\":0,\"ticks\":\"\"}},\"type\":\"scattergl\"}],\"scattermapbox\":[{\"marker\":{\"colorbar\":{\"outlinewidth\":0,\"ticks\":\"\"}},\"type\":\"scattermapbox\"}],\"scatterpolar\":[{\"marker\":{\"colorbar\":{\"outlinewidth\":0,\"ticks\":\"\"}},\"type\":\"scatterpolar\"}],\"scatterpolargl\":[{\"marker\":{\"colorbar\":{\"outlinewidth\":0,\"ticks\":\"\"}},\"type\":\"scatterpolargl\"}],\"scatterternary\":[{\"marker\":{\"colorbar\":{\"outlinewidth\":0,\"ticks\":\"\"}},\"type\":\"scatterternary\"}],\"surface\":[{\"colorbar\":{\"outlinewidth\":0,\"ticks\":\"\"},\"colorscale\":[[0.0,\"#0d0887\"],[0.1111111111111111,\"#46039f\"],[0.2222222222222222,\"#7201a8\"],[0.3333333333333333,\"#9c179e\"],[0.4444444444444444,\"#bd3786\"],[0.5555555555555556,\"#d8576b\"],[0.6666666666666666,\"#ed7953\"],[0.7777777777777778,\"#fb9f3a\"],[0.8888888888888888,\"#fdca26\"],[1.0,\"#f0f921\"]],\"type\":\"surface\"}],\"table\":[{\"cells\":{\"fill\":{\"color\":\"#EBF0F8\"},\"line\":{\"color\":\"white\"}},\"header\":{\"fill\":{\"color\":\"#C8D4E3\"},\"line\":{\"color\":\"white\"}},\"type\":\"table\"}]},\"layout\":{\"annotationdefaults\":{\"arrowcolor\":\"#2a3f5f\",\"arrowhead\":0,\"arrowwidth\":1},\"autotypenumbers\":\"strict\",\"coloraxis\":{\"colorbar\":{\"outlinewidth\":0,\"ticks\":\"\"}},\"colorscale\":{\"diverging\":[[0,\"#8e0152\"],[0.1,\"#c51b7d\"],[0.2,\"#de77ae\"],[0.3,\"#f1b6da\"],[0.4,\"#fde0ef\"],[0.5,\"#f7f7f7\"],[0.6,\"#e6f5d0\"],[0.7,\"#b8e186\"],[0.8,\"#7fbc41\"],[0.9,\"#4d9221\"],[1,\"#276419\"]],\"sequential\":[[0.0,\"#0d0887\"],[0.1111111111111111,\"#46039f\"],[0.2222222222222222,\"#7201a8\"],[0.3333333333333333,\"#9c179e\"],[0.4444444444444444,\"#bd3786\"],[0.5555555555555556,\"#d8576b\"],[0.6666666666666666,\"#ed7953\"],[0.7777777777777778,\"#fb9f3a\"],[0.8888888888888888,\"#fdca26\"],[1.0,\"#f0f921\"]],\"sequentialminus\":[[0.0,\"#0d0887\"],[0.1111111111111111,\"#46039f\"],[0.2222222222222222,\"#7201a8\"],[0.3333333333333333,\"#9c179e\"],[0.4444444444444444,\"#bd3786\"],[0.5555555555555556,\"#d8576b\"],[0.6666666666666666,\"#ed7953\"],[0.7777777777777778,\"#fb9f3a\"],[0.8888888888888888,\"#fdca26\"],[1.0,\"#f0f921\"]]},\"colorway\":[\"#636efa\",\"#EF553B\",\"#00cc96\",\"#ab63fa\",\"#FFA15A\",\"#19d3f3\",\"#FF6692\",\"#B6E880\",\"#FF97FF\",\"#FECB52\"],\"font\":{\"color\":\"#2a3f5f\"},\"geo\":{\"bgcolor\":\"white\",\"lakecolor\":\"white\",\"landcolor\":\"#E5ECF6\",\"showlakes\":true,\"showland\":true,\"subunitcolor\":\"white\"},\"hoverlabel\":{\"align\":\"left\"},\"hovermode\":\"closest\",\"mapbox\":{\"style\":\"light\"},\"paper_bgcolor\":\"white\",\"plot_bgcolor\":\"#E5ECF6\",\"polar\":{\"angularaxis\":{\"gridcolor\":\"white\",\"linecolor\":\"white\",\"ticks\":\"\"},\"bgcolor\":\"#E5ECF6\",\"radialaxis\":{\"gridcolor\":\"white\",\"linecolor\":\"white\",\"ticks\":\"\"}},\"scene\":{\"xaxis\":{\"backgroundcolor\":\"#E5ECF6\",\"gridcolor\":\"white\",\"gridwidth\":2,\"linecolor\":\"white\",\"showbackground\":true,\"ticks\":\"\",\"zerolinecolor\":\"white\"},\"yaxis\":{\"backgroundcolor\":\"#E5ECF6\",\"gridcolor\":\"white\",\"gridwidth\":2,\"linecolor\":\"white\",\"showbackground\":true,\"ticks\":\"\",\"zerolinecolor\":\"white\"},\"zaxis\":{\"backgroundcolor\":\"#E5ECF6\",\"gridcolor\":\"white\",\"gridwidth\":2,\"linecolor\":\"white\",\"showbackground\":true,\"ticks\":\"\",\"zerolinecolor\":\"white\"}},\"shapedefaults\":{\"line\":{\"color\":\"#2a3f5f\"}},\"ternary\":{\"aaxis\":{\"gridcolor\":\"white\",\"linecolor\":\"white\",\"ticks\":\"\"},\"baxis\":{\"gridcolor\":\"white\",\"linecolor\":\"white\",\"ticks\":\"\"},\"bgcolor\":\"#E5ECF6\",\"caxis\":{\"gridcolor\":\"white\",\"linecolor\":\"white\",\"ticks\":\"\"}},\"title\":{\"x\":0.05},\"xaxis\":{\"automargin\":true,\"gridcolor\":\"white\",\"linecolor\":\"white\",\"ticks\":\"\",\"title\":{\"standoff\":15},\"zerolinecolor\":\"white\",\"zerolinewidth\":2},\"yaxis\":{\"automargin\":true,\"gridcolor\":\"white\",\"linecolor\":\"white\",\"ticks\":\"\",\"title\":{\"standoff\":15},\"zerolinecolor\":\"white\",\"zerolinewidth\":2}}}},                        {\"responsive\": true}                    ).then(function(){\n",
              "                            \n",
              "var gd = document.getElementById('6df51272-4482-4344-83a2-23ffdb1b1e4b');\n",
              "var x = new MutationObserver(function (mutations, observer) {{\n",
              "        var display = window.getComputedStyle(gd).display;\n",
              "        if (!display || display === 'none') {{\n",
              "            console.log([gd, 'removed!']);\n",
              "            Plotly.purge(gd);\n",
              "            observer.disconnect();\n",
              "        }}\n",
              "}});\n",
              "\n",
              "// Listen for the removal of the full notebook cells\n",
              "var notebookContainer = gd.closest('#notebook-container');\n",
              "if (notebookContainer) {{\n",
              "    x.observe(notebookContainer, {childList: true});\n",
              "}}\n",
              "\n",
              "// Listen for the clearing of the current output cell\n",
              "var outputEl = gd.closest('.output');\n",
              "if (outputEl) {{\n",
              "    x.observe(outputEl, {childList: true});\n",
              "}}\n",
              "\n",
              "                        })                };                            </script>        </div>\n",
              "</body>\n",
              "</html>"
            ]
          },
          "metadata": {}
        }
      ]
    },
    {
      "cell_type": "code",
      "source": [
        "df[\"Competition\"].unique()"
      ],
      "metadata": {
        "colab": {
          "base_uri": "https://localhost:8080/"
        },
        "id": "Yb9sRmhMGCHg",
        "outputId": "27fc1ac0-dea1-4226-8a94-30196034ef38"
      },
      "execution_count": null,
      "outputs": [
        {
          "output_type": "execute_result",
          "data": {
            "text/plain": [
              "array(['LaLiga', 'UEFA Champions League', 'Copa del Rey', 'Supercopa',\n",
              "       'FIFA Club World Cup', 'UEFA Super Cup', 'Ligue 1',\n",
              "       'TrophÃ©e des Champions', 'Trophée des Champions',\n",
              "       'Champions League'], dtype=object)"
            ]
          },
          "metadata": {},
          "execution_count": 24
        }
      ]
    },
    {
      "cell_type": "code",
      "source": [
        "import plotly.express as px\n",
        "\n",
        "Copa = list(np.where(df[\"Competition\"] == 'Copa del Rey')[0])\n",
        "Supercopa = list(np.where(df[\"Competition\"] == 'Supercopa')[0])\n",
        "FIFA  = list(np.where(df[\"Competition\"] == 'FIFA Club World Cup')[0])\n",
        "UEFA  = list(np.where(df[\"Competition\"] == 'UEFA Super Cup')[0])\n",
        "Ligue  = list(np.where(df[\"Competition\"] == 'Ligue 1')[0])\n",
        "\n",
        "Champions = df.iloc[Copa + Supercopa + FIFA + UEFA + Ligue]\n",
        "\n",
        "data = px.bar( x= Champions.Season, y= Champions.goals, color= Champions.Competition ,barmode='group')\n",
        "data.update_layout(    \n",
        "    title=\"Scoring on competitions for each season\",\n",
        "    xaxis_title=\"competitions\",\n",
        "    yaxis_title=\"Goals\")\n",
        "data.update_xaxes(showgrid=True)\n",
        "\n",
        "data.show()"
      ],
      "metadata": {
        "colab": {
          "base_uri": "https://localhost:8080/",
          "height": 542
        },
        "id": "OHwAPaR1GH6-",
        "outputId": "5461d9a6-4591-4662-cd70-23d6c57dd755"
      },
      "execution_count": null,
      "outputs": [
        {
          "output_type": "display_data",
          "data": {
            "text/html": [
              "<html>\n",
              "<head><meta charset=\"utf-8\" /></head>\n",
              "<body>\n",
              "    <div>            <script src=\"https://cdnjs.cloudflare.com/ajax/libs/mathjax/2.7.5/MathJax.js?config=TeX-AMS-MML_SVG\"></script><script type=\"text/javascript\">if (window.MathJax) {MathJax.Hub.Config({SVG: {font: \"STIX-Web\"}});}</script>                <script type=\"text/javascript\">window.PlotlyConfig = {MathJaxConfig: 'local'};</script>\n",
              "        <script src=\"https://cdn.plot.ly/plotly-2.8.3.min.js\"></script>                <div id=\"aafb4ce7-84f5-48e3-a19f-27fcc0eade92\" class=\"plotly-graph-div\" style=\"height:525px; width:100%;\"></div>            <script type=\"text/javascript\">                                    window.PLOTLYENV=window.PLOTLYENV || {};                                    if (document.getElementById(\"aafb4ce7-84f5-48e3-a19f-27fcc0eade92\")) {                    Plotly.newPlot(                        \"aafb4ce7-84f5-48e3-a19f-27fcc0eade92\",                        [{\"alignmentgroup\":\"True\",\"hovertemplate\":\"color=Copa del Rey<br>x=%{x}<br>y=%{y}<extra></extra>\",\"legendgroup\":\"Copa del Rey\",\"marker\":{\"color\":\"#636efa\",\"pattern\":{\"shape\":\"\"}},\"name\":\"Copa del Rey\",\"offsetgroup\":\"Copa del Rey\",\"orientation\":\"v\",\"showlegend\":true,\"textposition\":\"auto\",\"x\":[\"05/06\",\"06/07\",\"06/07\",\"08/09\",\"08/09\",\"08/09\",\"08/09\",\"08/09\",\"08/09\",\"09/10\",\"10/11\",\"10/11\",\"10/11\",\"10/11\",\"10/11\",\"10/11\",\"10/11\",\"11-Dec\",\"11-Dec\",\"11-Dec\",\"Dec-13\",\"Dec-13\",\"Dec-13\",\"Dec-13\",\"13/14\",\"13/14\",\"13/14\",\"13/14\",\"13/14\",\"14/15\",\"14/15\",\"14/15\",\"14/15\",\"14/15\",\"15/16\",\"15/16\",\"15/16\",\"15/16\",\"15/16\",\"16/17\",\"16/17\",\"16/17\",\"16/17\",\"16/17\",\"17/18\",\"17/18\",\"17/18\",\"17/18\",\"18/19\",\"18/19\",\"18/19\",\"19/20\",\"19/20\",\"20/21\",\"20/21\",\"20/21\"],\"xaxis\":\"x\",\"y\":[1,1,1,1,1,1,1,1,1,1,1,1,1,1,1,1,1,1,1,1,1,1,1,1,1,1,1,1,1,1,1,1,1,1,1,1,1,1,1,1,1,1,1,1,1,1,1,1,1,1,1,1,1,1,1,1],\"yaxis\":\"y\",\"type\":\"bar\"},{\"alignmentgroup\":\"True\",\"hovertemplate\":\"color=Supercopa<br>x=%{x}<br>y=%{y}<extra></extra>\",\"legendgroup\":\"Supercopa\",\"marker\":{\"color\":\"#EF553B\",\"pattern\":{\"shape\":\"\"}},\"name\":\"Supercopa\",\"offsetgroup\":\"Supercopa\",\"orientation\":\"v\",\"showlegend\":true,\"textposition\":\"auto\",\"x\":[\"09/10\",\"09/10\",\"10/11\",\"10/11\",\"10/11\",\"11-Dec\",\"11-Dec\",\"11-Dec\",\"Dec-13\",\"Dec-13\",\"15/16\",\"16/17\",\"17/18\",\"19/20\"],\"xaxis\":\"x\",\"y\":[1,1,1,1,1,1,1,1,1,1,1,1,1,1],\"yaxis\":\"y\",\"type\":\"bar\"},{\"alignmentgroup\":\"True\",\"hovertemplate\":\"color=FIFA Club World Cup<br>x=%{x}<br>y=%{y}<extra></extra>\",\"legendgroup\":\"FIFA Club World Cup\",\"marker\":{\"color\":\"#00cc96\",\"pattern\":{\"shape\":\"\"}},\"name\":\"FIFA Club World Cup\",\"offsetgroup\":\"FIFA Club World Cup\",\"orientation\":\"v\",\"showlegend\":true,\"textposition\":\"auto\",\"x\":[\"09/10\",\"09/10\",\"11-Dec\",\"11-Dec\",\"15/16\"],\"xaxis\":\"x\",\"y\":[1,1,1,1,1],\"yaxis\":\"y\",\"type\":\"bar\"},{\"alignmentgroup\":\"True\",\"hovertemplate\":\"color=UEFA Super Cup<br>x=%{x}<br>y=%{y}<extra></extra>\",\"legendgroup\":\"UEFA Super Cup\",\"marker\":{\"color\":\"#ab63fa\",\"pattern\":{\"shape\":\"\"}},\"name\":\"UEFA Super Cup\",\"offsetgroup\":\"UEFA Super Cup\",\"orientation\":\"v\",\"showlegend\":true,\"textposition\":\"auto\",\"x\":[\"11-Dec\",\"15/16\",\"15/16\"],\"xaxis\":\"x\",\"y\":[1,1,1],\"yaxis\":\"y\",\"type\":\"bar\"},{\"alignmentgroup\":\"True\",\"hovertemplate\":\"color=Ligue 1<br>x=%{x}<br>y=%{y}<extra></extra>\",\"legendgroup\":\"Ligue 1\",\"marker\":{\"color\":\"#FFA15A\",\"pattern\":{\"shape\":\"\"}},\"name\":\"Ligue 1\",\"offsetgroup\":\"Ligue 1\",\"orientation\":\"v\",\"showlegend\":true,\"textposition\":\"auto\",\"x\":[\"21/22\",\"21/22\",\"21/22\",\"21/22\",\"21/22\",\"21/22\",\"21/22\",\"21/22\",\"22/23\",\"22/23\",\"22/23\",\"22/23\",\"22/23\",\"22/23\"],\"xaxis\":\"x\",\"y\":[1,1,1,1,1,1,1,1,1,1,1,1,1,1],\"yaxis\":\"y\",\"type\":\"bar\"}],                        {\"template\":{\"data\":{\"bar\":[{\"error_x\":{\"color\":\"#2a3f5f\"},\"error_y\":{\"color\":\"#2a3f5f\"},\"marker\":{\"line\":{\"color\":\"#E5ECF6\",\"width\":0.5},\"pattern\":{\"fillmode\":\"overlay\",\"size\":10,\"solidity\":0.2}},\"type\":\"bar\"}],\"barpolar\":[{\"marker\":{\"line\":{\"color\":\"#E5ECF6\",\"width\":0.5},\"pattern\":{\"fillmode\":\"overlay\",\"size\":10,\"solidity\":0.2}},\"type\":\"barpolar\"}],\"carpet\":[{\"aaxis\":{\"endlinecolor\":\"#2a3f5f\",\"gridcolor\":\"white\",\"linecolor\":\"white\",\"minorgridcolor\":\"white\",\"startlinecolor\":\"#2a3f5f\"},\"baxis\":{\"endlinecolor\":\"#2a3f5f\",\"gridcolor\":\"white\",\"linecolor\":\"white\",\"minorgridcolor\":\"white\",\"startlinecolor\":\"#2a3f5f\"},\"type\":\"carpet\"}],\"choropleth\":[{\"colorbar\":{\"outlinewidth\":0,\"ticks\":\"\"},\"type\":\"choropleth\"}],\"contour\":[{\"colorbar\":{\"outlinewidth\":0,\"ticks\":\"\"},\"colorscale\":[[0.0,\"#0d0887\"],[0.1111111111111111,\"#46039f\"],[0.2222222222222222,\"#7201a8\"],[0.3333333333333333,\"#9c179e\"],[0.4444444444444444,\"#bd3786\"],[0.5555555555555556,\"#d8576b\"],[0.6666666666666666,\"#ed7953\"],[0.7777777777777778,\"#fb9f3a\"],[0.8888888888888888,\"#fdca26\"],[1.0,\"#f0f921\"]],\"type\":\"contour\"}],\"contourcarpet\":[{\"colorbar\":{\"outlinewidth\":0,\"ticks\":\"\"},\"type\":\"contourcarpet\"}],\"heatmap\":[{\"colorbar\":{\"outlinewidth\":0,\"ticks\":\"\"},\"colorscale\":[[0.0,\"#0d0887\"],[0.1111111111111111,\"#46039f\"],[0.2222222222222222,\"#7201a8\"],[0.3333333333333333,\"#9c179e\"],[0.4444444444444444,\"#bd3786\"],[0.5555555555555556,\"#d8576b\"],[0.6666666666666666,\"#ed7953\"],[0.7777777777777778,\"#fb9f3a\"],[0.8888888888888888,\"#fdca26\"],[1.0,\"#f0f921\"]],\"type\":\"heatmap\"}],\"heatmapgl\":[{\"colorbar\":{\"outlinewidth\":0,\"ticks\":\"\"},\"colorscale\":[[0.0,\"#0d0887\"],[0.1111111111111111,\"#46039f\"],[0.2222222222222222,\"#7201a8\"],[0.3333333333333333,\"#9c179e\"],[0.4444444444444444,\"#bd3786\"],[0.5555555555555556,\"#d8576b\"],[0.6666666666666666,\"#ed7953\"],[0.7777777777777778,\"#fb9f3a\"],[0.8888888888888888,\"#fdca26\"],[1.0,\"#f0f921\"]],\"type\":\"heatmapgl\"}],\"histogram\":[{\"marker\":{\"pattern\":{\"fillmode\":\"overlay\",\"size\":10,\"solidity\":0.2}},\"type\":\"histogram\"}],\"histogram2d\":[{\"colorbar\":{\"outlinewidth\":0,\"ticks\":\"\"},\"colorscale\":[[0.0,\"#0d0887\"],[0.1111111111111111,\"#46039f\"],[0.2222222222222222,\"#7201a8\"],[0.3333333333333333,\"#9c179e\"],[0.4444444444444444,\"#bd3786\"],[0.5555555555555556,\"#d8576b\"],[0.6666666666666666,\"#ed7953\"],[0.7777777777777778,\"#fb9f3a\"],[0.8888888888888888,\"#fdca26\"],[1.0,\"#f0f921\"]],\"type\":\"histogram2d\"}],\"histogram2dcontour\":[{\"colorbar\":{\"outlinewidth\":0,\"ticks\":\"\"},\"colorscale\":[[0.0,\"#0d0887\"],[0.1111111111111111,\"#46039f\"],[0.2222222222222222,\"#7201a8\"],[0.3333333333333333,\"#9c179e\"],[0.4444444444444444,\"#bd3786\"],[0.5555555555555556,\"#d8576b\"],[0.6666666666666666,\"#ed7953\"],[0.7777777777777778,\"#fb9f3a\"],[0.8888888888888888,\"#fdca26\"],[1.0,\"#f0f921\"]],\"type\":\"histogram2dcontour\"}],\"mesh3d\":[{\"colorbar\":{\"outlinewidth\":0,\"ticks\":\"\"},\"type\":\"mesh3d\"}],\"parcoords\":[{\"line\":{\"colorbar\":{\"outlinewidth\":0,\"ticks\":\"\"}},\"type\":\"parcoords\"}],\"pie\":[{\"automargin\":true,\"type\":\"pie\"}],\"scatter\":[{\"marker\":{\"colorbar\":{\"outlinewidth\":0,\"ticks\":\"\"}},\"type\":\"scatter\"}],\"scatter3d\":[{\"line\":{\"colorbar\":{\"outlinewidth\":0,\"ticks\":\"\"}},\"marker\":{\"colorbar\":{\"outlinewidth\":0,\"ticks\":\"\"}},\"type\":\"scatter3d\"}],\"scattercarpet\":[{\"marker\":{\"colorbar\":{\"outlinewidth\":0,\"ticks\":\"\"}},\"type\":\"scattercarpet\"}],\"scattergeo\":[{\"marker\":{\"colorbar\":{\"outlinewidth\":0,\"ticks\":\"\"}},\"type\":\"scattergeo\"}],\"scattergl\":[{\"marker\":{\"colorbar\":{\"outlinewidth\":0,\"ticks\":\"\"}},\"type\":\"scattergl\"}],\"scattermapbox\":[{\"marker\":{\"colorbar\":{\"outlinewidth\":0,\"ticks\":\"\"}},\"type\":\"scattermapbox\"}],\"scatterpolar\":[{\"marker\":{\"colorbar\":{\"outlinewidth\":0,\"ticks\":\"\"}},\"type\":\"scatterpolar\"}],\"scatterpolargl\":[{\"marker\":{\"colorbar\":{\"outlinewidth\":0,\"ticks\":\"\"}},\"type\":\"scatterpolargl\"}],\"scatterternary\":[{\"marker\":{\"colorbar\":{\"outlinewidth\":0,\"ticks\":\"\"}},\"type\":\"scatterternary\"}],\"surface\":[{\"colorbar\":{\"outlinewidth\":0,\"ticks\":\"\"},\"colorscale\":[[0.0,\"#0d0887\"],[0.1111111111111111,\"#46039f\"],[0.2222222222222222,\"#7201a8\"],[0.3333333333333333,\"#9c179e\"],[0.4444444444444444,\"#bd3786\"],[0.5555555555555556,\"#d8576b\"],[0.6666666666666666,\"#ed7953\"],[0.7777777777777778,\"#fb9f3a\"],[0.8888888888888888,\"#fdca26\"],[1.0,\"#f0f921\"]],\"type\":\"surface\"}],\"table\":[{\"cells\":{\"fill\":{\"color\":\"#EBF0F8\"},\"line\":{\"color\":\"white\"}},\"header\":{\"fill\":{\"color\":\"#C8D4E3\"},\"line\":{\"color\":\"white\"}},\"type\":\"table\"}]},\"layout\":{\"annotationdefaults\":{\"arrowcolor\":\"#2a3f5f\",\"arrowhead\":0,\"arrowwidth\":1},\"autotypenumbers\":\"strict\",\"coloraxis\":{\"colorbar\":{\"outlinewidth\":0,\"ticks\":\"\"}},\"colorscale\":{\"diverging\":[[0,\"#8e0152\"],[0.1,\"#c51b7d\"],[0.2,\"#de77ae\"],[0.3,\"#f1b6da\"],[0.4,\"#fde0ef\"],[0.5,\"#f7f7f7\"],[0.6,\"#e6f5d0\"],[0.7,\"#b8e186\"],[0.8,\"#7fbc41\"],[0.9,\"#4d9221\"],[1,\"#276419\"]],\"sequential\":[[0.0,\"#0d0887\"],[0.1111111111111111,\"#46039f\"],[0.2222222222222222,\"#7201a8\"],[0.3333333333333333,\"#9c179e\"],[0.4444444444444444,\"#bd3786\"],[0.5555555555555556,\"#d8576b\"],[0.6666666666666666,\"#ed7953\"],[0.7777777777777778,\"#fb9f3a\"],[0.8888888888888888,\"#fdca26\"],[1.0,\"#f0f921\"]],\"sequentialminus\":[[0.0,\"#0d0887\"],[0.1111111111111111,\"#46039f\"],[0.2222222222222222,\"#7201a8\"],[0.3333333333333333,\"#9c179e\"],[0.4444444444444444,\"#bd3786\"],[0.5555555555555556,\"#d8576b\"],[0.6666666666666666,\"#ed7953\"],[0.7777777777777778,\"#fb9f3a\"],[0.8888888888888888,\"#fdca26\"],[1.0,\"#f0f921\"]]},\"colorway\":[\"#636efa\",\"#EF553B\",\"#00cc96\",\"#ab63fa\",\"#FFA15A\",\"#19d3f3\",\"#FF6692\",\"#B6E880\",\"#FF97FF\",\"#FECB52\"],\"font\":{\"color\":\"#2a3f5f\"},\"geo\":{\"bgcolor\":\"white\",\"lakecolor\":\"white\",\"landcolor\":\"#E5ECF6\",\"showlakes\":true,\"showland\":true,\"subunitcolor\":\"white\"},\"hoverlabel\":{\"align\":\"left\"},\"hovermode\":\"closest\",\"mapbox\":{\"style\":\"light\"},\"paper_bgcolor\":\"white\",\"plot_bgcolor\":\"#E5ECF6\",\"polar\":{\"angularaxis\":{\"gridcolor\":\"white\",\"linecolor\":\"white\",\"ticks\":\"\"},\"bgcolor\":\"#E5ECF6\",\"radialaxis\":{\"gridcolor\":\"white\",\"linecolor\":\"white\",\"ticks\":\"\"}},\"scene\":{\"xaxis\":{\"backgroundcolor\":\"#E5ECF6\",\"gridcolor\":\"white\",\"gridwidth\":2,\"linecolor\":\"white\",\"showbackground\":true,\"ticks\":\"\",\"zerolinecolor\":\"white\"},\"yaxis\":{\"backgroundcolor\":\"#E5ECF6\",\"gridcolor\":\"white\",\"gridwidth\":2,\"linecolor\":\"white\",\"showbackground\":true,\"ticks\":\"\",\"zerolinecolor\":\"white\"},\"zaxis\":{\"backgroundcolor\":\"#E5ECF6\",\"gridcolor\":\"white\",\"gridwidth\":2,\"linecolor\":\"white\",\"showbackground\":true,\"ticks\":\"\",\"zerolinecolor\":\"white\"}},\"shapedefaults\":{\"line\":{\"color\":\"#2a3f5f\"}},\"ternary\":{\"aaxis\":{\"gridcolor\":\"white\",\"linecolor\":\"white\",\"ticks\":\"\"},\"baxis\":{\"gridcolor\":\"white\",\"linecolor\":\"white\",\"ticks\":\"\"},\"bgcolor\":\"#E5ECF6\",\"caxis\":{\"gridcolor\":\"white\",\"linecolor\":\"white\",\"ticks\":\"\"}},\"title\":{\"x\":0.05},\"xaxis\":{\"automargin\":true,\"gridcolor\":\"white\",\"linecolor\":\"white\",\"ticks\":\"\",\"title\":{\"standoff\":15},\"zerolinecolor\":\"white\",\"zerolinewidth\":2},\"yaxis\":{\"automargin\":true,\"gridcolor\":\"white\",\"linecolor\":\"white\",\"ticks\":\"\",\"title\":{\"standoff\":15},\"zerolinecolor\":\"white\",\"zerolinewidth\":2}}},\"xaxis\":{\"anchor\":\"y\",\"domain\":[0.0,1.0],\"title\":{\"text\":\"competitions\"},\"showgrid\":true},\"yaxis\":{\"anchor\":\"x\",\"domain\":[0.0,1.0],\"title\":{\"text\":\"Goals\"}},\"legend\":{\"title\":{\"text\":\"color\"},\"tracegroupgap\":0},\"margin\":{\"t\":60},\"barmode\":\"group\",\"title\":{\"text\":\"Scoring on competitions for each season\"}},                        {\"responsive\": true}                    ).then(function(){\n",
              "                            \n",
              "var gd = document.getElementById('aafb4ce7-84f5-48e3-a19f-27fcc0eade92');\n",
              "var x = new MutationObserver(function (mutations, observer) {{\n",
              "        var display = window.getComputedStyle(gd).display;\n",
              "        if (!display || display === 'none') {{\n",
              "            console.log([gd, 'removed!']);\n",
              "            Plotly.purge(gd);\n",
              "            observer.disconnect();\n",
              "        }}\n",
              "}});\n",
              "\n",
              "// Listen for the removal of the full notebook cells\n",
              "var notebookContainer = gd.closest('#notebook-container');\n",
              "if (notebookContainer) {{\n",
              "    x.observe(notebookContainer, {childList: true});\n",
              "}}\n",
              "\n",
              "// Listen for the clearing of the current output cell\n",
              "var outputEl = gd.closest('.output');\n",
              "if (outputEl) {{\n",
              "    x.observe(outputEl, {childList: true});\n",
              "}}\n",
              "\n",
              "                        })                };                            </script>        </div>\n",
              "</body>\n",
              "</html>"
            ]
          },
          "metadata": {}
        }
      ]
    },
    {
      "cell_type": "code",
      "source": [
        "goal_match= pd.DataFrame(df.groupby(df.Date.tolist()).size(),columns=['goals'])\n",
        "goal_match = goal_match.rename_axis('Date').reset_index()\n",
        "goal_match = goal_match.merge(df, how='inner', on='Date')\n",
        "import plotly.express as px\n",
        "\n",
        "fig = px.scatter(x= sorted(goal_match.Minute), y= goal_match.goals_x, color= sorted(goal_match.Season))\n",
        "fig.update_layout(    \n",
        "    title=\"Minutes scored goals per season\",\n",
        "    xaxis_title=\"Minute\",\n",
        "    yaxis_title=\"Goals\")\n",
        "fig.show()"
      ],
      "metadata": {
        "colab": {
          "base_uri": "https://localhost:8080/",
          "height": 542
        },
        "id": "gO4NQKqDGQi4",
        "outputId": "ef407ccf-ecf5-4390-81d2-5e941cf283ce"
      },
      "execution_count": null,
      "outputs": [
        {
          "output_type": "display_data",
          "data": {
            "text/html": [
              "<html>\n",
              "<head><meta charset=\"utf-8\" /></head>\n",
              "<body>\n",
              "    <div>            <script src=\"https://cdnjs.cloudflare.com/ajax/libs/mathjax/2.7.5/MathJax.js?config=TeX-AMS-MML_SVG\"></script><script type=\"text/javascript\">if (window.MathJax) {MathJax.Hub.Config({SVG: {font: \"STIX-Web\"}});}</script>                <script type=\"text/javascript\">window.PlotlyConfig = {MathJaxConfig: 'local'};</script>\n",
              "        <script src=\"https://cdn.plot.ly/plotly-2.8.3.min.js\"></script>                <div id=\"9b8efbfc-a0e2-47d6-977a-7b4de69d9610\" class=\"plotly-graph-div\" style=\"height:525px; width:100%;\"></div>            <script type=\"text/javascript\">                                    window.PLOTLYENV=window.PLOTLYENV || {};                                    if (document.getElementById(\"9b8efbfc-a0e2-47d6-977a-7b4de69d9610\")) {                    Plotly.newPlot(                        \"9b8efbfc-a0e2-47d6-977a-7b4de69d9610\",                        [{\"hovertemplate\":\"color=04/05<br>x=%{x}<br>y=%{y}<extra></extra>\",\"legendgroup\":\"04/05\",\"marker\":{\"color\":\"#636efa\",\"symbol\":\"circle\"},\"mode\":\"markers\",\"name\":\"04/05\",\"orientation\":\"v\",\"showlegend\":true,\"x\":[\"10\"],\"xaxis\":\"x\",\"y\":[1],\"yaxis\":\"y\",\"type\":\"scatter\"},{\"hovertemplate\":\"color=05/06<br>x=%{x}<br>y=%{y}<extra></extra>\",\"legendgroup\":\"05/06\",\"marker\":{\"color\":\"#EF553B\",\"symbol\":\"circle\"},\"mode\":\"markers\",\"name\":\"05/06\",\"orientation\":\"v\",\"showlegend\":true,\"x\":[\"10\",\"10\",\"11\",\"11\",\"11\",\"11\",\"11\",\"11\"],\"xaxis\":\"x\",\"y\":[1,1,1,1,2,2,1,1],\"yaxis\":\"y\",\"type\":\"scatter\"},{\"hovertemplate\":\"color=06/07<br>x=%{x}<br>y=%{y}<extra></extra>\",\"legendgroup\":\"06/07\",\"marker\":{\"color\":\"#00cc96\",\"symbol\":\"circle\"},\"mode\":\"markers\",\"name\":\"06/07\",\"orientation\":\"v\",\"showlegend\":true,\"x\":[\"11\",\"11\",\"110\",\"12\",\"12\",\"12\",\"12\",\"12\",\"12\",\"13\",\"13\",\"13\",\"13\",\"13\",\"13\",\"13\",\"13\"],\"xaxis\":\"x\",\"y\":[1,1,1,1,3,3,3,1,1,2,2,2,2,2,2,2,2],\"yaxis\":\"y\",\"type\":\"scatter\"},{\"hovertemplate\":\"color=07/08<br>x=%{x}<br>y=%{y}<extra></extra>\",\"legendgroup\":\"07/08\",\"marker\":{\"color\":\"#ab63fa\",\"symbol\":\"circle\"},\"mode\":\"markers\",\"name\":\"07/08\",\"orientation\":\"v\",\"showlegend\":true,\"x\":[\"14\",\"14\",\"15\",\"15\",\"15\",\"15\",\"15\",\"15\",\"15\",\"15\",\"15\",\"16\",\"16\",\"16\",\"16\",\"16\"],\"xaxis\":\"x\",\"y\":[1,2,2,2,2,1,1,1,1,1,1,1,2,2,1,1],\"yaxis\":\"y\",\"type\":\"scatter\"},{\"hovertemplate\":\"color=08/09<br>x=%{x}<br>y=%{y}<extra></extra>\",\"legendgroup\":\"08/09\",\"marker\":{\"color\":\"#FFA15A\",\"symbol\":\"circle\"},\"mode\":\"markers\",\"name\":\"08/09\",\"orientation\":\"v\",\"showlegend\":true,\"x\":[\"16\",\"16\",\"16\",\"16\",\"16\",\"17\",\"17\",\"17\",\"17\",\"17\",\"17\",\"18\",\"18\",\"18\",\"18\",\"18\",\"18\",\"18\",\"18\",\"18\",\"19\",\"19\",\"19\",\"19\",\"19'\",\"20\",\"20\",\"20\",\"20\",\"20\",\"20\",\"20\",\"20\",\"21\",\"21\",\"21\",\"21\",\"21\"],\"xaxis\":\"x\",\"y\":[1,2,2,1,2,2,1,1,1,1,1,1,1,2,2,1,3,3,3,1,1,2,2,2,2,1,1,1,1,1,2,2,1,1,2,2,1,1],\"yaxis\":\"y\",\"type\":\"scatter\"},{\"hovertemplate\":\"color=09/10<br>x=%{x}<br>y=%{y}<extra></extra>\",\"legendgroup\":\"09/10\",\"marker\":{\"color\":\"#19d3f3\",\"symbol\":\"circle\"},\"mode\":\"markers\",\"name\":\"09/10\",\"orientation\":\"v\",\"showlegend\":true,\"x\":[\"21\",\"21\",\"21\",\"21\",\"22\",\"22\",\"22\",\"22\",\"22'\",\"22'\",\"22'\",\"23\",\"23\",\"23\",\"23\",\"23\",\"23\",\"23\",\"23\",\"23\",\"23\",\"24\",\"24\",\"24\",\"24\",\"24\",\"24\",\"25\",\"25\",\"25\",\"25\",\"25\",\"25\",\"25\",\"25\",\"25\",\"25\",\"26\",\"26\",\"26\",\"26\",\"26\",\"26\",\"26\",\"26\",\"27\",\"27\"],\"xaxis\":\"x\",\"y\":[2,2,1,2,2,2,2,1,1,1,1,2,2,1,1,1,3,3,3,2,2,1,1,1,2,2,3,3,3,2,2,3,3,3,1,4,4,4,4,1,2,2,2,2,1,2,2],\"yaxis\":\"y\",\"type\":\"scatter\"},{\"hovertemplate\":\"color=10/11<br>x=%{x}<br>y=%{y}<extra></extra>\",\"legendgroup\":\"10/11\",\"marker\":{\"color\":\"#FF6692\",\"symbol\":\"circle\"},\"mode\":\"markers\",\"name\":\"10/11\",\"orientation\":\"v\",\"showlegend\":true,\"x\":[\"27\",\"27\",\"27\",\"27\",\"27'\",\"28\",\"28\",\"28\",\"28\",\"28\",\"28\",\"28\",\"28\",\"28'\",\"29\",\"29\",\"29\",\"3\",\"3\",\"3\",\"3\",\"30\",\"30\",\"30\",\"30\",\"30\",\"30\",\"30\",\"30\",\"31\",\"31\",\"31\",\"31\",\"31\",\"31\",\"31\",\"31\",\"31\",\"31\",\"32\",\"32\",\"32\",\"32\",\"32\",\"33\",\"33\",\"33\",\"33\",\"33\",\"33\",\"33\",\"33\",\"33\"],\"xaxis\":\"x\",\"y\":[3,3,3,1,2,2,1,1,2,2,2,2,2,2,1,1,1,2,2,3,3,3,1,2,2,2,2,1,3,3,3,1,1,2,2,2,2,3,3,3,1,1,1,2,2,2,2,1,1,1,2,2,1],\"yaxis\":\"y\",\"type\":\"scatter\"},{\"hovertemplate\":\"color=11-Dec<br>x=%{x}<br>y=%{y}<extra></extra>\",\"legendgroup\":\"11-Dec\",\"marker\":{\"color\":\"#B6E880\",\"symbol\":\"circle\"},\"mode\":\"markers\",\"name\":\"11-Dec\",\"orientation\":\"v\",\"showlegend\":true,\"x\":[\"34\",\"34\",\"34\",\"34\",\"34\",\"35\",\"35\",\"35\",\"35\",\"35\",\"36\",\"36\",\"36\",\"36\",\"36\",\"36\",\"36\",\"36\",\"37\",\"37\",\"37\",\"37\",\"37\",\"37\",\"37\",\"37'\",\"38\",\"38\",\"38\",\"38\",\"38\",\"38\",\"38\",\"38\",\"38\",\"38\",\"38\",\"39\",\"39\",\"39\",\"39\",\"39\",\"39\",\"39\",\"39\",\"4\",\"4\",\"4\",\"4\",\"40\",\"40\",\"40\",\"40\",\"40\",\"41\",\"41\",\"41\",\"41\",\"41\",\"41\",\"41\",\"42\",\"42\",\"42\",\"42\",\"42\",\"42\",\"42\",\"42\",\"42\",\"42\",\"42\",\"43\"],\"xaxis\":\"x\",\"y\":[1,2,2,1,2,2,3,3,3,3,3,3,2,2,2,2,3,3,3,3,3,3,1,1,1,1,1,2,2,2,2,2,2,3,3,3,1,1,4,4,4,4,1,5,5,5,5,5,2,2,1,3,3,3,1,1,2,2,2,2,1,2,2,2,2,3,3,3,4,4,4,4,1],\"yaxis\":\"y\",\"type\":\"scatter\"},{\"hovertemplate\":\"color=13/14<br>x=%{x}<br>y=%{y}<extra></extra>\",\"legendgroup\":\"13/14\",\"marker\":{\"color\":\"#FF97FF\",\"symbol\":\"circle\"},\"mode\":\"markers\",\"name\":\"13/14\",\"orientation\":\"v\",\"showlegend\":true,\"x\":[\"43\",\"43\",\"43\",\"43\",\"43\",\"43\",\"43\",\"43\",\"43\",\"44\",\"44\",\"44\",\"44\",\"44\",\"44\",\"44'\",\"45\",\"45\",\"45\",\"45\",\"45\",\"45\",\"45\",\"45\",\"45\",\"45\",\"45\",\"45\",\"45+1\",\"45+1\",\"45+1\",\"45+2\",\"45+2\",\"45+4\",\"46\",\"46\",\"47\",\"47\",\"47\",\"48\",\"48\"],\"xaxis\":\"x\",\"y\":[2,2,1,2,2,1,2,2,2,2,2,2,3,3,3,2,2,1,2,2,2,2,2,2,2,2,2,2,2,2,2,2,2,2,1,1,1,1,1,1,4],\"yaxis\":\"y\",\"type\":\"scatter\"},{\"hovertemplate\":\"color=14/15<br>x=%{x}<br>y=%{y}<extra></extra>\",\"legendgroup\":\"14/15\",\"marker\":{\"color\":\"#FECB52\",\"symbol\":\"circle\"},\"mode\":\"markers\",\"name\":\"14/15\",\"orientation\":\"v\",\"showlegend\":true,\"x\":[\"48\",\"49\",\"49\",\"49\",\"49\",\"49\",\"5\",\"5\",\"5\",\"5\",\"5\",\"5\",\"5\",\"5'\",\"50\",\"50\",\"50\",\"50\",\"50\",\"50\",\"50\",\"50\",\"51\",\"51\",\"51\",\"51\",\"51\",\"51\",\"51\",\"51\",\"51\",\"51\",\"52\",\"52\",\"52\",\"52\",\"53\",\"53\",\"53\",\"53\",\"54\",\"54\",\"54\",\"54\",\"54\",\"55\",\"55\",\"55\",\"55\",\"55\",\"55\",\"55\",\"55\",\"55\",\"55\",\"55\",\"55\",\"55\"],\"xaxis\":\"x\",\"y\":[4,4,4,1,1,2,2,1,1,1,2,2,2,2,1,1,1,2,2,2,2,3,3,3,1,3,3,3,1,1,1,2,2,2,2,2,2,1,2,2,1,2,2,1,1,1,1,3,3,3,3,3,3,1,1,2,2,1],\"yaxis\":\"y\",\"type\":\"scatter\"},{\"hovertemplate\":\"color=15/16<br>x=%{x}<br>y=%{y}<extra></extra>\",\"legendgroup\":\"15/16\",\"marker\":{\"color\":\"#636efa\",\"symbol\":\"circle\"},\"mode\":\"markers\",\"name\":\"15/16\",\"orientation\":\"v\",\"showlegend\":true,\"x\":[\"56\",\"56\",\"56\",\"56\",\"56\",\"56\",\"56\",\"56\",\"57\",\"57\",\"57\",\"57\",\"57\",\"58\",\"58\",\"58\",\"58\",\"58\",\"58\",\"58\",\"58\",\"58\",\"58\",\"59\",\"59\",\"59\",\"59\",\"59\",\"59\",\"59\",\"59\",\"59\",\"59\",\"6\",\"6\",\"60\",\"60\",\"60\",\"60\",\"60\",\"60\"],\"xaxis\":\"x\",\"y\":[1,1,2,2,1,2,2,1,1,1,1,2,2,3,3,3,3,3,3,3,3,3,1,2,2,1,1,3,3,3,1,2,2,1,1,1,3,3,3,1,3],\"yaxis\":\"y\",\"type\":\"scatter\"},{\"hovertemplate\":\"color=16/17<br>x=%{x}<br>y=%{y}<extra></extra>\",\"legendgroup\":\"16/17\",\"marker\":{\"color\":\"#EF553B\",\"symbol\":\"circle\"},\"mode\":\"markers\",\"name\":\"16/17\",\"orientation\":\"v\",\"showlegend\":true,\"x\":[\"60\",\"60\",\"60\",\"61\",\"61\",\"61\",\"61\",\"61\",\"61\",\"61\",\"61\",\"61\",\"62\",\"62\",\"62\",\"62\",\"62\",\"62\",\"63\",\"63\",\"63\",\"63\",\"63\",\"63\",\"63\",\"63\",\"63\",\"63\",\"63\",\"64\",\"64\",\"64\",\"64\",\"64\",\"64\",\"64\",\"64\",\"64\",\"65\",\"65\",\"65\",\"65\",\"65\",\"65\",\"65\",\"65\",\"66\",\"66\",\"66\",\"66\",\"67\",\"67\",\"67\",\"67\"],\"xaxis\":\"x\",\"y\":[3,3,2,2,1,1,1,1,2,2,2,2,2,2,1,2,2,2,2,2,2,1,1,2,2,2,2,1,1,1,1,1,2,2,3,3,3,1,1,1,3,3,3,1,2,2,2,2,1,3,3,3,2,2],\"yaxis\":\"y\",\"type\":\"scatter\"},{\"hovertemplate\":\"color=17/18<br>x=%{x}<br>y=%{y}<extra></extra>\",\"legendgroup\":\"17/18\",\"marker\":{\"color\":\"#00cc96\",\"symbol\":\"circle\"},\"mode\":\"markers\",\"name\":\"17/18\",\"orientation\":\"v\",\"showlegend\":true,\"x\":[\"67\",\"67\",\"67\",\"67\",\"68\",\"68\",\"68\",\"68\",\"68\",\"68\",\"68\",\"69\",\"69\",\"69\",\"69\",\"69\",\"69\",\"69\",\"69\",\"69\",\"7\",\"7\",\"7\",\"70\",\"70\",\"70\",\"70\",\"70\",\"71\",\"71\",\"71\",\"71\",\"71\",\"72\",\"72\",\"72\",\"72\",\"72\",\"72\",\"72\",\"73\",\"73\",\"73\",\"73\",\"73\"],\"xaxis\":\"x\",\"y\":[1,1,1,1,1,1,1,2,2,3,3,3,2,2,1,3,3,3,2,2,1,1,2,2,1,1,2,2,1,1,1,1,1,1,1,1,1,1,2,2,1,1,2,2,1],\"yaxis\":\"y\",\"type\":\"scatter\"},{\"hovertemplate\":\"color=18/19<br>x=%{x}<br>y=%{y}<extra></extra>\",\"legendgroup\":\"18/19\",\"marker\":{\"color\":\"#ab63fa\",\"symbol\":\"circle\"},\"mode\":\"markers\",\"name\":\"18/19\",\"orientation\":\"v\",\"showlegend\":true,\"x\":[\"73\",\"73\",\"73\",\"73\",\"73\",\"74\",\"74\",\"74\",\"74\",\"74\",\"74\",\"74\",\"74\",\"74\",\"74\",\"75\",\"75\",\"75\",\"75\",\"75\",\"75\",\"75\",\"75\",\"75\",\"75\",\"75\",\"75\",\"76\",\"76\",\"76\",\"76\",\"76\",\"76\",\"76\",\"76\",\"77\",\"77\",\"77\",\"77\",\"77\",\"77\",\"77\",\"77\",\"77\",\"78\",\"78\",\"78\",\"78\",\"78\",\"78\",\"78\"],\"xaxis\":\"x\",\"y\":[2,2,2,2,2,2,2,2,2,2,2,2,2,2,1,1,2,2,3,3,3,2,2,4,4,4,4,2,2,1,1,1,1,1,1,2,2,1,2,2,1,1,1,2,2,1,1,2,2,1,1],\"yaxis\":\"y\",\"type\":\"scatter\"},{\"hovertemplate\":\"color=19/20<br>x=%{x}<br>y=%{y}<extra></extra>\",\"legendgroup\":\"19/20\",\"marker\":{\"color\":\"#FFA15A\",\"symbol\":\"circle\"},\"mode\":\"markers\",\"name\":\"19/20\",\"orientation\":\"v\",\"showlegend\":true,\"x\":[\"78\",\"78\",\"78\",\"78\",\"78\",\"78'\",\"79\",\"79\",\"79\",\"79\",\"79\",\"79\",\"79\",\"8\",\"8\",\"8\",\"8\",\"8\",\"80\",\"80\",\"80\",\"80\",\"80\",\"80\",\"80\",\"80\",\"80\",\"80\",\"80'\",\"80'\",\"81\"],\"xaxis\":\"x\",\"y\":[3,3,3,1,3,3,3,1,1,2,2,2,2,3,3,3,1,2,2,1,1,2,2,1,2,2,3,3,3,1,1],\"yaxis\":\"y\",\"type\":\"scatter\"},{\"hovertemplate\":\"color=20/21<br>x=%{x}<br>y=%{y}<extra></extra>\",\"legendgroup\":\"20/21\",\"marker\":{\"color\":\"#19d3f3\",\"symbol\":\"circle\"},\"mode\":\"markers\",\"name\":\"20/21\",\"orientation\":\"v\",\"showlegend\":true,\"x\":[\"81\",\"81\",\"81\",\"81\",\"82\",\"82\",\"82\",\"82\",\"82\",\"82\",\"82\",\"82\",\"82\",\"82\",\"82\",\"83\",\"83\",\"83\",\"83\",\"83\",\"83\",\"83\",\"84\",\"84\",\"84\",\"84\",\"84\",\"84\",\"85\",\"85\",\"85\",\"85\",\"85\",\"85\",\"85\",\"85\",\"85\",\"85\"],\"xaxis\":\"x\",\"y\":[1,1,1,1,1,2,2,1,3,3,3,1,2,2,3,3,3,2,2,1,1,2,2,1,2,2,2,2,1,1,1,1,2,2,1,3,3,3],\"yaxis\":\"y\",\"type\":\"scatter\"},{\"hovertemplate\":\"color=21/22<br>x=%{x}<br>y=%{y}<extra></extra>\",\"legendgroup\":\"21/22\",\"marker\":{\"color\":\"#FF6692\",\"symbol\":\"circle\"},\"mode\":\"markers\",\"name\":\"21/22\",\"orientation\":\"v\",\"showlegend\":true,\"x\":[\"86\",\"86\",\"86\",\"86\",\"86\",\"86\",\"86\",\"86\",\"86\",\"86\",\"86\",\"86'\",\"86'\",\"87\"],\"xaxis\":\"x\",\"y\":[1,1,3,3,3,1,1,1,2,2,4,4,4,4],\"yaxis\":\"y\",\"type\":\"scatter\"},{\"hovertemplate\":\"color=22/23<br>x=%{x}<br>y=%{y}<extra></extra>\",\"legendgroup\":\"22/23\",\"marker\":{\"color\":\"#B6E880\",\"symbol\":\"circle\"},\"mode\":\"markers\",\"name\":\"22/23\",\"orientation\":\"v\",\"showlegend\":true,\"x\":[\"87\",\"87\",\"87\",\"87\",\"87\",\"87\",\"87\",\"87\",\"87\",\"87\",\"87\"],\"xaxis\":\"x\",\"y\":[1,1,1,1,1,2,2,1,1,1,1],\"yaxis\":\"y\",\"type\":\"scatter\"},{\"hovertemplate\":\"color=Dec-13<br>x=%{x}<br>y=%{y}<extra></extra>\",\"legendgroup\":\"Dec-13\",\"marker\":{\"color\":\"#FF97FF\",\"symbol\":\"circle\"},\"mode\":\"markers\",\"name\":\"Dec-13\",\"orientation\":\"v\",\"showlegend\":true,\"x\":[\"87\",\"88\",\"88\",\"88\",\"88\",\"88\",\"88\",\"88\",\"88\",\"89\",\"89\",\"89\",\"89\",\"89\",\"89\",\"89\",\"89\",\"89\",\"9\",\"9\",\"9\",\"9\",\"90\",\"90\",\"90\",\"90\",\"90\",\"90\",\"90\",\"90\",\"90\",\"90\",\"90\",\"90\",\"90+1\",\"90+1\",\"90+1\",\"90+1\",\"90+1\",\"90+1\",\"90+1\",\"90+1\",\"90+1\",\"90+1\",\"90+2\",\"90+2\",\"90+2\",\"90+2\",\"90+2\",\"90+2\",\"90+2\",\"90+2\",\"90+2\",\"90+2\",\"90+3\",\"90+3\",\"90+3\",\"90+4\",\"90+4\",\"90+4\"],\"xaxis\":\"x\",\"y\":[1,2,2,1,1,1,1,2,2,2,2,1,1,1,2,2,1,1,2,2,1,1,2,2,2,2,2,2,2,2,1,2,2,1,1,1,2,2,1,2,2,1,1,1,2,2,2,2,4,4,4,4,1,1,1,1,1,1,2,2],\"yaxis\":\"y\",\"type\":\"scatter\"}],                        {\"template\":{\"data\":{\"bar\":[{\"error_x\":{\"color\":\"#2a3f5f\"},\"error_y\":{\"color\":\"#2a3f5f\"},\"marker\":{\"line\":{\"color\":\"#E5ECF6\",\"width\":0.5},\"pattern\":{\"fillmode\":\"overlay\",\"size\":10,\"solidity\":0.2}},\"type\":\"bar\"}],\"barpolar\":[{\"marker\":{\"line\":{\"color\":\"#E5ECF6\",\"width\":0.5},\"pattern\":{\"fillmode\":\"overlay\",\"size\":10,\"solidity\":0.2}},\"type\":\"barpolar\"}],\"carpet\":[{\"aaxis\":{\"endlinecolor\":\"#2a3f5f\",\"gridcolor\":\"white\",\"linecolor\":\"white\",\"minorgridcolor\":\"white\",\"startlinecolor\":\"#2a3f5f\"},\"baxis\":{\"endlinecolor\":\"#2a3f5f\",\"gridcolor\":\"white\",\"linecolor\":\"white\",\"minorgridcolor\":\"white\",\"startlinecolor\":\"#2a3f5f\"},\"type\":\"carpet\"}],\"choropleth\":[{\"colorbar\":{\"outlinewidth\":0,\"ticks\":\"\"},\"type\":\"choropleth\"}],\"contour\":[{\"colorbar\":{\"outlinewidth\":0,\"ticks\":\"\"},\"colorscale\":[[0.0,\"#0d0887\"],[0.1111111111111111,\"#46039f\"],[0.2222222222222222,\"#7201a8\"],[0.3333333333333333,\"#9c179e\"],[0.4444444444444444,\"#bd3786\"],[0.5555555555555556,\"#d8576b\"],[0.6666666666666666,\"#ed7953\"],[0.7777777777777778,\"#fb9f3a\"],[0.8888888888888888,\"#fdca26\"],[1.0,\"#f0f921\"]],\"type\":\"contour\"}],\"contourcarpet\":[{\"colorbar\":{\"outlinewidth\":0,\"ticks\":\"\"},\"type\":\"contourcarpet\"}],\"heatmap\":[{\"colorbar\":{\"outlinewidth\":0,\"ticks\":\"\"},\"colorscale\":[[0.0,\"#0d0887\"],[0.1111111111111111,\"#46039f\"],[0.2222222222222222,\"#7201a8\"],[0.3333333333333333,\"#9c179e\"],[0.4444444444444444,\"#bd3786\"],[0.5555555555555556,\"#d8576b\"],[0.6666666666666666,\"#ed7953\"],[0.7777777777777778,\"#fb9f3a\"],[0.8888888888888888,\"#fdca26\"],[1.0,\"#f0f921\"]],\"type\":\"heatmap\"}],\"heatmapgl\":[{\"colorbar\":{\"outlinewidth\":0,\"ticks\":\"\"},\"colorscale\":[[0.0,\"#0d0887\"],[0.1111111111111111,\"#46039f\"],[0.2222222222222222,\"#7201a8\"],[0.3333333333333333,\"#9c179e\"],[0.4444444444444444,\"#bd3786\"],[0.5555555555555556,\"#d8576b\"],[0.6666666666666666,\"#ed7953\"],[0.7777777777777778,\"#fb9f3a\"],[0.8888888888888888,\"#fdca26\"],[1.0,\"#f0f921\"]],\"type\":\"heatmapgl\"}],\"histogram\":[{\"marker\":{\"pattern\":{\"fillmode\":\"overlay\",\"size\":10,\"solidity\":0.2}},\"type\":\"histogram\"}],\"histogram2d\":[{\"colorbar\":{\"outlinewidth\":0,\"ticks\":\"\"},\"colorscale\":[[0.0,\"#0d0887\"],[0.1111111111111111,\"#46039f\"],[0.2222222222222222,\"#7201a8\"],[0.3333333333333333,\"#9c179e\"],[0.4444444444444444,\"#bd3786\"],[0.5555555555555556,\"#d8576b\"],[0.6666666666666666,\"#ed7953\"],[0.7777777777777778,\"#fb9f3a\"],[0.8888888888888888,\"#fdca26\"],[1.0,\"#f0f921\"]],\"type\":\"histogram2d\"}],\"histogram2dcontour\":[{\"colorbar\":{\"outlinewidth\":0,\"ticks\":\"\"},\"colorscale\":[[0.0,\"#0d0887\"],[0.1111111111111111,\"#46039f\"],[0.2222222222222222,\"#7201a8\"],[0.3333333333333333,\"#9c179e\"],[0.4444444444444444,\"#bd3786\"],[0.5555555555555556,\"#d8576b\"],[0.6666666666666666,\"#ed7953\"],[0.7777777777777778,\"#fb9f3a\"],[0.8888888888888888,\"#fdca26\"],[1.0,\"#f0f921\"]],\"type\":\"histogram2dcontour\"}],\"mesh3d\":[{\"colorbar\":{\"outlinewidth\":0,\"ticks\":\"\"},\"type\":\"mesh3d\"}],\"parcoords\":[{\"line\":{\"colorbar\":{\"outlinewidth\":0,\"ticks\":\"\"}},\"type\":\"parcoords\"}],\"pie\":[{\"automargin\":true,\"type\":\"pie\"}],\"scatter\":[{\"marker\":{\"colorbar\":{\"outlinewidth\":0,\"ticks\":\"\"}},\"type\":\"scatter\"}],\"scatter3d\":[{\"line\":{\"colorbar\":{\"outlinewidth\":0,\"ticks\":\"\"}},\"marker\":{\"colorbar\":{\"outlinewidth\":0,\"ticks\":\"\"}},\"type\":\"scatter3d\"}],\"scattercarpet\":[{\"marker\":{\"colorbar\":{\"outlinewidth\":0,\"ticks\":\"\"}},\"type\":\"scattercarpet\"}],\"scattergeo\":[{\"marker\":{\"colorbar\":{\"outlinewidth\":0,\"ticks\":\"\"}},\"type\":\"scattergeo\"}],\"scattergl\":[{\"marker\":{\"colorbar\":{\"outlinewidth\":0,\"ticks\":\"\"}},\"type\":\"scattergl\"}],\"scattermapbox\":[{\"marker\":{\"colorbar\":{\"outlinewidth\":0,\"ticks\":\"\"}},\"type\":\"scattermapbox\"}],\"scatterpolar\":[{\"marker\":{\"colorbar\":{\"outlinewidth\":0,\"ticks\":\"\"}},\"type\":\"scatterpolar\"}],\"scatterpolargl\":[{\"marker\":{\"colorbar\":{\"outlinewidth\":0,\"ticks\":\"\"}},\"type\":\"scatterpolargl\"}],\"scatterternary\":[{\"marker\":{\"colorbar\":{\"outlinewidth\":0,\"ticks\":\"\"}},\"type\":\"scatterternary\"}],\"surface\":[{\"colorbar\":{\"outlinewidth\":0,\"ticks\":\"\"},\"colorscale\":[[0.0,\"#0d0887\"],[0.1111111111111111,\"#46039f\"],[0.2222222222222222,\"#7201a8\"],[0.3333333333333333,\"#9c179e\"],[0.4444444444444444,\"#bd3786\"],[0.5555555555555556,\"#d8576b\"],[0.6666666666666666,\"#ed7953\"],[0.7777777777777778,\"#fb9f3a\"],[0.8888888888888888,\"#fdca26\"],[1.0,\"#f0f921\"]],\"type\":\"surface\"}],\"table\":[{\"cells\":{\"fill\":{\"color\":\"#EBF0F8\"},\"line\":{\"color\":\"white\"}},\"header\":{\"fill\":{\"color\":\"#C8D4E3\"},\"line\":{\"color\":\"white\"}},\"type\":\"table\"}]},\"layout\":{\"annotationdefaults\":{\"arrowcolor\":\"#2a3f5f\",\"arrowhead\":0,\"arrowwidth\":1},\"autotypenumbers\":\"strict\",\"coloraxis\":{\"colorbar\":{\"outlinewidth\":0,\"ticks\":\"\"}},\"colorscale\":{\"diverging\":[[0,\"#8e0152\"],[0.1,\"#c51b7d\"],[0.2,\"#de77ae\"],[0.3,\"#f1b6da\"],[0.4,\"#fde0ef\"],[0.5,\"#f7f7f7\"],[0.6,\"#e6f5d0\"],[0.7,\"#b8e186\"],[0.8,\"#7fbc41\"],[0.9,\"#4d9221\"],[1,\"#276419\"]],\"sequential\":[[0.0,\"#0d0887\"],[0.1111111111111111,\"#46039f\"],[0.2222222222222222,\"#7201a8\"],[0.3333333333333333,\"#9c179e\"],[0.4444444444444444,\"#bd3786\"],[0.5555555555555556,\"#d8576b\"],[0.6666666666666666,\"#ed7953\"],[0.7777777777777778,\"#fb9f3a\"],[0.8888888888888888,\"#fdca26\"],[1.0,\"#f0f921\"]],\"sequentialminus\":[[0.0,\"#0d0887\"],[0.1111111111111111,\"#46039f\"],[0.2222222222222222,\"#7201a8\"],[0.3333333333333333,\"#9c179e\"],[0.4444444444444444,\"#bd3786\"],[0.5555555555555556,\"#d8576b\"],[0.6666666666666666,\"#ed7953\"],[0.7777777777777778,\"#fb9f3a\"],[0.8888888888888888,\"#fdca26\"],[1.0,\"#f0f921\"]]},\"colorway\":[\"#636efa\",\"#EF553B\",\"#00cc96\",\"#ab63fa\",\"#FFA15A\",\"#19d3f3\",\"#FF6692\",\"#B6E880\",\"#FF97FF\",\"#FECB52\"],\"font\":{\"color\":\"#2a3f5f\"},\"geo\":{\"bgcolor\":\"white\",\"lakecolor\":\"white\",\"landcolor\":\"#E5ECF6\",\"showlakes\":true,\"showland\":true,\"subunitcolor\":\"white\"},\"hoverlabel\":{\"align\":\"left\"},\"hovermode\":\"closest\",\"mapbox\":{\"style\":\"light\"},\"paper_bgcolor\":\"white\",\"plot_bgcolor\":\"#E5ECF6\",\"polar\":{\"angularaxis\":{\"gridcolor\":\"white\",\"linecolor\":\"white\",\"ticks\":\"\"},\"bgcolor\":\"#E5ECF6\",\"radialaxis\":{\"gridcolor\":\"white\",\"linecolor\":\"white\",\"ticks\":\"\"}},\"scene\":{\"xaxis\":{\"backgroundcolor\":\"#E5ECF6\",\"gridcolor\":\"white\",\"gridwidth\":2,\"linecolor\":\"white\",\"showbackground\":true,\"ticks\":\"\",\"zerolinecolor\":\"white\"},\"yaxis\":{\"backgroundcolor\":\"#E5ECF6\",\"gridcolor\":\"white\",\"gridwidth\":2,\"linecolor\":\"white\",\"showbackground\":true,\"ticks\":\"\",\"zerolinecolor\":\"white\"},\"zaxis\":{\"backgroundcolor\":\"#E5ECF6\",\"gridcolor\":\"white\",\"gridwidth\":2,\"linecolor\":\"white\",\"showbackground\":true,\"ticks\":\"\",\"zerolinecolor\":\"white\"}},\"shapedefaults\":{\"line\":{\"color\":\"#2a3f5f\"}},\"ternary\":{\"aaxis\":{\"gridcolor\":\"white\",\"linecolor\":\"white\",\"ticks\":\"\"},\"baxis\":{\"gridcolor\":\"white\",\"linecolor\":\"white\",\"ticks\":\"\"},\"bgcolor\":\"#E5ECF6\",\"caxis\":{\"gridcolor\":\"white\",\"linecolor\":\"white\",\"ticks\":\"\"}},\"title\":{\"x\":0.05},\"xaxis\":{\"automargin\":true,\"gridcolor\":\"white\",\"linecolor\":\"white\",\"ticks\":\"\",\"title\":{\"standoff\":15},\"zerolinecolor\":\"white\",\"zerolinewidth\":2},\"yaxis\":{\"automargin\":true,\"gridcolor\":\"white\",\"linecolor\":\"white\",\"ticks\":\"\",\"title\":{\"standoff\":15},\"zerolinecolor\":\"white\",\"zerolinewidth\":2}}},\"xaxis\":{\"anchor\":\"y\",\"domain\":[0.0,1.0],\"title\":{\"text\":\"Minute\"}},\"yaxis\":{\"anchor\":\"x\",\"domain\":[0.0,1.0],\"title\":{\"text\":\"Goals\"}},\"legend\":{\"title\":{\"text\":\"color\"},\"tracegroupgap\":0},\"margin\":{\"t\":60},\"title\":{\"text\":\"Minutes scored goals per season\"}},                        {\"responsive\": true}                    ).then(function(){\n",
              "                            \n",
              "var gd = document.getElementById('9b8efbfc-a0e2-47d6-977a-7b4de69d9610');\n",
              "var x = new MutationObserver(function (mutations, observer) {{\n",
              "        var display = window.getComputedStyle(gd).display;\n",
              "        if (!display || display === 'none') {{\n",
              "            console.log([gd, 'removed!']);\n",
              "            Plotly.purge(gd);\n",
              "            observer.disconnect();\n",
              "        }}\n",
              "}});\n",
              "\n",
              "// Listen for the removal of the full notebook cells\n",
              "var notebookContainer = gd.closest('#notebook-container');\n",
              "if (notebookContainer) {{\n",
              "    x.observe(notebookContainer, {childList: true});\n",
              "}}\n",
              "\n",
              "// Listen for the clearing of the current output cell\n",
              "var outputEl = gd.closest('.output');\n",
              "if (outputEl) {{\n",
              "    x.observe(outputEl, {childList: true});\n",
              "}}\n",
              "\n",
              "                        })                };                            </script>        </div>\n",
              "</body>\n",
              "</html>"
            ]
          },
          "metadata": {}
        }
      ]
    },
    {
      "cell_type": "code",
      "source": [
        "df['Playing_Position'].unique()"
      ],
      "metadata": {
        "colab": {
          "base_uri": "https://localhost:8080/"
        },
        "id": "a5xfPoTuGpbP",
        "outputId": "bb8ffa35-5016-4a40-a70f-f0d1a7b03296"
      },
      "execution_count": null,
      "outputs": [
        {
          "output_type": "execute_result",
          "data": {
            "text/plain": [
              "array(['CF', 'RW', 'LW', 'SS', 'CF ', 'AM', 'RW ', 'AM ', 'SS '],\n",
              "      dtype=object)"
            ]
          },
          "metadata": {},
          "execution_count": 27
        }
      ]
    },
    {
      "cell_type": "code",
      "source": [
        "df.Playing_Position= df.Playing_Position.str.replace('CF ','CF')\n",
        "df.Playing_Position= df.Playing_Position.str.replace('RW ','RW')\n",
        "df.Playing_Position= df.Playing_Position.str.replace('AM ','AM')\n",
        "df.Playing_Position= df.Playing_Position.str.replace('SS ','SS')\n",
        "df['Playing_Position'].unique()"
      ],
      "metadata": {
        "colab": {
          "base_uri": "https://localhost:8080/"
        },
        "id": "p9F88MlmGsB7",
        "outputId": "e3f7f94a-6373-43fb-f7bc-b183718179da"
      },
      "execution_count": null,
      "outputs": [
        {
          "output_type": "execute_result",
          "data": {
            "text/plain": [
              "array(['CF', 'RW', 'LW', 'SS', 'AM'], dtype=object)"
            ]
          },
          "metadata": {},
          "execution_count": 28
        }
      ]
    },
    {
      "cell_type": "code",
      "source": [
        "pos = pd.DataFrame(df.groupby(df['Playing_Position'].tolist()).size(),columns=['goals'])\n",
        "pos = pos.rename_axis('Playing_Position').reset_index()\n",
        "pos = pos.merge(df, how='inner', on='Playing_Position')\n",
        "pos = pos[['Playing_Position','goals_x','Season']]\n",
        "pos"
      ],
      "metadata": {
        "colab": {
          "base_uri": "https://localhost:8080/",
          "height": 424
        },
        "id": "aqChrS6sGvMd",
        "outputId": "b01a1b5c-d409-485d-c6a8-41ce9aafbabf"
      },
      "execution_count": null,
      "outputs": [
        {
          "output_type": "execute_result",
          "data": {
            "text/plain": [
              "    Playing_Position  goals_x Season\n",
              "0                 AM       15  14/15\n",
              "1                 AM       15  15/16\n",
              "2                 AM       15  15/16\n",
              "3                 AM       15  16/17\n",
              "4                 AM       15  16/17\n",
              "..               ...      ...    ...\n",
              "692               SS       53  20/21\n",
              "693               SS       53  20/21\n",
              "694               SS       53  22/23\n",
              "695               SS       53  22/23\n",
              "696               SS       53  22/23\n",
              "\n",
              "[697 rows x 3 columns]"
            ],
            "text/html": [
              "\n",
              "  <div id=\"df-41b47dfa-9022-4f41-8600-c6ae77dda1b9\">\n",
              "    <div class=\"colab-df-container\">\n",
              "      <div>\n",
              "<style scoped>\n",
              "    .dataframe tbody tr th:only-of-type {\n",
              "        vertical-align: middle;\n",
              "    }\n",
              "\n",
              "    .dataframe tbody tr th {\n",
              "        vertical-align: top;\n",
              "    }\n",
              "\n",
              "    .dataframe thead th {\n",
              "        text-align: right;\n",
              "    }\n",
              "</style>\n",
              "<table border=\"1\" class=\"dataframe\">\n",
              "  <thead>\n",
              "    <tr style=\"text-align: right;\">\n",
              "      <th></th>\n",
              "      <th>Playing_Position</th>\n",
              "      <th>goals_x</th>\n",
              "      <th>Season</th>\n",
              "    </tr>\n",
              "  </thead>\n",
              "  <tbody>\n",
              "    <tr>\n",
              "      <th>0</th>\n",
              "      <td>AM</td>\n",
              "      <td>15</td>\n",
              "      <td>14/15</td>\n",
              "    </tr>\n",
              "    <tr>\n",
              "      <th>1</th>\n",
              "      <td>AM</td>\n",
              "      <td>15</td>\n",
              "      <td>15/16</td>\n",
              "    </tr>\n",
              "    <tr>\n",
              "      <th>2</th>\n",
              "      <td>AM</td>\n",
              "      <td>15</td>\n",
              "      <td>15/16</td>\n",
              "    </tr>\n",
              "    <tr>\n",
              "      <th>3</th>\n",
              "      <td>AM</td>\n",
              "      <td>15</td>\n",
              "      <td>16/17</td>\n",
              "    </tr>\n",
              "    <tr>\n",
              "      <th>4</th>\n",
              "      <td>AM</td>\n",
              "      <td>15</td>\n",
              "      <td>16/17</td>\n",
              "    </tr>\n",
              "    <tr>\n",
              "      <th>...</th>\n",
              "      <td>...</td>\n",
              "      <td>...</td>\n",
              "      <td>...</td>\n",
              "    </tr>\n",
              "    <tr>\n",
              "      <th>692</th>\n",
              "      <td>SS</td>\n",
              "      <td>53</td>\n",
              "      <td>20/21</td>\n",
              "    </tr>\n",
              "    <tr>\n",
              "      <th>693</th>\n",
              "      <td>SS</td>\n",
              "      <td>53</td>\n",
              "      <td>20/21</td>\n",
              "    </tr>\n",
              "    <tr>\n",
              "      <th>694</th>\n",
              "      <td>SS</td>\n",
              "      <td>53</td>\n",
              "      <td>22/23</td>\n",
              "    </tr>\n",
              "    <tr>\n",
              "      <th>695</th>\n",
              "      <td>SS</td>\n",
              "      <td>53</td>\n",
              "      <td>22/23</td>\n",
              "    </tr>\n",
              "    <tr>\n",
              "      <th>696</th>\n",
              "      <td>SS</td>\n",
              "      <td>53</td>\n",
              "      <td>22/23</td>\n",
              "    </tr>\n",
              "  </tbody>\n",
              "</table>\n",
              "<p>697 rows × 3 columns</p>\n",
              "</div>\n",
              "      <button class=\"colab-df-convert\" onclick=\"convertToInteractive('df-41b47dfa-9022-4f41-8600-c6ae77dda1b9')\"\n",
              "              title=\"Convert this dataframe to an interactive table.\"\n",
              "              style=\"display:none;\">\n",
              "        \n",
              "  <svg xmlns=\"http://www.w3.org/2000/svg\" height=\"24px\"viewBox=\"0 0 24 24\"\n",
              "       width=\"24px\">\n",
              "    <path d=\"M0 0h24v24H0V0z\" fill=\"none\"/>\n",
              "    <path d=\"M18.56 5.44l.94 2.06.94-2.06 2.06-.94-2.06-.94-.94-2.06-.94 2.06-2.06.94zm-11 1L8.5 8.5l.94-2.06 2.06-.94-2.06-.94L8.5 2.5l-.94 2.06-2.06.94zm10 10l.94 2.06.94-2.06 2.06-.94-2.06-.94-.94-2.06-.94 2.06-2.06.94z\"/><path d=\"M17.41 7.96l-1.37-1.37c-.4-.4-.92-.59-1.43-.59-.52 0-1.04.2-1.43.59L10.3 9.45l-7.72 7.72c-.78.78-.78 2.05 0 2.83L4 21.41c.39.39.9.59 1.41.59.51 0 1.02-.2 1.41-.59l7.78-7.78 2.81-2.81c.8-.78.8-2.07 0-2.86zM5.41 20L4 18.59l7.72-7.72 1.47 1.35L5.41 20z\"/>\n",
              "  </svg>\n",
              "      </button>\n",
              "      \n",
              "  <style>\n",
              "    .colab-df-container {\n",
              "      display:flex;\n",
              "      flex-wrap:wrap;\n",
              "      gap: 12px;\n",
              "    }\n",
              "\n",
              "    .colab-df-convert {\n",
              "      background-color: #E8F0FE;\n",
              "      border: none;\n",
              "      border-radius: 50%;\n",
              "      cursor: pointer;\n",
              "      display: none;\n",
              "      fill: #1967D2;\n",
              "      height: 32px;\n",
              "      padding: 0 0 0 0;\n",
              "      width: 32px;\n",
              "    }\n",
              "\n",
              "    .colab-df-convert:hover {\n",
              "      background-color: #E2EBFA;\n",
              "      box-shadow: 0px 1px 2px rgba(60, 64, 67, 0.3), 0px 1px 3px 1px rgba(60, 64, 67, 0.15);\n",
              "      fill: #174EA6;\n",
              "    }\n",
              "\n",
              "    [theme=dark] .colab-df-convert {\n",
              "      background-color: #3B4455;\n",
              "      fill: #D2E3FC;\n",
              "    }\n",
              "\n",
              "    [theme=dark] .colab-df-convert:hover {\n",
              "      background-color: #434B5C;\n",
              "      box-shadow: 0px 1px 3px 1px rgba(0, 0, 0, 0.15);\n",
              "      filter: drop-shadow(0px 1px 2px rgba(0, 0, 0, 0.3));\n",
              "      fill: #FFFFFF;\n",
              "    }\n",
              "  </style>\n",
              "\n",
              "      <script>\n",
              "        const buttonEl =\n",
              "          document.querySelector('#df-41b47dfa-9022-4f41-8600-c6ae77dda1b9 button.colab-df-convert');\n",
              "        buttonEl.style.display =\n",
              "          google.colab.kernel.accessAllowed ? 'block' : 'none';\n",
              "\n",
              "        async function convertToInteractive(key) {\n",
              "          const element = document.querySelector('#df-41b47dfa-9022-4f41-8600-c6ae77dda1b9');\n",
              "          const dataTable =\n",
              "            await google.colab.kernel.invokeFunction('convertToInteractive',\n",
              "                                                     [key], {});\n",
              "          if (!dataTable) return;\n",
              "\n",
              "          const docLinkHtml = 'Like what you see? Visit the ' +\n",
              "            '<a target=\"_blank\" href=https://colab.research.google.com/notebooks/data_table.ipynb>data table notebook</a>'\n",
              "            + ' to learn more about interactive tables.';\n",
              "          element.innerHTML = '';\n",
              "          dataTable['output_type'] = 'display_data';\n",
              "          await google.colab.output.renderOutput(dataTable, element);\n",
              "          const docLink = document.createElement('div');\n",
              "          docLink.innerHTML = docLinkHtml;\n",
              "          element.appendChild(docLink);\n",
              "        }\n",
              "      </script>\n",
              "    </div>\n",
              "  </div>\n",
              "  "
            ]
          },
          "metadata": {},
          "execution_count": 29
        }
      ]
    },
    {
      "cell_type": "code",
      "source": [
        "import plotly.express as px\n",
        "\n",
        "fig = px.pie(values= pos.goals_x, names= pos.Playing_Position,\n",
        "             title=\"Most of Messi's position scored goals\",\n",
        "             hover_data=[pos.Season])\n",
        "fig.update_traces(textposition='inside', textinfo='percent+label')\n",
        "fig.show()"
      ],
      "metadata": {
        "colab": {
          "base_uri": "https://localhost:8080/",
          "height": 542
        },
        "id": "2B_mrk8XGzAZ",
        "outputId": "0a15e83e-f5cb-4588-c133-71895b4156d9"
      },
      "execution_count": null,
      "outputs": [
        {
          "output_type": "display_data",
          "data": {
            "text/html": [
              "<html>\n",
              "<head><meta charset=\"utf-8\" /></head>\n",
              "<body>\n",
              "    <div>            <script src=\"https://cdnjs.cloudflare.com/ajax/libs/mathjax/2.7.5/MathJax.js?config=TeX-AMS-MML_SVG\"></script><script type=\"text/javascript\">if (window.MathJax) {MathJax.Hub.Config({SVG: {font: \"STIX-Web\"}});}</script>                <script type=\"text/javascript\">window.PlotlyConfig = {MathJaxConfig: 'local'};</script>\n",
              "        <script src=\"https://cdn.plot.ly/plotly-2.8.3.min.js\"></script>                <div id=\"7b626249-6ffa-44e6-aab3-def13cc31954\" class=\"plotly-graph-div\" style=\"height:525px; width:100%;\"></div>            <script type=\"text/javascript\">                                    window.PLOTLYENV=window.PLOTLYENV || {};                                    if (document.getElementById(\"7b626249-6ffa-44e6-aab3-def13cc31954\")) {                    Plotly.newPlot(                        \"7b626249-6ffa-44e6-aab3-def13cc31954\",                        [{\"customdata\":[[\"14/15\"],[\"15/16\"],[\"15/16\"],[\"16/17\"],[\"16/17\"],[\"16/17\"],[\"16/17\"],[\"16/17\"],[\"16/17\"],[\"16/17\"],[\"20/21\"],[\"22/23\"],[\"22/23\"],[\"22/23\"],[\"22/23\"],[\"04/05\"],[\"05/06\"],[\"05/06\"],[\"05/06\"],[\"05/06\"],[\"08/09\"],[\"08/09\"],[\"08/09\"],[\"08/09\"],[\"09/10\"],[\"09/10\"],[\"09/10\"],[\"09/10\"],[\"09/10\"],[\"09/10\"],[\"09/10\"],[\"09/10\"],[\"09/10\"],[\"09/10\"],[\"09/10\"],[\"10/11\"],[\"10/11\"],[\"10/11\"],[\"10/11\"],[\"10/11\"],[\"10/11\"],[\"10/11\"],[\"10/11\"],[\"10/11\"],[\"10/11\"],[\"10/11\"],[\"10/11\"],[\"10/11\"],[\"10/11\"],[\"10/11\"],[\"10/11\"],[\"10/11\"],[\"10/11\"],[\"10/11\"],[\"10/11\"],[\"10/11\"],[\"10/11\"],[\"10/11\"],[\"10/11\"],[\"10/11\"],[\"10/11\"],[\"10/11\"],[\"10/11\"],[\"10/11\"],[\"10/11\"],[\"10/11\"],[\"10/11\"],[\"10/11\"],[\"10/11\"],[\"10/11\"],[\"10/11\"],[\"10/11\"],[\"10/11\"],[\"10/11\"],[\"10/11\"],[\"10/11\"],[\"10/11\"],[\"10/11\"],[\"11-Dec\"],[\"11-Dec\"],[\"11-Dec\"],[\"11-Dec\"],[\"11-Dec\"],[\"11-Dec\"],[\"11-Dec\"],[\"11-Dec\"],[\"11-Dec\"],[\"11-Dec\"],[\"11-Dec\"],[\"11-Dec\"],[\"11-Dec\"],[\"11-Dec\"],[\"11-Dec\"],[\"11-Dec\"],[\"11-Dec\"],[\"11-Dec\"],[\"11-Dec\"],[\"11-Dec\"],[\"11-Dec\"],[\"11-Dec\"],[\"11-Dec\"],[\"11-Dec\"],[\"11-Dec\"],[\"11-Dec\"],[\"11-Dec\"],[\"11-Dec\"],[\"11-Dec\"],[\"11-Dec\"],[\"11-Dec\"],[\"11-Dec\"],[\"11-Dec\"],[\"11-Dec\"],[\"11-Dec\"],[\"11-Dec\"],[\"11-Dec\"],[\"11-Dec\"],[\"11-Dec\"],[\"11-Dec\"],[\"11-Dec\"],[\"11-Dec\"],[\"11-Dec\"],[\"11-Dec\"],[\"11-Dec\"],[\"11-Dec\"],[\"11-Dec\"],[\"11-Dec\"],[\"11-Dec\"],[\"11-Dec\"],[\"11-Dec\"],[\"11-Dec\"],[\"11-Dec\"],[\"11-Dec\"],[\"11-Dec\"],[\"11-Dec\"],[\"11-Dec\"],[\"11-Dec\"],[\"11-Dec\"],[\"11-Dec\"],[\"11-Dec\"],[\"11-Dec\"],[\"11-Dec\"],[\"11-Dec\"],[\"11-Dec\"],[\"11-Dec\"],[\"11-Dec\"],[\"11-Dec\"],[\"Dec-13\"],[\"Dec-13\"],[\"Dec-13\"],[\"Dec-13\"],[\"Dec-13\"],[\"Dec-13\"],[\"Dec-13\"],[\"Dec-13\"],[\"Dec-13\"],[\"Dec-13\"],[\"Dec-13\"],[\"Dec-13\"],[\"Dec-13\"],[\"Dec-13\"],[\"Dec-13\"],[\"Dec-13\"],[\"Dec-13\"],[\"Dec-13\"],[\"Dec-13\"],[\"Dec-13\"],[\"Dec-13\"],[\"Dec-13\"],[\"Dec-13\"],[\"Dec-13\"],[\"Dec-13\"],[\"Dec-13\"],[\"Dec-13\"],[\"Dec-13\"],[\"Dec-13\"],[\"Dec-13\"],[\"Dec-13\"],[\"Dec-13\"],[\"Dec-13\"],[\"Dec-13\"],[\"Dec-13\"],[\"Dec-13\"],[\"Dec-13\"],[\"Dec-13\"],[\"Dec-13\"],[\"Dec-13\"],[\"Dec-13\"],[\"Dec-13\"],[\"Dec-13\"],[\"Dec-13\"],[\"Dec-13\"],[\"Dec-13\"],[\"Dec-13\"],[\"Dec-13\"],[\"Dec-13\"],[\"Dec-13\"],[\"Dec-13\"],[\"Dec-13\"],[\"Dec-13\"],[\"Dec-13\"],[\"Dec-13\"],[\"Dec-13\"],[\"Dec-13\"],[\"Dec-13\"],[\"Dec-13\"],[\"Dec-13\"],[\"13/14\"],[\"13/14\"],[\"13/14\"],[\"13/14\"],[\"13/14\"],[\"13/14\"],[\"13/14\"],[\"13/14\"],[\"13/14\"],[\"13/14\"],[\"13/14\"],[\"13/14\"],[\"13/14\"],[\"13/14\"],[\"13/14\"],[\"13/14\"],[\"13/14\"],[\"13/14\"],[\"13/14\"],[\"13/14\"],[\"13/14\"],[\"13/14\"],[\"13/14\"],[\"13/14\"],[\"13/14\"],[\"13/14\"],[\"13/14\"],[\"13/14\"],[\"13/14\"],[\"13/14\"],[\"13/14\"],[\"13/14\"],[\"13/14\"],[\"13/14\"],[\"13/14\"],[\"13/14\"],[\"13/14\"],[\"13/14\"],[\"13/14\"],[\"13/14\"],[\"13/14\"],[\"14/15\"],[\"14/15\"],[\"14/15\"],[\"14/15\"],[\"14/15\"],[\"14/15\"],[\"14/15\"],[\"14/15\"],[\"14/15\"],[\"14/15\"],[\"14/15\"],[\"14/15\"],[\"14/15\"],[\"14/15\"],[\"14/15\"],[\"14/15\"],[\"15/16\"],[\"15/16\"],[\"17/18\"],[\"17/18\"],[\"17/18\"],[\"17/18\"],[\"17/18\"],[\"17/18\"],[\"17/18\"],[\"17/18\"],[\"17/18\"],[\"17/18\"],[\"17/18\"],[\"17/18\"],[\"17/18\"],[\"17/18\"],[\"17/18\"],[\"17/18\"],[\"18/19\"],[\"18/19\"],[\"18/19\"],[\"18/19\"],[\"18/19\"],[\"19/20\"],[\"19/20\"],[\"20/21\"],[\"20/21\"],[\"20/21\"],[\"20/21\"],[\"20/21\"],[\"20/21\"],[\"20/21\"],[\"20/21\"],[\"20/21\"],[\"20/21\"],[\"20/21\"],[\"20/21\"],[\"20/21\"],[\"20/21\"],[\"20/21\"],[\"20/21\"],[\"20/21\"],[\"20/21\"],[\"20/21\"],[\"20/21\"],[\"20/21\"],[\"20/21\"],[\"20/21\"],[\"20/21\"],[\"20/21\"],[\"20/21\"],[\"20/21\"],[\"20/21\"],[\"21/22\"],[\"21/22\"],[\"21/22\"],[\"21/22\"],[\"21/22\"],[\"21/22\"],[\"21/22\"],[\"21/22\"],[\"22/23\"],[\"22/23\"],[\"22/23\"],[\"22/23\"],[\"06/07\"],[\"05/06\"],[\"05/06\"],[\"05/06\"],[\"05/06\"],[\"06/07\"],[\"06/07\"],[\"06/07\"],[\"06/07\"],[\"06/07\"],[\"06/07\"],[\"06/07\"],[\"06/07\"],[\"06/07\"],[\"06/07\"],[\"06/07\"],[\"06/07\"],[\"06/07\"],[\"06/07\"],[\"06/07\"],[\"06/07\"],[\"07/08\"],[\"07/08\"],[\"07/08\"],[\"07/08\"],[\"07/08\"],[\"07/08\"],[\"07/08\"],[\"07/08\"],[\"07/08\"],[\"07/08\"],[\"07/08\"],[\"07/08\"],[\"07/08\"],[\"07/08\"],[\"07/08\"],[\"07/08\"],[\"08/09\"],[\"08/09\"],[\"08/09\"],[\"08/09\"],[\"08/09\"],[\"08/09\"],[\"08/09\"],[\"08/09\"],[\"08/09\"],[\"08/09\"],[\"08/09\"],[\"08/09\"],[\"08/09\"],[\"08/09\"],[\"08/09\"],[\"08/09\"],[\"08/09\"],[\"08/09\"],[\"08/09\"],[\"08/09\"],[\"08/09\"],[\"08/09\"],[\"08/09\"],[\"08/09\"],[\"08/09\"],[\"08/09\"],[\"08/09\"],[\"08/09\"],[\"08/09\"],[\"08/09\"],[\"08/09\"],[\"08/09\"],[\"08/09\"],[\"08/09\"],[\"09/10\"],[\"09/10\"],[\"09/10\"],[\"09/10\"],[\"09/10\"],[\"09/10\"],[\"09/10\"],[\"09/10\"],[\"09/10\"],[\"09/10\"],[\"09/10\"],[\"09/10\"],[\"09/10\"],[\"09/10\"],[\"09/10\"],[\"09/10\"],[\"09/10\"],[\"09/10\"],[\"09/10\"],[\"09/10\"],[\"09/10\"],[\"09/10\"],[\"09/10\"],[\"09/10\"],[\"09/10\"],[\"09/10\"],[\"09/10\"],[\"09/10\"],[\"09/10\"],[\"09/10\"],[\"09/10\"],[\"09/10\"],[\"09/10\"],[\"09/10\"],[\"09/10\"],[\"09/10\"],[\"10/11\"],[\"10/11\"],[\"10/11\"],[\"10/11\"],[\"10/11\"],[\"10/11\"],[\"10/11\"],[\"10/11\"],[\"10/11\"],[\"10/11\"],[\"11-Dec\"],[\"11-Dec\"],[\"11-Dec\"],[\"11-Dec\"],[\"14/15\"],[\"14/15\"],[\"14/15\"],[\"14/15\"],[\"14/15\"],[\"14/15\"],[\"14/15\"],[\"14/15\"],[\"14/15\"],[\"14/15\"],[\"14/15\"],[\"14/15\"],[\"14/15\"],[\"14/15\"],[\"14/15\"],[\"14/15\"],[\"14/15\"],[\"14/15\"],[\"14/15\"],[\"14/15\"],[\"14/15\"],[\"14/15\"],[\"14/15\"],[\"14/15\"],[\"14/15\"],[\"14/15\"],[\"14/15\"],[\"14/15\"],[\"14/15\"],[\"14/15\"],[\"14/15\"],[\"14/15\"],[\"14/15\"],[\"14/15\"],[\"14/15\"],[\"14/15\"],[\"14/15\"],[\"14/15\"],[\"14/15\"],[\"14/15\"],[\"14/15\"],[\"15/16\"],[\"15/16\"],[\"15/16\"],[\"15/16\"],[\"15/16\"],[\"15/16\"],[\"15/16\"],[\"15/16\"],[\"15/16\"],[\"15/16\"],[\"15/16\"],[\"15/16\"],[\"15/16\"],[\"15/16\"],[\"15/16\"],[\"15/16\"],[\"15/16\"],[\"15/16\"],[\"15/16\"],[\"15/16\"],[\"15/16\"],[\"15/16\"],[\"15/16\"],[\"15/16\"],[\"15/16\"],[\"15/16\"],[\"15/16\"],[\"15/16\"],[\"15/16\"],[\"15/16\"],[\"15/16\"],[\"15/16\"],[\"15/16\"],[\"15/16\"],[\"15/16\"],[\"15/16\"],[\"15/16\"],[\"16/17\"],[\"16/17\"],[\"16/17\"],[\"16/17\"],[\"16/17\"],[\"16/17\"],[\"16/17\"],[\"16/17\"],[\"16/17\"],[\"16/17\"],[\"16/17\"],[\"16/17\"],[\"16/17\"],[\"16/17\"],[\"16/17\"],[\"16/17\"],[\"16/17\"],[\"16/17\"],[\"16/17\"],[\"16/17\"],[\"16/17\"],[\"16/17\"],[\"16/17\"],[\"16/17\"],[\"16/17\"],[\"16/17\"],[\"16/17\"],[\"16/17\"],[\"16/17\"],[\"16/17\"],[\"16/17\"],[\"16/17\"],[\"16/17\"],[\"16/17\"],[\"16/17\"],[\"16/17\"],[\"16/17\"],[\"16/17\"],[\"16/17\"],[\"16/17\"],[\"16/17\"],[\"16/17\"],[\"16/17\"],[\"16/17\"],[\"16/17\"],[\"16/17\"],[\"16/17\"],[\"17/18\"],[\"17/18\"],[\"17/18\"],[\"18/19\"],[\"18/19\"],[\"18/19\"],[\"18/19\"],[\"18/19\"],[\"18/19\"],[\"18/19\"],[\"18/19\"],[\"18/19\"],[\"18/19\"],[\"18/19\"],[\"18/19\"],[\"18/19\"],[\"18/19\"],[\"18/19\"],[\"18/19\"],[\"18/19\"],[\"18/19\"],[\"18/19\"],[\"18/19\"],[\"18/19\"],[\"18/19\"],[\"18/19\"],[\"18/19\"],[\"18/19\"],[\"18/19\"],[\"18/19\"],[\"18/19\"],[\"18/19\"],[\"18/19\"],[\"18/19\"],[\"18/19\"],[\"18/19\"],[\"18/19\"],[\"18/19\"],[\"18/19\"],[\"19/20\"],[\"19/20\"],[\"19/20\"],[\"19/20\"],[\"19/20\"],[\"19/20\"],[\"19/20\"],[\"19/20\"],[\"19/20\"],[\"19/20\"],[\"19/20\"],[\"19/20\"],[\"19/20\"],[\"19/20\"],[\"19/20\"],[\"19/20\"],[\"19/20\"],[\"19/20\"],[\"19/20\"],[\"19/20\"],[\"19/20\"],[\"19/20\"],[\"19/20\"],[\"20/21\"],[\"20/21\"],[\"21/22\"],[\"21/22\"],[\"21/22\"],[\"21/22\"],[\"21/22\"],[\"21/22\"],[\"11-Dec\"],[\"17/18\"],[\"17/18\"],[\"17/18\"],[\"17/18\"],[\"17/18\"],[\"17/18\"],[\"17/18\"],[\"17/18\"],[\"17/18\"],[\"17/18\"],[\"17/18\"],[\"17/18\"],[\"17/18\"],[\"17/18\"],[\"17/18\"],[\"17/18\"],[\"17/18\"],[\"17/18\"],[\"17/18\"],[\"17/18\"],[\"17/18\"],[\"17/18\"],[\"17/18\"],[\"17/18\"],[\"17/18\"],[\"17/18\"],[\"18/19\"],[\"18/19\"],[\"18/19\"],[\"18/19\"],[\"18/19\"],[\"18/19\"],[\"18/19\"],[\"18/19\"],[\"18/19\"],[\"18/19\"],[\"19/20\"],[\"19/20\"],[\"19/20\"],[\"19/20\"],[\"19/20\"],[\"19/20\"],[\"20/21\"],[\"20/21\"],[\"20/21\"],[\"20/21\"],[\"20/21\"],[\"20/21\"],[\"20/21\"],[\"22/23\"],[\"22/23\"],[\"22/23\"]],\"domain\":{\"x\":[0.0,1.0],\"y\":[0.0,1.0]},\"hovertemplate\":\"label=%{label}<br>value=%{value}<br>hover_data_0=%{customdata[0]}<extra></extra>\",\"labels\":[\"AM\",\"AM\",\"AM\",\"AM\",\"AM\",\"AM\",\"AM\",\"AM\",\"AM\",\"AM\",\"AM\",\"AM\",\"AM\",\"AM\",\"AM\",\"CF\",\"CF\",\"CF\",\"CF\",\"CF\",\"CF\",\"CF\",\"CF\",\"CF\",\"CF\",\"CF\",\"CF\",\"CF\",\"CF\",\"CF\",\"CF\",\"CF\",\"CF\",\"CF\",\"CF\",\"CF\",\"CF\",\"CF\",\"CF\",\"CF\",\"CF\",\"CF\",\"CF\",\"CF\",\"CF\",\"CF\",\"CF\",\"CF\",\"CF\",\"CF\",\"CF\",\"CF\",\"CF\",\"CF\",\"CF\",\"CF\",\"CF\",\"CF\",\"CF\",\"CF\",\"CF\",\"CF\",\"CF\",\"CF\",\"CF\",\"CF\",\"CF\",\"CF\",\"CF\",\"CF\",\"CF\",\"CF\",\"CF\",\"CF\",\"CF\",\"CF\",\"CF\",\"CF\",\"CF\",\"CF\",\"CF\",\"CF\",\"CF\",\"CF\",\"CF\",\"CF\",\"CF\",\"CF\",\"CF\",\"CF\",\"CF\",\"CF\",\"CF\",\"CF\",\"CF\",\"CF\",\"CF\",\"CF\",\"CF\",\"CF\",\"CF\",\"CF\",\"CF\",\"CF\",\"CF\",\"CF\",\"CF\",\"CF\",\"CF\",\"CF\",\"CF\",\"CF\",\"CF\",\"CF\",\"CF\",\"CF\",\"CF\",\"CF\",\"CF\",\"CF\",\"CF\",\"CF\",\"CF\",\"CF\",\"CF\",\"CF\",\"CF\",\"CF\",\"CF\",\"CF\",\"CF\",\"CF\",\"CF\",\"CF\",\"CF\",\"CF\",\"CF\",\"CF\",\"CF\",\"CF\",\"CF\",\"CF\",\"CF\",\"CF\",\"CF\",\"CF\",\"CF\",\"CF\",\"CF\",\"CF\",\"CF\",\"CF\",\"CF\",\"CF\",\"CF\",\"CF\",\"CF\",\"CF\",\"CF\",\"CF\",\"CF\",\"CF\",\"CF\",\"CF\",\"CF\",\"CF\",\"CF\",\"CF\",\"CF\",\"CF\",\"CF\",\"CF\",\"CF\",\"CF\",\"CF\",\"CF\",\"CF\",\"CF\",\"CF\",\"CF\",\"CF\",\"CF\",\"CF\",\"CF\",\"CF\",\"CF\",\"CF\",\"CF\",\"CF\",\"CF\",\"CF\",\"CF\",\"CF\",\"CF\",\"CF\",\"CF\",\"CF\",\"CF\",\"CF\",\"CF\",\"CF\",\"CF\",\"CF\",\"CF\",\"CF\",\"CF\",\"CF\",\"CF\",\"CF\",\"CF\",\"CF\",\"CF\",\"CF\",\"CF\",\"CF\",\"CF\",\"CF\",\"CF\",\"CF\",\"CF\",\"CF\",\"CF\",\"CF\",\"CF\",\"CF\",\"CF\",\"CF\",\"CF\",\"CF\",\"CF\",\"CF\",\"CF\",\"CF\",\"CF\",\"CF\",\"CF\",\"CF\",\"CF\",\"CF\",\"CF\",\"CF\",\"CF\",\"CF\",\"CF\",\"CF\",\"CF\",\"CF\",\"CF\",\"CF\",\"CF\",\"CF\",\"CF\",\"CF\",\"CF\",\"CF\",\"CF\",\"CF\",\"CF\",\"CF\",\"CF\",\"CF\",\"CF\",\"CF\",\"CF\",\"CF\",\"CF\",\"CF\",\"CF\",\"CF\",\"CF\",\"CF\",\"CF\",\"CF\",\"CF\",\"CF\",\"CF\",\"CF\",\"CF\",\"CF\",\"CF\",\"CF\",\"CF\",\"CF\",\"CF\",\"CF\",\"CF\",\"CF\",\"CF\",\"CF\",\"CF\",\"CF\",\"CF\",\"CF\",\"CF\",\"CF\",\"CF\",\"CF\",\"CF\",\"CF\",\"CF\",\"CF\",\"CF\",\"CF\",\"CF\",\"CF\",\"CF\",\"CF\",\"CF\",\"CF\",\"CF\",\"CF\",\"CF\",\"CF\",\"CF\",\"CF\",\"CF\",\"CF\",\"CF\",\"CF\",\"CF\",\"CF\",\"CF\",\"CF\",\"CF\",\"CF\",\"CF\",\"CF\",\"CF\",\"LW\",\"RW\",\"RW\",\"RW\",\"RW\",\"RW\",\"RW\",\"RW\",\"RW\",\"RW\",\"RW\",\"RW\",\"RW\",\"RW\",\"RW\",\"RW\",\"RW\",\"RW\",\"RW\",\"RW\",\"RW\",\"RW\",\"RW\",\"RW\",\"RW\",\"RW\",\"RW\",\"RW\",\"RW\",\"RW\",\"RW\",\"RW\",\"RW\",\"RW\",\"RW\",\"RW\",\"RW\",\"RW\",\"RW\",\"RW\",\"RW\",\"RW\",\"RW\",\"RW\",\"RW\",\"RW\",\"RW\",\"RW\",\"RW\",\"RW\",\"RW\",\"RW\",\"RW\",\"RW\",\"RW\",\"RW\",\"RW\",\"RW\",\"RW\",\"RW\",\"RW\",\"RW\",\"RW\",\"RW\",\"RW\",\"RW\",\"RW\",\"RW\",\"RW\",\"RW\",\"RW\",\"RW\",\"RW\",\"RW\",\"RW\",\"RW\",\"RW\",\"RW\",\"RW\",\"RW\",\"RW\",\"RW\",\"RW\",\"RW\",\"RW\",\"RW\",\"RW\",\"RW\",\"RW\",\"RW\",\"RW\",\"RW\",\"RW\",\"RW\",\"RW\",\"RW\",\"RW\",\"RW\",\"RW\",\"RW\",\"RW\",\"RW\",\"RW\",\"RW\",\"RW\",\"RW\",\"RW\",\"RW\",\"RW\",\"RW\",\"RW\",\"RW\",\"RW\",\"RW\",\"RW\",\"RW\",\"RW\",\"RW\",\"RW\",\"RW\",\"RW\",\"RW\",\"RW\",\"RW\",\"RW\",\"RW\",\"RW\",\"RW\",\"RW\",\"RW\",\"RW\",\"RW\",\"RW\",\"RW\",\"RW\",\"RW\",\"RW\",\"RW\",\"RW\",\"RW\",\"RW\",\"RW\",\"RW\",\"RW\",\"RW\",\"RW\",\"RW\",\"RW\",\"RW\",\"RW\",\"RW\",\"RW\",\"RW\",\"RW\",\"RW\",\"RW\",\"RW\",\"RW\",\"RW\",\"RW\",\"RW\",\"RW\",\"RW\",\"RW\",\"RW\",\"RW\",\"RW\",\"RW\",\"RW\",\"RW\",\"RW\",\"RW\",\"RW\",\"RW\",\"RW\",\"RW\",\"RW\",\"RW\",\"RW\",\"RW\",\"RW\",\"RW\",\"RW\",\"RW\",\"RW\",\"RW\",\"RW\",\"RW\",\"RW\",\"RW\",\"RW\",\"RW\",\"RW\",\"RW\",\"RW\",\"RW\",\"RW\",\"RW\",\"RW\",\"RW\",\"RW\",\"RW\",\"RW\",\"RW\",\"RW\",\"RW\",\"RW\",\"RW\",\"RW\",\"RW\",\"RW\",\"RW\",\"RW\",\"RW\",\"RW\",\"RW\",\"RW\",\"RW\",\"RW\",\"RW\",\"RW\",\"RW\",\"RW\",\"RW\",\"RW\",\"RW\",\"RW\",\"RW\",\"RW\",\"RW\",\"RW\",\"RW\",\"RW\",\"RW\",\"RW\",\"RW\",\"RW\",\"RW\",\"RW\",\"RW\",\"RW\",\"RW\",\"RW\",\"RW\",\"RW\",\"RW\",\"RW\",\"RW\",\"RW\",\"RW\",\"RW\",\"RW\",\"RW\",\"RW\",\"RW\",\"RW\",\"RW\",\"RW\",\"RW\",\"RW\",\"RW\",\"RW\",\"RW\",\"RW\",\"RW\",\"RW\",\"RW\",\"RW\",\"RW\",\"RW\",\"RW\",\"RW\",\"RW\",\"RW\",\"RW\",\"RW\",\"RW\",\"RW\",\"RW\",\"RW\",\"RW\",\"RW\",\"RW\",\"RW\",\"RW\",\"RW\",\"RW\",\"RW\",\"RW\",\"RW\",\"RW\",\"RW\",\"RW\",\"RW\",\"RW\",\"RW\",\"RW\",\"RW\",\"RW\",\"RW\",\"RW\",\"RW\",\"RW\",\"RW\",\"RW\",\"RW\",\"RW\",\"RW\",\"RW\",\"RW\",\"RW\",\"RW\",\"RW\",\"RW\",\"RW\",\"RW\",\"SS\",\"SS\",\"SS\",\"SS\",\"SS\",\"SS\",\"SS\",\"SS\",\"SS\",\"SS\",\"SS\",\"SS\",\"SS\",\"SS\",\"SS\",\"SS\",\"SS\",\"SS\",\"SS\",\"SS\",\"SS\",\"SS\",\"SS\",\"SS\",\"SS\",\"SS\",\"SS\",\"SS\",\"SS\",\"SS\",\"SS\",\"SS\",\"SS\",\"SS\",\"SS\",\"SS\",\"SS\",\"SS\",\"SS\",\"SS\",\"SS\",\"SS\",\"SS\",\"SS\",\"SS\",\"SS\",\"SS\",\"SS\",\"SS\",\"SS\",\"SS\",\"SS\",\"SS\"],\"legendgroup\":\"\",\"name\":\"\",\"showlegend\":true,\"values\":[15,15,15,15,15,15,15,15,15,15,15,15,15,15,15,313,313,313,313,313,313,313,313,313,313,313,313,313,313,313,313,313,313,313,313,313,313,313,313,313,313,313,313,313,313,313,313,313,313,313,313,313,313,313,313,313,313,313,313,313,313,313,313,313,313,313,313,313,313,313,313,313,313,313,313,313,313,313,313,313,313,313,313,313,313,313,313,313,313,313,313,313,313,313,313,313,313,313,313,313,313,313,313,313,313,313,313,313,313,313,313,313,313,313,313,313,313,313,313,313,313,313,313,313,313,313,313,313,313,313,313,313,313,313,313,313,313,313,313,313,313,313,313,313,313,313,313,313,313,313,313,313,313,313,313,313,313,313,313,313,313,313,313,313,313,313,313,313,313,313,313,313,313,313,313,313,313,313,313,313,313,313,313,313,313,313,313,313,313,313,313,313,313,313,313,313,313,313,313,313,313,313,313,313,313,313,313,313,313,313,313,313,313,313,313,313,313,313,313,313,313,313,313,313,313,313,313,313,313,313,313,313,313,313,313,313,313,313,313,313,313,313,313,313,313,313,313,313,313,313,313,313,313,313,313,313,313,313,313,313,313,313,313,313,313,313,313,313,313,313,313,313,313,313,313,313,313,313,313,313,313,313,313,313,313,313,313,313,313,313,313,313,313,313,313,313,313,313,313,313,313,313,313,313,313,313,313,313,313,313,313,313,313,313,313,313,313,313,313,313,313,313,313,313,313,313,313,313,1,315,315,315,315,315,315,315,315,315,315,315,315,315,315,315,315,315,315,315,315,315,315,315,315,315,315,315,315,315,315,315,315,315,315,315,315,315,315,315,315,315,315,315,315,315,315,315,315,315,315,315,315,315,315,315,315,315,315,315,315,315,315,315,315,315,315,315,315,315,315,315,315,315,315,315,315,315,315,315,315,315,315,315,315,315,315,315,315,315,315,315,315,315,315,315,315,315,315,315,315,315,315,315,315,315,315,315,315,315,315,315,315,315,315,315,315,315,315,315,315,315,315,315,315,315,315,315,315,315,315,315,315,315,315,315,315,315,315,315,315,315,315,315,315,315,315,315,315,315,315,315,315,315,315,315,315,315,315,315,315,315,315,315,315,315,315,315,315,315,315,315,315,315,315,315,315,315,315,315,315,315,315,315,315,315,315,315,315,315,315,315,315,315,315,315,315,315,315,315,315,315,315,315,315,315,315,315,315,315,315,315,315,315,315,315,315,315,315,315,315,315,315,315,315,315,315,315,315,315,315,315,315,315,315,315,315,315,315,315,315,315,315,315,315,315,315,315,315,315,315,315,315,315,315,315,315,315,315,315,315,315,315,315,315,315,315,315,315,315,315,315,315,315,315,315,315,315,315,315,315,315,315,315,315,315,315,315,315,315,315,315,315,315,315,315,315,315,315,315,315,315,315,315,315,315,315,315,315,315,315,315,315,315,315,315,53,53,53,53,53,53,53,53,53,53,53,53,53,53,53,53,53,53,53,53,53,53,53,53,53,53,53,53,53,53,53,53,53,53,53,53,53,53,53,53,53,53,53,53,53,53,53,53,53,53,53,53,53],\"type\":\"pie\",\"textinfo\":\"percent+label\",\"textposition\":\"inside\"}],                        {\"template\":{\"data\":{\"bar\":[{\"error_x\":{\"color\":\"#2a3f5f\"},\"error_y\":{\"color\":\"#2a3f5f\"},\"marker\":{\"line\":{\"color\":\"#E5ECF6\",\"width\":0.5},\"pattern\":{\"fillmode\":\"overlay\",\"size\":10,\"solidity\":0.2}},\"type\":\"bar\"}],\"barpolar\":[{\"marker\":{\"line\":{\"color\":\"#E5ECF6\",\"width\":0.5},\"pattern\":{\"fillmode\":\"overlay\",\"size\":10,\"solidity\":0.2}},\"type\":\"barpolar\"}],\"carpet\":[{\"aaxis\":{\"endlinecolor\":\"#2a3f5f\",\"gridcolor\":\"white\",\"linecolor\":\"white\",\"minorgridcolor\":\"white\",\"startlinecolor\":\"#2a3f5f\"},\"baxis\":{\"endlinecolor\":\"#2a3f5f\",\"gridcolor\":\"white\",\"linecolor\":\"white\",\"minorgridcolor\":\"white\",\"startlinecolor\":\"#2a3f5f\"},\"type\":\"carpet\"}],\"choropleth\":[{\"colorbar\":{\"outlinewidth\":0,\"ticks\":\"\"},\"type\":\"choropleth\"}],\"contour\":[{\"colorbar\":{\"outlinewidth\":0,\"ticks\":\"\"},\"colorscale\":[[0.0,\"#0d0887\"],[0.1111111111111111,\"#46039f\"],[0.2222222222222222,\"#7201a8\"],[0.3333333333333333,\"#9c179e\"],[0.4444444444444444,\"#bd3786\"],[0.5555555555555556,\"#d8576b\"],[0.6666666666666666,\"#ed7953\"],[0.7777777777777778,\"#fb9f3a\"],[0.8888888888888888,\"#fdca26\"],[1.0,\"#f0f921\"]],\"type\":\"contour\"}],\"contourcarpet\":[{\"colorbar\":{\"outlinewidth\":0,\"ticks\":\"\"},\"type\":\"contourcarpet\"}],\"heatmap\":[{\"colorbar\":{\"outlinewidth\":0,\"ticks\":\"\"},\"colorscale\":[[0.0,\"#0d0887\"],[0.1111111111111111,\"#46039f\"],[0.2222222222222222,\"#7201a8\"],[0.3333333333333333,\"#9c179e\"],[0.4444444444444444,\"#bd3786\"],[0.5555555555555556,\"#d8576b\"],[0.6666666666666666,\"#ed7953\"],[0.7777777777777778,\"#fb9f3a\"],[0.8888888888888888,\"#fdca26\"],[1.0,\"#f0f921\"]],\"type\":\"heatmap\"}],\"heatmapgl\":[{\"colorbar\":{\"outlinewidth\":0,\"ticks\":\"\"},\"colorscale\":[[0.0,\"#0d0887\"],[0.1111111111111111,\"#46039f\"],[0.2222222222222222,\"#7201a8\"],[0.3333333333333333,\"#9c179e\"],[0.4444444444444444,\"#bd3786\"],[0.5555555555555556,\"#d8576b\"],[0.6666666666666666,\"#ed7953\"],[0.7777777777777778,\"#fb9f3a\"],[0.8888888888888888,\"#fdca26\"],[1.0,\"#f0f921\"]],\"type\":\"heatmapgl\"}],\"histogram\":[{\"marker\":{\"pattern\":{\"fillmode\":\"overlay\",\"size\":10,\"solidity\":0.2}},\"type\":\"histogram\"}],\"histogram2d\":[{\"colorbar\":{\"outlinewidth\":0,\"ticks\":\"\"},\"colorscale\":[[0.0,\"#0d0887\"],[0.1111111111111111,\"#46039f\"],[0.2222222222222222,\"#7201a8\"],[0.3333333333333333,\"#9c179e\"],[0.4444444444444444,\"#bd3786\"],[0.5555555555555556,\"#d8576b\"],[0.6666666666666666,\"#ed7953\"],[0.7777777777777778,\"#fb9f3a\"],[0.8888888888888888,\"#fdca26\"],[1.0,\"#f0f921\"]],\"type\":\"histogram2d\"}],\"histogram2dcontour\":[{\"colorbar\":{\"outlinewidth\":0,\"ticks\":\"\"},\"colorscale\":[[0.0,\"#0d0887\"],[0.1111111111111111,\"#46039f\"],[0.2222222222222222,\"#7201a8\"],[0.3333333333333333,\"#9c179e\"],[0.4444444444444444,\"#bd3786\"],[0.5555555555555556,\"#d8576b\"],[0.6666666666666666,\"#ed7953\"],[0.7777777777777778,\"#fb9f3a\"],[0.8888888888888888,\"#fdca26\"],[1.0,\"#f0f921\"]],\"type\":\"histogram2dcontour\"}],\"mesh3d\":[{\"colorbar\":{\"outlinewidth\":0,\"ticks\":\"\"},\"type\":\"mesh3d\"}],\"parcoords\":[{\"line\":{\"colorbar\":{\"outlinewidth\":0,\"ticks\":\"\"}},\"type\":\"parcoords\"}],\"pie\":[{\"automargin\":true,\"type\":\"pie\"}],\"scatter\":[{\"marker\":{\"colorbar\":{\"outlinewidth\":0,\"ticks\":\"\"}},\"type\":\"scatter\"}],\"scatter3d\":[{\"line\":{\"colorbar\":{\"outlinewidth\":0,\"ticks\":\"\"}},\"marker\":{\"colorbar\":{\"outlinewidth\":0,\"ticks\":\"\"}},\"type\":\"scatter3d\"}],\"scattercarpet\":[{\"marker\":{\"colorbar\":{\"outlinewidth\":0,\"ticks\":\"\"}},\"type\":\"scattercarpet\"}],\"scattergeo\":[{\"marker\":{\"colorbar\":{\"outlinewidth\":0,\"ticks\":\"\"}},\"type\":\"scattergeo\"}],\"scattergl\":[{\"marker\":{\"colorbar\":{\"outlinewidth\":0,\"ticks\":\"\"}},\"type\":\"scattergl\"}],\"scattermapbox\":[{\"marker\":{\"colorbar\":{\"outlinewidth\":0,\"ticks\":\"\"}},\"type\":\"scattermapbox\"}],\"scatterpolar\":[{\"marker\":{\"colorbar\":{\"outlinewidth\":0,\"ticks\":\"\"}},\"type\":\"scatterpolar\"}],\"scatterpolargl\":[{\"marker\":{\"colorbar\":{\"outlinewidth\":0,\"ticks\":\"\"}},\"type\":\"scatterpolargl\"}],\"scatterternary\":[{\"marker\":{\"colorbar\":{\"outlinewidth\":0,\"ticks\":\"\"}},\"type\":\"scatterternary\"}],\"surface\":[{\"colorbar\":{\"outlinewidth\":0,\"ticks\":\"\"},\"colorscale\":[[0.0,\"#0d0887\"],[0.1111111111111111,\"#46039f\"],[0.2222222222222222,\"#7201a8\"],[0.3333333333333333,\"#9c179e\"],[0.4444444444444444,\"#bd3786\"],[0.5555555555555556,\"#d8576b\"],[0.6666666666666666,\"#ed7953\"],[0.7777777777777778,\"#fb9f3a\"],[0.8888888888888888,\"#fdca26\"],[1.0,\"#f0f921\"]],\"type\":\"surface\"}],\"table\":[{\"cells\":{\"fill\":{\"color\":\"#EBF0F8\"},\"line\":{\"color\":\"white\"}},\"header\":{\"fill\":{\"color\":\"#C8D4E3\"},\"line\":{\"color\":\"white\"}},\"type\":\"table\"}]},\"layout\":{\"annotationdefaults\":{\"arrowcolor\":\"#2a3f5f\",\"arrowhead\":0,\"arrowwidth\":1},\"autotypenumbers\":\"strict\",\"coloraxis\":{\"colorbar\":{\"outlinewidth\":0,\"ticks\":\"\"}},\"colorscale\":{\"diverging\":[[0,\"#8e0152\"],[0.1,\"#c51b7d\"],[0.2,\"#de77ae\"],[0.3,\"#f1b6da\"],[0.4,\"#fde0ef\"],[0.5,\"#f7f7f7\"],[0.6,\"#e6f5d0\"],[0.7,\"#b8e186\"],[0.8,\"#7fbc41\"],[0.9,\"#4d9221\"],[1,\"#276419\"]],\"sequential\":[[0.0,\"#0d0887\"],[0.1111111111111111,\"#46039f\"],[0.2222222222222222,\"#7201a8\"],[0.3333333333333333,\"#9c179e\"],[0.4444444444444444,\"#bd3786\"],[0.5555555555555556,\"#d8576b\"],[0.6666666666666666,\"#ed7953\"],[0.7777777777777778,\"#fb9f3a\"],[0.8888888888888888,\"#fdca26\"],[1.0,\"#f0f921\"]],\"sequentialminus\":[[0.0,\"#0d0887\"],[0.1111111111111111,\"#46039f\"],[0.2222222222222222,\"#7201a8\"],[0.3333333333333333,\"#9c179e\"],[0.4444444444444444,\"#bd3786\"],[0.5555555555555556,\"#d8576b\"],[0.6666666666666666,\"#ed7953\"],[0.7777777777777778,\"#fb9f3a\"],[0.8888888888888888,\"#fdca26\"],[1.0,\"#f0f921\"]]},\"colorway\":[\"#636efa\",\"#EF553B\",\"#00cc96\",\"#ab63fa\",\"#FFA15A\",\"#19d3f3\",\"#FF6692\",\"#B6E880\",\"#FF97FF\",\"#FECB52\"],\"font\":{\"color\":\"#2a3f5f\"},\"geo\":{\"bgcolor\":\"white\",\"lakecolor\":\"white\",\"landcolor\":\"#E5ECF6\",\"showlakes\":true,\"showland\":true,\"subunitcolor\":\"white\"},\"hoverlabel\":{\"align\":\"left\"},\"hovermode\":\"closest\",\"mapbox\":{\"style\":\"light\"},\"paper_bgcolor\":\"white\",\"plot_bgcolor\":\"#E5ECF6\",\"polar\":{\"angularaxis\":{\"gridcolor\":\"white\",\"linecolor\":\"white\",\"ticks\":\"\"},\"bgcolor\":\"#E5ECF6\",\"radialaxis\":{\"gridcolor\":\"white\",\"linecolor\":\"white\",\"ticks\":\"\"}},\"scene\":{\"xaxis\":{\"backgroundcolor\":\"#E5ECF6\",\"gridcolor\":\"white\",\"gridwidth\":2,\"linecolor\":\"white\",\"showbackground\":true,\"ticks\":\"\",\"zerolinecolor\":\"white\"},\"yaxis\":{\"backgroundcolor\":\"#E5ECF6\",\"gridcolor\":\"white\",\"gridwidth\":2,\"linecolor\":\"white\",\"showbackground\":true,\"ticks\":\"\",\"zerolinecolor\":\"white\"},\"zaxis\":{\"backgroundcolor\":\"#E5ECF6\",\"gridcolor\":\"white\",\"gridwidth\":2,\"linecolor\":\"white\",\"showbackground\":true,\"ticks\":\"\",\"zerolinecolor\":\"white\"}},\"shapedefaults\":{\"line\":{\"color\":\"#2a3f5f\"}},\"ternary\":{\"aaxis\":{\"gridcolor\":\"white\",\"linecolor\":\"white\",\"ticks\":\"\"},\"baxis\":{\"gridcolor\":\"white\",\"linecolor\":\"white\",\"ticks\":\"\"},\"bgcolor\":\"#E5ECF6\",\"caxis\":{\"gridcolor\":\"white\",\"linecolor\":\"white\",\"ticks\":\"\"}},\"title\":{\"x\":0.05},\"xaxis\":{\"automargin\":true,\"gridcolor\":\"white\",\"linecolor\":\"white\",\"ticks\":\"\",\"title\":{\"standoff\":15},\"zerolinecolor\":\"white\",\"zerolinewidth\":2},\"yaxis\":{\"automargin\":true,\"gridcolor\":\"white\",\"linecolor\":\"white\",\"ticks\":\"\",\"title\":{\"standoff\":15},\"zerolinecolor\":\"white\",\"zerolinewidth\":2}}},\"legend\":{\"tracegroupgap\":0},\"title\":{\"text\":\"Most of Messi's position scored goals\"}},                        {\"responsive\": true}                    ).then(function(){\n",
              "                            \n",
              "var gd = document.getElementById('7b626249-6ffa-44e6-aab3-def13cc31954');\n",
              "var x = new MutationObserver(function (mutations, observer) {{\n",
              "        var display = window.getComputedStyle(gd).display;\n",
              "        if (!display || display === 'none') {{\n",
              "            console.log([gd, 'removed!']);\n",
              "            Plotly.purge(gd);\n",
              "            observer.disconnect();\n",
              "        }}\n",
              "}});\n",
              "\n",
              "// Listen for the removal of the full notebook cells\n",
              "var notebookContainer = gd.closest('#notebook-container');\n",
              "if (notebookContainer) {{\n",
              "    x.observe(notebookContainer, {childList: true});\n",
              "}}\n",
              "\n",
              "// Listen for the clearing of the current output cell\n",
              "var outputEl = gd.closest('.output');\n",
              "if (outputEl) {{\n",
              "    x.observe(outputEl, {childList: true});\n",
              "}}\n",
              "\n",
              "                        })                };                            </script>        </div>\n",
              "</body>\n",
              "</html>"
            ]
          },
          "metadata": {}
        }
      ]
    }
  ]
}